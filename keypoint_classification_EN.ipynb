{
 "cells": [
  {
   "cell_type": "code",
   "execution_count": 1,
   "metadata": {
    "id": "igMyGnjE9hEp"
   },
   "outputs": [],
   "source": [
    "import csv\n",
    "\n",
    "import numpy as np\n",
    "import tensorflow as tf\n",
    "from sklearn.model_selection import train_test_split\n",
    "\n",
    "RANDOM_SEED = 42"
   ]
  },
  {
   "cell_type": "markdown",
   "metadata": {
    "id": "t2HDvhIu9hEr"
   },
   "source": [
    "# Specify each path"
   ]
  },
  {
   "cell_type": "code",
   "execution_count": 2,
   "metadata": {
    "id": "9NvZP2Zn9hEy"
   },
   "outputs": [],
   "source": [
    "dataset = 'model/keypoint_classifier/keypoint.csv'\n",
    "model_save_path = 'model/keypoint_classifier/keypoint_classifier.hdf5'\n",
    "tflite_save_path = 'model/keypoint_classifier/keypoint_classifier.tflite'"
   ]
  },
  {
   "cell_type": "markdown",
   "metadata": {
    "id": "s5oMH7x19hEz"
   },
   "source": [
    "# Set number of classes"
   ]
  },
  {
   "cell_type": "code",
   "execution_count": 3,
   "metadata": {
    "id": "du4kodXL9hEz"
   },
   "outputs": [],
   "source": [
    "NUM_CLASSES = 5"
   ]
  },
  {
   "cell_type": "markdown",
   "metadata": {
    "id": "XjnL0uso9hEz"
   },
   "source": [
    "# Dataset reading"
   ]
  },
  {
   "cell_type": "code",
   "execution_count": 4,
   "metadata": {
    "id": "QT5ZqtEz9hE0"
   },
   "outputs": [],
   "source": [
    "X_dataset = np.loadtxt(dataset, delimiter=',', dtype='float32', usecols=list(range(1, (21 * 2) + 1)))"
   ]
  },
  {
   "cell_type": "code",
   "execution_count": 5,
   "metadata": {
    "id": "QmoKFsp49hE0"
   },
   "outputs": [],
   "source": [
    "y_dataset = np.loadtxt(dataset, delimiter=',', dtype='int32', usecols=(0))"
   ]
  },
  {
   "cell_type": "code",
   "execution_count": 6,
   "metadata": {
    "id": "xQU7JTZ_9hE0"
   },
   "outputs": [],
   "source": [
    "X_train, X_test, y_train, y_test = train_test_split(X_dataset, y_dataset, train_size=0.75, random_state=RANDOM_SEED)"
   ]
  },
  {
   "cell_type": "markdown",
   "metadata": {
    "id": "mxK_lETT9hE0"
   },
   "source": [
    "# Model building"
   ]
  },
  {
   "cell_type": "code",
   "execution_count": 7,
   "metadata": {
    "id": "vHBmUf1t9hE1"
   },
   "outputs": [],
   "source": [
    "model = tf.keras.models.Sequential([\n",
    "    tf.keras.layers.Input((21 * 2, )),\n",
    "    tf.keras.layers.Dropout(0.2),\n",
    "    tf.keras.layers.Dense(20, activation='relu'),\n",
    "    tf.keras.layers.Dropout(0.4),\n",
    "    tf.keras.layers.Dense(10, activation='relu'),\n",
    "    tf.keras.layers.Dense(NUM_CLASSES, activation='softmax')\n",
    "])"
   ]
  },
  {
   "cell_type": "code",
   "execution_count": 8,
   "metadata": {
    "colab": {
     "base_uri": "https://localhost:8080/"
    },
    "id": "ypqky9tc9hE1",
    "outputId": "5db082bb-30e3-4110-bf63-a1ee777ecd46"
   },
   "outputs": [
    {
     "name": "stdout",
     "output_type": "stream",
     "text": [
      "Model: \"sequential\"\n",
      "_________________________________________________________________\n",
      " Layer (type)                Output Shape              Param #   \n",
      "=================================================================\n",
      " dropout (Dropout)           (None, 42)                0         \n",
      "                                                                 \n",
      " dense (Dense)               (None, 20)                860       \n",
      "                                                                 \n",
      " dropout_1 (Dropout)         (None, 20)                0         \n",
      "                                                                 \n",
      " dense_1 (Dense)             (None, 10)                210       \n",
      "                                                                 \n",
      " dense_2 (Dense)             (None, 5)                 55        \n",
      "                                                                 \n",
      "=================================================================\n",
      "Total params: 1,125\n",
      "Trainable params: 1,125\n",
      "Non-trainable params: 0\n",
      "_________________________________________________________________\n"
     ]
    }
   ],
   "source": [
    "model.summary()  # tf.keras.utils.plot_model(model, show_shapes=True)"
   ]
  },
  {
   "cell_type": "code",
   "execution_count": 9,
   "metadata": {
    "id": "MbMjOflQ9hE1"
   },
   "outputs": [],
   "source": [
    "# Model checkpoint callback\n",
    "cp_callback = tf.keras.callbacks.ModelCheckpoint(\n",
    "    model_save_path, verbose=1, save_weights_only=False)\n",
    "# Callback for early stopping\n",
    "es_callback = tf.keras.callbacks.EarlyStopping(patience=20, verbose=1)"
   ]
  },
  {
   "cell_type": "code",
   "execution_count": 10,
   "metadata": {
    "id": "c3Dac0M_9hE2"
   },
   "outputs": [],
   "source": [
    "# Model compilation\n",
    "model.compile(\n",
    "    optimizer='adam',\n",
    "    loss='sparse_categorical_crossentropy',\n",
    "    metrics=['accuracy']\n",
    ")"
   ]
  },
  {
   "cell_type": "markdown",
   "metadata": {
    "id": "7XI0j1Iu9hE2"
   },
   "source": [
    "# Model training"
   ]
  },
  {
   "cell_type": "code",
   "execution_count": 11,
   "metadata": {
    "colab": {
     "base_uri": "https://localhost:8080/"
    },
    "id": "WirBl-JE9hE3",
    "outputId": "71b30ca2-8294-4d9d-8aa2-800d90d399de",
    "scrolled": true
   },
   "outputs": [
    {
     "name": "stdout",
     "output_type": "stream",
     "text": [
      "Epoch 1/1000\n",
      "21/31 [===================>..........] - ETA: 0s - loss: 1.6619 - accuracy: 0.1998  \n",
      "Epoch 1: saving model to model/keypoint_classifier\\keypoint_classifier.hdf5\n",
      "31/31 [==============================] - 2s 7ms/step - loss: 1.6425 - accuracy: 0.2140 - val_loss: 1.5343 - val_accuracy: 0.2832\n",
      "Epoch 2/1000\n",
      "23/31 [=====================>........] - ETA: 0s - loss: 1.5441 - accuracy: 0.2880\n",
      "Epoch 2: saving model to model/keypoint_classifier\\keypoint_classifier.hdf5\n",
      "31/31 [==============================] - 0s 4ms/step - loss: 1.5278 - accuracy: 0.3013 - val_loss: 1.4437 - val_accuracy: 0.4435\n",
      "Epoch 3/1000\n",
      "22/31 [====================>.........] - ETA: 0s - loss: 1.4488 - accuracy: 0.3675\n",
      "Epoch 3: saving model to model/keypoint_classifier\\keypoint_classifier.hdf5\n",
      "31/31 [==============================] - 0s 4ms/step - loss: 1.4431 - accuracy: 0.3692 - val_loss: 1.3423 - val_accuracy: 0.5046\n",
      "Epoch 4/1000\n",
      "23/31 [=====================>........] - ETA: 0s - loss: 1.3881 - accuracy: 0.3947\n",
      "Epoch 4: saving model to model/keypoint_classifier\\keypoint_classifier.hdf5\n",
      "31/31 [==============================] - 0s 4ms/step - loss: 1.3781 - accuracy: 0.4023 - val_loss: 1.2641 - val_accuracy: 0.5695\n",
      "Epoch 5/1000\n",
      "22/31 [====================>.........] - ETA: 0s - loss: 1.3289 - accuracy: 0.4222\n",
      "Epoch 5: saving model to model/keypoint_classifier\\keypoint_classifier.hdf5\n",
      "31/31 [==============================] - 0s 4ms/step - loss: 1.3213 - accuracy: 0.4290 - val_loss: 1.1952 - val_accuracy: 0.5855\n",
      "Epoch 6/1000\n",
      "21/31 [===================>..........] - ETA: 0s - loss: 1.2771 - accuracy: 0.4494\n",
      "Epoch 6: saving model to model/keypoint_classifier\\keypoint_classifier.hdf5\n",
      "31/31 [==============================] - 0s 4ms/step - loss: 1.2797 - accuracy: 0.4506 - val_loss: 1.1315 - val_accuracy: 0.6000\n",
      "Epoch 7/1000\n",
      "23/31 [=====================>........] - ETA: 0s - loss: 1.2379 - accuracy: 0.4755\n",
      "Epoch 7: saving model to model/keypoint_classifier\\keypoint_classifier.hdf5\n",
      "31/31 [==============================] - 0s 4ms/step - loss: 1.2399 - accuracy: 0.4692 - val_loss: 1.0661 - val_accuracy: 0.6183\n",
      "Epoch 8/1000\n",
      "20/31 [==================>...........] - ETA: 0s - loss: 1.1957 - accuracy: 0.4957\n",
      "Epoch 8: saving model to model/keypoint_classifier\\keypoint_classifier.hdf5\n",
      "31/31 [==============================] - 0s 4ms/step - loss: 1.1987 - accuracy: 0.4924 - val_loss: 1.0070 - val_accuracy: 0.6344\n",
      "Epoch 9/1000\n",
      "23/31 [=====================>........] - ETA: 0s - loss: 1.1754 - accuracy: 0.4946\n",
      "Epoch 9: saving model to model/keypoint_classifier\\keypoint_classifier.hdf5\n",
      "31/31 [==============================] - 0s 4ms/step - loss: 1.1626 - accuracy: 0.5013 - val_loss: 0.9513 - val_accuracy: 0.6557\n",
      "Epoch 10/1000\n",
      "24/31 [======================>.......] - ETA: 0s - loss: 1.1364 - accuracy: 0.5166\n",
      "Epoch 10: saving model to model/keypoint_classifier\\keypoint_classifier.hdf5\n",
      "31/31 [==============================] - 0s 4ms/step - loss: 1.1344 - accuracy: 0.5188 - val_loss: 0.9064 - val_accuracy: 0.6809\n",
      "Epoch 11/1000\n",
      "24/31 [======================>.......] - ETA: 0s - loss: 1.0945 - accuracy: 0.5179\n",
      "Epoch 11: saving model to model/keypoint_classifier\\keypoint_classifier.hdf5\n",
      "31/31 [==============================] - 0s 4ms/step - loss: 1.0983 - accuracy: 0.5226 - val_loss: 0.8666 - val_accuracy: 0.7145\n",
      "Epoch 12/1000\n",
      "23/31 [=====================>........] - ETA: 0s - loss: 1.0539 - accuracy: 0.5652\n",
      "Epoch 12: saving model to model/keypoint_classifier\\keypoint_classifier.hdf5\n",
      "31/31 [==============================] - 0s 4ms/step - loss: 1.0517 - accuracy: 0.5659 - val_loss: 0.8208 - val_accuracy: 0.7504\n",
      "Epoch 13/1000\n",
      "23/31 [=====================>........] - ETA: 0s - loss: 1.0553 - accuracy: 0.5465\n",
      "Epoch 13: saving model to model/keypoint_classifier\\keypoint_classifier.hdf5\n",
      "31/31 [==============================] - 0s 4ms/step - loss: 1.0380 - accuracy: 0.5588 - val_loss: 0.7867 - val_accuracy: 0.7702\n",
      "Epoch 14/1000\n",
      "22/31 [====================>.........] - ETA: 0s - loss: 1.0277 - accuracy: 0.5739\n",
      "Epoch 14: saving model to model/keypoint_classifier\\keypoint_classifier.hdf5\n",
      "31/31 [==============================] - 0s 4ms/step - loss: 1.0147 - accuracy: 0.5819 - val_loss: 0.7586 - val_accuracy: 0.7748\n",
      "Epoch 15/1000\n",
      "24/31 [======================>.......] - ETA: 0s - loss: 0.9999 - accuracy: 0.5892\n",
      "Epoch 15: saving model to model/keypoint_classifier\\keypoint_classifier.hdf5\n",
      "31/31 [==============================] - 0s 4ms/step - loss: 1.0018 - accuracy: 0.5845 - val_loss: 0.7294 - val_accuracy: 0.7870\n",
      "Epoch 16/1000\n",
      "24/31 [======================>.......] - ETA: 0s - loss: 0.9745 - accuracy: 0.5898\n",
      "Epoch 16: saving model to model/keypoint_classifier\\keypoint_classifier.hdf5\n",
      "31/31 [==============================] - 0s 4ms/step - loss: 0.9673 - accuracy: 0.5941 - val_loss: 0.7011 - val_accuracy: 0.7924\n",
      "Epoch 17/1000\n",
      "23/31 [=====================>........] - ETA: 0s - loss: 0.9572 - accuracy: 0.6090\n",
      "Epoch 17: saving model to model/keypoint_classifier\\keypoint_classifier.hdf5\n",
      "31/31 [==============================] - 0s 4ms/step - loss: 0.9508 - accuracy: 0.6071 - val_loss: 0.6756 - val_accuracy: 0.7962\n",
      "Epoch 18/1000\n",
      "22/31 [====================>.........] - ETA: 0s - loss: 0.9481 - accuracy: 0.6087\n",
      "Epoch 18: saving model to model/keypoint_classifier\\keypoint_classifier.hdf5\n",
      "31/31 [==============================] - 0s 4ms/step - loss: 0.9358 - accuracy: 0.6137 - val_loss: 0.6532 - val_accuracy: 0.8069\n",
      "Epoch 19/1000\n",
      "23/31 [=====================>........] - ETA: 0s - loss: 0.9484 - accuracy: 0.6124\n",
      "Epoch 19: saving model to model/keypoint_classifier\\keypoint_classifier.hdf5\n",
      "31/31 [==============================] - 0s 4ms/step - loss: 0.9391 - accuracy: 0.6158 - val_loss: 0.6393 - val_accuracy: 0.8107\n",
      "Epoch 20/1000\n",
      "22/31 [====================>.........] - ETA: 0s - loss: 0.8926 - accuracy: 0.6435\n",
      "Epoch 20: saving model to model/keypoint_classifier\\keypoint_classifier.hdf5\n",
      "31/31 [==============================] - 0s 4ms/step - loss: 0.9004 - accuracy: 0.6405 - val_loss: 0.6066 - val_accuracy: 0.8237\n",
      "Epoch 21/1000\n",
      "24/31 [======================>.......] - ETA: 0s - loss: 0.8809 - accuracy: 0.6523\n",
      "Epoch 21: saving model to model/keypoint_classifier\\keypoint_classifier.hdf5\n",
      "31/31 [==============================] - 0s 4ms/step - loss: 0.8772 - accuracy: 0.6496 - val_loss: 0.5786 - val_accuracy: 0.8336\n",
      "Epoch 22/1000\n",
      "23/31 [=====================>........] - ETA: 0s - loss: 0.8694 - accuracy: 0.6529\n",
      "Epoch 22: saving model to model/keypoint_classifier\\keypoint_classifier.hdf5\n",
      "31/31 [==============================] - 0s 4ms/step - loss: 0.8645 - accuracy: 0.6550 - val_loss: 0.5613 - val_accuracy: 0.8435\n",
      "Epoch 23/1000\n",
      "23/31 [=====================>........] - ETA: 0s - loss: 0.8744 - accuracy: 0.6508\n",
      "Epoch 23: saving model to model/keypoint_classifier\\keypoint_classifier.hdf5\n",
      "31/31 [==============================] - 0s 4ms/step - loss: 0.8682 - accuracy: 0.6519 - val_loss: 0.5509 - val_accuracy: 0.8519\n",
      "Epoch 24/1000\n",
      "24/31 [======================>.......] - ETA: 0s - loss: 0.8458 - accuracy: 0.6641\n",
      "Epoch 24: saving model to model/keypoint_classifier\\keypoint_classifier.hdf5\n",
      "31/31 [==============================] - 0s 4ms/step - loss: 0.8459 - accuracy: 0.6667 - val_loss: 0.5321 - val_accuracy: 0.8733\n",
      "Epoch 25/1000\n",
      "24/31 [======================>.......] - ETA: 0s - loss: 0.8549 - accuracy: 0.6523\n",
      "Epoch 25: saving model to model/keypoint_classifier\\keypoint_classifier.hdf5\n",
      "31/31 [==============================] - 0s 4ms/step - loss: 0.8506 - accuracy: 0.6539 - val_loss: 0.5277 - val_accuracy: 0.8840\n",
      "Epoch 26/1000\n",
      "23/31 [=====================>........] - ETA: 0s - loss: 0.8442 - accuracy: 0.6804\n",
      "Epoch 26: saving model to model/keypoint_classifier\\keypoint_classifier.hdf5\n",
      "31/31 [==============================] - 0s 4ms/step - loss: 0.8447 - accuracy: 0.6761 - val_loss: 0.5089 - val_accuracy: 0.8954\n",
      "Epoch 27/1000\n",
      "23/31 [=====================>........] - ETA: 0s - loss: 0.8259 - accuracy: 0.6702\n",
      "Epoch 27: saving model to model/keypoint_classifier\\keypoint_classifier.hdf5\n",
      "31/31 [==============================] - 0s 4ms/step - loss: 0.8298 - accuracy: 0.6707 - val_loss: 0.4945 - val_accuracy: 0.8916\n",
      "Epoch 28/1000\n"
     ]
    },
    {
     "name": "stdout",
     "output_type": "stream",
     "text": [
      "24/31 [======================>.......] - ETA: 0s - loss: 0.7954 - accuracy: 0.6829\n",
      "Epoch 28: saving model to model/keypoint_classifier\\keypoint_classifier.hdf5\n",
      "31/31 [==============================] - 0s 4ms/step - loss: 0.8044 - accuracy: 0.6830 - val_loss: 0.4830 - val_accuracy: 0.9069\n",
      "Epoch 29/1000\n",
      "22/31 [====================>.........] - ETA: 0s - loss: 0.8094 - accuracy: 0.6843\n",
      "Epoch 29: saving model to model/keypoint_classifier\\keypoint_classifier.hdf5\n",
      "31/31 [==============================] - 0s 4ms/step - loss: 0.8132 - accuracy: 0.6819 - val_loss: 0.4707 - val_accuracy: 0.9061\n",
      "Epoch 30/1000\n",
      "17/31 [===============>..............] - ETA: 0s - loss: 0.8089 - accuracy: 0.6760\n",
      "Epoch 30: saving model to model/keypoint_classifier\\keypoint_classifier.hdf5\n",
      "31/31 [==============================] - 0s 5ms/step - loss: 0.7984 - accuracy: 0.6850 - val_loss: 0.4669 - val_accuracy: 0.9099\n",
      "Epoch 31/1000\n",
      "18/31 [================>.............] - ETA: 0s - loss: 0.7853 - accuracy: 0.6862\n",
      "Epoch 31: saving model to model/keypoint_classifier\\keypoint_classifier.hdf5\n",
      "31/31 [==============================] - 0s 4ms/step - loss: 0.7822 - accuracy: 0.6921 - val_loss: 0.4496 - val_accuracy: 0.9122\n",
      "Epoch 32/1000\n",
      "19/31 [=================>............] - ETA: 0s - loss: 0.7763 - accuracy: 0.7093\n",
      "Epoch 32: saving model to model/keypoint_classifier\\keypoint_classifier.hdf5\n",
      "31/31 [==============================] - 0s 4ms/step - loss: 0.7776 - accuracy: 0.7079 - val_loss: 0.4396 - val_accuracy: 0.9107\n",
      "Epoch 33/1000\n",
      "18/31 [================>.............] - ETA: 0s - loss: 0.7485 - accuracy: 0.7079\n",
      "Epoch 33: saving model to model/keypoint_classifier\\keypoint_classifier.hdf5\n",
      "31/31 [==============================] - 0s 5ms/step - loss: 0.7724 - accuracy: 0.6972 - val_loss: 0.4323 - val_accuracy: 0.9107\n",
      "Epoch 34/1000\n",
      "17/31 [===============>..............] - ETA: 0s - loss: 0.7651 - accuracy: 0.7068\n",
      "Epoch 34: saving model to model/keypoint_classifier\\keypoint_classifier.hdf5\n",
      "31/31 [==============================] - 0s 5ms/step - loss: 0.7706 - accuracy: 0.7074 - val_loss: 0.4218 - val_accuracy: 0.9153\n",
      "Epoch 35/1000\n",
      "17/31 [===============>..............] - ETA: 0s - loss: 0.7630 - accuracy: 0.7040\n",
      "Epoch 35: saving model to model/keypoint_classifier\\keypoint_classifier.hdf5\n",
      "31/31 [==============================] - 0s 5ms/step - loss: 0.7636 - accuracy: 0.7036 - val_loss: 0.4179 - val_accuracy: 0.9092\n",
      "Epoch 36/1000\n",
      "17/31 [===============>..............] - ETA: 0s - loss: 0.7304 - accuracy: 0.7165\n",
      "Epoch 36: saving model to model/keypoint_classifier\\keypoint_classifier.hdf5\n",
      "31/31 [==============================] - 0s 5ms/step - loss: 0.7535 - accuracy: 0.7061 - val_loss: 0.4166 - val_accuracy: 0.9137\n",
      "Epoch 37/1000\n",
      "17/31 [===============>..............] - ETA: 0s - loss: 0.7557 - accuracy: 0.7109\n",
      "Epoch 37: saving model to model/keypoint_classifier\\keypoint_classifier.hdf5\n",
      "31/31 [==============================] - 0s 5ms/step - loss: 0.7517 - accuracy: 0.7135 - val_loss: 0.4120 - val_accuracy: 0.9145\n",
      "Epoch 38/1000\n",
      "18/31 [================>.............] - ETA: 0s - loss: 0.7501 - accuracy: 0.7205\n",
      "Epoch 38: saving model to model/keypoint_classifier\\keypoint_classifier.hdf5\n",
      "31/31 [==============================] - 0s 5ms/step - loss: 0.7491 - accuracy: 0.7155 - val_loss: 0.4029 - val_accuracy: 0.9153\n",
      "Epoch 39/1000\n",
      "17/31 [===============>..............] - ETA: 0s - loss: 0.7402 - accuracy: 0.7132\n",
      "Epoch 39: saving model to model/keypoint_classifier\\keypoint_classifier.hdf5\n",
      "31/31 [==============================] - 0s 5ms/step - loss: 0.7351 - accuracy: 0.7181 - val_loss: 0.3904 - val_accuracy: 0.9214\n",
      "Epoch 40/1000\n",
      "18/31 [================>.............] - ETA: 0s - loss: 0.6953 - accuracy: 0.7383\n",
      "Epoch 40: saving model to model/keypoint_classifier\\keypoint_classifier.hdf5\n",
      "31/31 [==============================] - 0s 5ms/step - loss: 0.7317 - accuracy: 0.7232 - val_loss: 0.3774 - val_accuracy: 0.9214\n",
      "Epoch 41/1000\n",
      "17/31 [===============>..............] - ETA: 0s - loss: 0.7353 - accuracy: 0.7215\n",
      "Epoch 41: saving model to model/keypoint_classifier\\keypoint_classifier.hdf5\n",
      "31/31 [==============================] - 0s 5ms/step - loss: 0.7317 - accuracy: 0.7254 - val_loss: 0.3845 - val_accuracy: 0.9206\n",
      "Epoch 42/1000\n",
      "18/31 [================>.............] - ETA: 0s - loss: 0.7450 - accuracy: 0.7157\n",
      "Epoch 42: saving model to model/keypoint_classifier\\keypoint_classifier.hdf5\n",
      "31/31 [==============================] - 0s 5ms/step - loss: 0.7395 - accuracy: 0.7191 - val_loss: 0.3797 - val_accuracy: 0.9260\n",
      "Epoch 43/1000\n",
      "16/31 [==============>...............] - ETA: 0s - loss: 0.7142 - accuracy: 0.7446\n",
      "Epoch 43: saving model to model/keypoint_classifier\\keypoint_classifier.hdf5\n",
      "31/31 [==============================] - 0s 5ms/step - loss: 0.7221 - accuracy: 0.7349 - val_loss: 0.3738 - val_accuracy: 0.9237\n",
      "Epoch 44/1000\n",
      "18/31 [================>.............] - ETA: 0s - loss: 0.7059 - accuracy: 0.7331\n",
      "Epoch 44: saving model to model/keypoint_classifier\\keypoint_classifier.hdf5\n",
      "31/31 [==============================] - 0s 5ms/step - loss: 0.7134 - accuracy: 0.7298 - val_loss: 0.3714 - val_accuracy: 0.9237\n",
      "Epoch 45/1000\n",
      "18/31 [================>.............] - ETA: 0s - loss: 0.7340 - accuracy: 0.7196\n",
      "Epoch 45: saving model to model/keypoint_classifier\\keypoint_classifier.hdf5\n",
      "31/31 [==============================] - 0s 5ms/step - loss: 0.7171 - accuracy: 0.7300 - val_loss: 0.3650 - val_accuracy: 0.9221\n",
      "Epoch 46/1000\n",
      "17/31 [===============>..............] - ETA: 0s - loss: 0.7250 - accuracy: 0.7339\n",
      "Epoch 46: saving model to model/keypoint_classifier\\keypoint_classifier.hdf5\n",
      "31/31 [==============================] - 0s 5ms/step - loss: 0.7287 - accuracy: 0.7285 - val_loss: 0.3614 - val_accuracy: 0.9244\n",
      "Epoch 47/1000\n",
      "17/31 [===============>..............] - ETA: 0s - loss: 0.7318 - accuracy: 0.7270\n",
      "Epoch 47: saving model to model/keypoint_classifier\\keypoint_classifier.hdf5\n",
      "31/31 [==============================] - 0s 5ms/step - loss: 0.7254 - accuracy: 0.7318 - val_loss: 0.3647 - val_accuracy: 0.9252\n",
      "Epoch 48/1000\n",
      "29/31 [===========================>..] - ETA: 0s - loss: 0.7032 - accuracy: 0.7363\n",
      "Epoch 48: saving model to model/keypoint_classifier\\keypoint_classifier.hdf5\n",
      "31/31 [==============================] - 0s 9ms/step - loss: 0.7007 - accuracy: 0.7351 - val_loss: 0.3517 - val_accuracy: 0.9260\n",
      "Epoch 49/1000\n",
      "17/31 [===============>..............] - ETA: 0s - loss: 0.7280 - accuracy: 0.7279\n",
      "Epoch 49: saving model to model/keypoint_classifier\\keypoint_classifier.hdf5\n",
      "31/31 [==============================] - 0s 5ms/step - loss: 0.7143 - accuracy: 0.7328 - val_loss: 0.3475 - val_accuracy: 0.9244\n",
      "Epoch 50/1000\n",
      "19/31 [=================>............] - ETA: 0s - loss: 0.6843 - accuracy: 0.7541\n",
      "Epoch 50: saving model to model/keypoint_classifier\\keypoint_classifier.hdf5\n",
      "31/31 [==============================] - 0s 4ms/step - loss: 0.6923 - accuracy: 0.7471 - val_loss: 0.3522 - val_accuracy: 0.9221\n",
      "Epoch 51/1000\n",
      "18/31 [================>.............] - ETA: 0s - loss: 0.6997 - accuracy: 0.7240\n",
      "Epoch 51: saving model to model/keypoint_classifier\\keypoint_classifier.hdf5\n",
      "31/31 [==============================] - 0s 4ms/step - loss: 0.7014 - accuracy: 0.7262 - val_loss: 0.3481 - val_accuracy: 0.9267\n",
      "Epoch 52/1000\n",
      "19/31 [=================>............] - ETA: 0s - loss: 0.6701 - accuracy: 0.7529\n",
      "Epoch 52: saving model to model/keypoint_classifier\\keypoint_classifier.hdf5\n",
      "31/31 [==============================] - 0s 4ms/step - loss: 0.6790 - accuracy: 0.7471 - val_loss: 0.3365 - val_accuracy: 0.9344\n",
      "Epoch 53/1000\n",
      "17/31 [===============>..............] - ETA: 0s - loss: 0.6632 - accuracy: 0.7500\n",
      "Epoch 53: saving model to model/keypoint_classifier\\keypoint_classifier.hdf5\n",
      "31/31 [==============================] - 0s 5ms/step - loss: 0.6721 - accuracy: 0.7476 - val_loss: 0.3285 - val_accuracy: 0.9305\n",
      "Epoch 54/1000\n",
      "18/31 [================>.............] - ETA: 0s - loss: 0.6949 - accuracy: 0.7257\n",
      "Epoch 54: saving model to model/keypoint_classifier\\keypoint_classifier.hdf5\n",
      "31/31 [==============================] - 0s 4ms/step - loss: 0.6837 - accuracy: 0.7321 - val_loss: 0.3309 - val_accuracy: 0.9290\n",
      "Epoch 55/1000\n"
     ]
    },
    {
     "name": "stdout",
     "output_type": "stream",
     "text": [
      "17/31 [===============>..............] - ETA: 0s - loss: 0.6899 - accuracy: 0.7477\n",
      "Epoch 55: saving model to model/keypoint_classifier\\keypoint_classifier.hdf5\n",
      "31/31 [==============================] - 0s 5ms/step - loss: 0.7067 - accuracy: 0.7351 - val_loss: 0.3306 - val_accuracy: 0.9321\n",
      "Epoch 56/1000\n",
      "17/31 [===============>..............] - ETA: 0s - loss: 0.6920 - accuracy: 0.7385\n",
      "Epoch 56: saving model to model/keypoint_classifier\\keypoint_classifier.hdf5\n",
      "31/31 [==============================] - 0s 5ms/step - loss: 0.6809 - accuracy: 0.7412 - val_loss: 0.3340 - val_accuracy: 0.9275\n",
      "Epoch 57/1000\n",
      "18/31 [================>.............] - ETA: 0s - loss: 0.6738 - accuracy: 0.7604\n",
      "Epoch 57: saving model to model/keypoint_classifier\\keypoint_classifier.hdf5\n",
      "31/31 [==============================] - 0s 4ms/step - loss: 0.6706 - accuracy: 0.7537 - val_loss: 0.3303 - val_accuracy: 0.9260\n",
      "Epoch 58/1000\n",
      "18/31 [================>.............] - ETA: 0s - loss: 0.6833 - accuracy: 0.7474\n",
      "Epoch 58: saving model to model/keypoint_classifier\\keypoint_classifier.hdf5\n",
      "31/31 [==============================] - 0s 4ms/step - loss: 0.6938 - accuracy: 0.7422 - val_loss: 0.3292 - val_accuracy: 0.9290\n",
      "Epoch 59/1000\n",
      "18/31 [================>.............] - ETA: 0s - loss: 0.6682 - accuracy: 0.7461\n",
      "Epoch 59: saving model to model/keypoint_classifier\\keypoint_classifier.hdf5\n",
      "31/31 [==============================] - 0s 4ms/step - loss: 0.6832 - accuracy: 0.7387 - val_loss: 0.3286 - val_accuracy: 0.9305\n",
      "Epoch 60/1000\n",
      "18/31 [================>.............] - ETA: 0s - loss: 0.6684 - accuracy: 0.7500\n",
      "Epoch 60: saving model to model/keypoint_classifier\\keypoint_classifier.hdf5\n",
      "31/31 [==============================] - 0s 5ms/step - loss: 0.6591 - accuracy: 0.7575 - val_loss: 0.3277 - val_accuracy: 0.9321\n",
      "Epoch 61/1000\n",
      "18/31 [================>.............] - ETA: 0s - loss: 0.6466 - accuracy: 0.7561\n",
      "Epoch 61: saving model to model/keypoint_classifier\\keypoint_classifier.hdf5\n",
      "31/31 [==============================] - 0s 5ms/step - loss: 0.6489 - accuracy: 0.7547 - val_loss: 0.3142 - val_accuracy: 0.9328\n",
      "Epoch 62/1000\n",
      "17/31 [===============>..............] - ETA: 0s - loss: 0.6655 - accuracy: 0.7381\n",
      "Epoch 62: saving model to model/keypoint_classifier\\keypoint_classifier.hdf5\n",
      "31/31 [==============================] - 0s 5ms/step - loss: 0.6554 - accuracy: 0.7517 - val_loss: 0.3184 - val_accuracy: 0.9267\n",
      "Epoch 63/1000\n",
      "17/31 [===============>..............] - ETA: 0s - loss: 0.7010 - accuracy: 0.7431\n",
      "Epoch 63: saving model to model/keypoint_classifier\\keypoint_classifier.hdf5\n",
      "31/31 [==============================] - 0s 5ms/step - loss: 0.6944 - accuracy: 0.7412 - val_loss: 0.3291 - val_accuracy: 0.9260\n",
      "Epoch 64/1000\n",
      "17/31 [===============>..............] - ETA: 0s - loss: 0.6758 - accuracy: 0.7500\n",
      "Epoch 64: saving model to model/keypoint_classifier\\keypoint_classifier.hdf5\n",
      "31/31 [==============================] - 0s 5ms/step - loss: 0.6695 - accuracy: 0.7511 - val_loss: 0.3231 - val_accuracy: 0.9252\n",
      "Epoch 65/1000\n",
      "16/31 [==============>...............] - ETA: 0s - loss: 0.6556 - accuracy: 0.7622\n",
      "Epoch 65: saving model to model/keypoint_classifier\\keypoint_classifier.hdf5\n",
      "31/31 [==============================] - 0s 5ms/step - loss: 0.6692 - accuracy: 0.7595 - val_loss: 0.3196 - val_accuracy: 0.9336\n",
      "Epoch 66/1000\n",
      "17/31 [===============>..............] - ETA: 0s - loss: 0.6819 - accuracy: 0.7381\n",
      "Epoch 66: saving model to model/keypoint_classifier\\keypoint_classifier.hdf5\n",
      "31/31 [==============================] - 0s 5ms/step - loss: 0.6739 - accuracy: 0.7476 - val_loss: 0.3216 - val_accuracy: 0.9298\n",
      "Epoch 67/1000\n",
      "17/31 [===============>..............] - ETA: 0s - loss: 0.6332 - accuracy: 0.7560\n",
      "Epoch 67: saving model to model/keypoint_classifier\\keypoint_classifier.hdf5\n",
      "31/31 [==============================] - 0s 5ms/step - loss: 0.6458 - accuracy: 0.7545 - val_loss: 0.3117 - val_accuracy: 0.9328\n",
      "Epoch 68/1000\n",
      "18/31 [================>.............] - ETA: 0s - loss: 0.6431 - accuracy: 0.7513\n",
      "Epoch 68: saving model to model/keypoint_classifier\\keypoint_classifier.hdf5\n",
      "31/31 [==============================] - 0s 5ms/step - loss: 0.6493 - accuracy: 0.7570 - val_loss: 0.3167 - val_accuracy: 0.9336\n",
      "Epoch 69/1000\n",
      "16/31 [==============>...............] - ETA: 0s - loss: 0.6717 - accuracy: 0.7520\n",
      "Epoch 69: saving model to model/keypoint_classifier\\keypoint_classifier.hdf5\n",
      "31/31 [==============================] - 0s 5ms/step - loss: 0.6465 - accuracy: 0.7623 - val_loss: 0.3081 - val_accuracy: 0.9374\n",
      "Epoch 70/1000\n",
      "18/31 [================>.............] - ETA: 0s - loss: 0.6475 - accuracy: 0.7635\n",
      "Epoch 70: saving model to model/keypoint_classifier\\keypoint_classifier.hdf5\n",
      "31/31 [==============================] - 0s 5ms/step - loss: 0.6575 - accuracy: 0.7590 - val_loss: 0.3044 - val_accuracy: 0.9328\n",
      "Epoch 71/1000\n",
      "16/31 [==============>...............] - ETA: 0s - loss: 0.6364 - accuracy: 0.7598\n",
      "Epoch 71: saving model to model/keypoint_classifier\\keypoint_classifier.hdf5\n",
      "31/31 [==============================] - 0s 5ms/step - loss: 0.6537 - accuracy: 0.7570 - val_loss: 0.3086 - val_accuracy: 0.9328\n",
      "Epoch 72/1000\n",
      "17/31 [===============>..............] - ETA: 0s - loss: 0.6382 - accuracy: 0.7652\n",
      "Epoch 72: saving model to model/keypoint_classifier\\keypoint_classifier.hdf5\n",
      "31/31 [==============================] - 0s 5ms/step - loss: 0.6443 - accuracy: 0.7570 - val_loss: 0.2986 - val_accuracy: 0.9351\n",
      "Epoch 73/1000\n",
      "16/31 [==============>...............] - ETA: 0s - loss: 0.6712 - accuracy: 0.7495\n",
      "Epoch 73: saving model to model/keypoint_classifier\\keypoint_classifier.hdf5\n",
      "31/31 [==============================] - 0s 5ms/step - loss: 0.6523 - accuracy: 0.7550 - val_loss: 0.3026 - val_accuracy: 0.9298\n",
      "Epoch 74/1000\n",
      "17/31 [===============>..............] - ETA: 0s - loss: 0.6390 - accuracy: 0.7615\n",
      "Epoch 74: saving model to model/keypoint_classifier\\keypoint_classifier.hdf5\n",
      "31/31 [==============================] - 0s 5ms/step - loss: 0.6361 - accuracy: 0.7634 - val_loss: 0.2980 - val_accuracy: 0.9359\n",
      "Epoch 75/1000\n",
      "16/31 [==============>...............] - ETA: 0s - loss: 0.6435 - accuracy: 0.7622\n",
      "Epoch 75: saving model to model/keypoint_classifier\\keypoint_classifier.hdf5\n",
      "31/31 [==============================] - 0s 5ms/step - loss: 0.6581 - accuracy: 0.7534 - val_loss: 0.3065 - val_accuracy: 0.9328\n",
      "Epoch 76/1000\n",
      "16/31 [==============>...............] - ETA: 0s - loss: 0.6738 - accuracy: 0.7490\n",
      "Epoch 76: saving model to model/keypoint_classifier\\keypoint_classifier.hdf5\n",
      "31/31 [==============================] - 0s 5ms/step - loss: 0.6709 - accuracy: 0.7483 - val_loss: 0.3080 - val_accuracy: 0.9305\n",
      "Epoch 77/1000\n",
      "16/31 [==============>...............] - ETA: 0s - loss: 0.6276 - accuracy: 0.7715\n",
      "Epoch 77: saving model to model/keypoint_classifier\\keypoint_classifier.hdf5\n",
      "31/31 [==============================] - 0s 5ms/step - loss: 0.6274 - accuracy: 0.7654 - val_loss: 0.3047 - val_accuracy: 0.9351\n",
      "Epoch 78/1000\n",
      "16/31 [==============>...............] - ETA: 0s - loss: 0.6309 - accuracy: 0.7666\n",
      "Epoch 78: saving model to model/keypoint_classifier\\keypoint_classifier.hdf5\n",
      "31/31 [==============================] - 0s 5ms/step - loss: 0.6354 - accuracy: 0.7695 - val_loss: 0.2977 - val_accuracy: 0.9374\n",
      "Epoch 79/1000\n",
      "16/31 [==============>...............] - ETA: 0s - loss: 0.6318 - accuracy: 0.7695\n",
      "Epoch 79: saving model to model/keypoint_classifier\\keypoint_classifier.hdf5\n",
      "31/31 [==============================] - 0s 5ms/step - loss: 0.6256 - accuracy: 0.7690 - val_loss: 0.2886 - val_accuracy: 0.9397\n",
      "Epoch 80/1000\n",
      "31/31 [==============================] - ETA: 0s - loss: 0.6230 - accuracy: 0.7674\n",
      "Epoch 80: saving model to model/keypoint_classifier\\keypoint_classifier.hdf5\n",
      "31/31 [==============================] - 0s 5ms/step - loss: 0.6230 - accuracy: 0.7674 - val_loss: 0.2880 - val_accuracy: 0.9374\n",
      "Epoch 81/1000\n",
      "29/31 [===========================>..] - ETA: 0s - loss: 0.6376 - accuracy: 0.7600\n",
      "Epoch 81: saving model to model/keypoint_classifier\\keypoint_classifier.hdf5\n",
      "31/31 [==============================] - 0s 5ms/step - loss: 0.6379 - accuracy: 0.7593 - val_loss: 0.2896 - val_accuracy: 0.9351\n",
      "Epoch 82/1000\n"
     ]
    },
    {
     "name": "stdout",
     "output_type": "stream",
     "text": [
      "30/31 [============================>.] - ETA: 0s - loss: 0.6287 - accuracy: 0.7695\n",
      "Epoch 82: saving model to model/keypoint_classifier\\keypoint_classifier.hdf5\n",
      "31/31 [==============================] - 0s 5ms/step - loss: 0.6285 - accuracy: 0.7695 - val_loss: 0.2921 - val_accuracy: 0.9351\n",
      "Epoch 83/1000\n",
      "31/31 [==============================] - ETA: 0s - loss: 0.6351 - accuracy: 0.7659\n",
      "Epoch 83: saving model to model/keypoint_classifier\\keypoint_classifier.hdf5\n",
      "31/31 [==============================] - 0s 5ms/step - loss: 0.6351 - accuracy: 0.7659 - val_loss: 0.2947 - val_accuracy: 0.9344\n",
      "Epoch 84/1000\n",
      "31/31 [==============================] - ETA: 0s - loss: 0.6176 - accuracy: 0.7697\n",
      "Epoch 84: saving model to model/keypoint_classifier\\keypoint_classifier.hdf5\n",
      "31/31 [==============================] - 0s 5ms/step - loss: 0.6176 - accuracy: 0.7697 - val_loss: 0.2816 - val_accuracy: 0.9420\n",
      "Epoch 85/1000\n",
      "31/31 [==============================] - ETA: 0s - loss: 0.6417 - accuracy: 0.7674\n",
      "Epoch 85: saving model to model/keypoint_classifier\\keypoint_classifier.hdf5\n",
      "31/31 [==============================] - 0s 5ms/step - loss: 0.6417 - accuracy: 0.7674 - val_loss: 0.2954 - val_accuracy: 0.9282\n",
      "Epoch 86/1000\n",
      "31/31 [==============================] - ETA: 0s - loss: 0.6323 - accuracy: 0.7735\n",
      "Epoch 86: saving model to model/keypoint_classifier\\keypoint_classifier.hdf5\n",
      "31/31 [==============================] - 0s 5ms/step - loss: 0.6323 - accuracy: 0.7735 - val_loss: 0.2867 - val_accuracy: 0.9405\n",
      "Epoch 87/1000\n",
      "26/31 [========================>.....] - ETA: 0s - loss: 0.6395 - accuracy: 0.7713\n",
      "Epoch 87: saving model to model/keypoint_classifier\\keypoint_classifier.hdf5\n",
      "31/31 [==============================] - 0s 6ms/step - loss: 0.6396 - accuracy: 0.7695 - val_loss: 0.2897 - val_accuracy: 0.9366\n",
      "Epoch 88/1000\n",
      "20/31 [==================>...........] - ETA: 0s - loss: 0.6098 - accuracy: 0.7738\n",
      "Epoch 88: saving model to model/keypoint_classifier\\keypoint_classifier.hdf5\n",
      "31/31 [==============================] - 0s 4ms/step - loss: 0.6181 - accuracy: 0.7712 - val_loss: 0.2782 - val_accuracy: 0.9443\n",
      "Epoch 89/1000\n",
      "21/31 [===================>..........] - ETA: 0s - loss: 0.5987 - accuracy: 0.7768\n",
      "Epoch 89: saving model to model/keypoint_classifier\\keypoint_classifier.hdf5\n",
      "31/31 [==============================] - 0s 4ms/step - loss: 0.6046 - accuracy: 0.7753 - val_loss: 0.2773 - val_accuracy: 0.9405\n",
      "Epoch 90/1000\n",
      "20/31 [==================>...........] - ETA: 0s - loss: 0.6337 - accuracy: 0.7602\n",
      "Epoch 90: saving model to model/keypoint_classifier\\keypoint_classifier.hdf5\n",
      "31/31 [==============================] - 0s 4ms/step - loss: 0.6273 - accuracy: 0.7618 - val_loss: 0.2875 - val_accuracy: 0.9382\n",
      "Epoch 91/1000\n",
      "23/31 [=====================>........] - ETA: 0s - loss: 0.6275 - accuracy: 0.7660\n",
      "Epoch 91: saving model to model/keypoint_classifier\\keypoint_classifier.hdf5\n",
      "31/31 [==============================] - 0s 4ms/step - loss: 0.6343 - accuracy: 0.7649 - val_loss: 0.2929 - val_accuracy: 0.9397\n",
      "Epoch 92/1000\n",
      "23/31 [=====================>........] - ETA: 0s - loss: 0.6172 - accuracy: 0.7812\n",
      "Epoch 92: saving model to model/keypoint_classifier\\keypoint_classifier.hdf5\n",
      "31/31 [==============================] - 0s 4ms/step - loss: 0.6121 - accuracy: 0.7809 - val_loss: 0.2853 - val_accuracy: 0.9382\n",
      "Epoch 93/1000\n",
      "22/31 [====================>.........] - ETA: 0s - loss: 0.6210 - accuracy: 0.7752\n",
      "Epoch 93: saving model to model/keypoint_classifier\\keypoint_classifier.hdf5\n",
      "31/31 [==============================] - 0s 4ms/step - loss: 0.6264 - accuracy: 0.7695 - val_loss: 0.2863 - val_accuracy: 0.9359\n",
      "Epoch 94/1000\n",
      "22/31 [====================>.........] - ETA: 0s - loss: 0.6154 - accuracy: 0.7685\n",
      "Epoch 94: saving model to model/keypoint_classifier\\keypoint_classifier.hdf5\n",
      "31/31 [==============================] - 0s 4ms/step - loss: 0.6196 - accuracy: 0.7715 - val_loss: 0.2834 - val_accuracy: 0.9344\n",
      "Epoch 95/1000\n",
      "24/31 [======================>.......] - ETA: 0s - loss: 0.6212 - accuracy: 0.7650\n",
      "Epoch 95: saving model to model/keypoint_classifier\\keypoint_classifier.hdf5\n",
      "31/31 [==============================] - 0s 4ms/step - loss: 0.6326 - accuracy: 0.7626 - val_loss: 0.2841 - val_accuracy: 0.9382\n",
      "Epoch 96/1000\n",
      "23/31 [=====================>........] - ETA: 0s - loss: 0.6104 - accuracy: 0.7758\n",
      "Epoch 96: saving model to model/keypoint_classifier\\keypoint_classifier.hdf5\n",
      "31/31 [==============================] - 0s 4ms/step - loss: 0.6004 - accuracy: 0.7802 - val_loss: 0.2856 - val_accuracy: 0.9374\n",
      "Epoch 97/1000\n",
      "23/31 [=====================>........] - ETA: 0s - loss: 0.6104 - accuracy: 0.7751\n",
      "Epoch 97: saving model to model/keypoint_classifier\\keypoint_classifier.hdf5\n",
      "31/31 [==============================] - 0s 4ms/step - loss: 0.6235 - accuracy: 0.7705 - val_loss: 0.2820 - val_accuracy: 0.9389\n",
      "Epoch 98/1000\n",
      "24/31 [======================>.......] - ETA: 0s - loss: 0.6103 - accuracy: 0.7728\n",
      "Epoch 98: saving model to model/keypoint_classifier\\keypoint_classifier.hdf5\n",
      "31/31 [==============================] - 0s 4ms/step - loss: 0.6201 - accuracy: 0.7656 - val_loss: 0.2800 - val_accuracy: 0.9382\n",
      "Epoch 99/1000\n",
      "23/31 [=====================>........] - ETA: 0s - loss: 0.6271 - accuracy: 0.7660\n",
      "Epoch 99: saving model to model/keypoint_classifier\\keypoint_classifier.hdf5\n",
      "31/31 [==============================] - 0s 4ms/step - loss: 0.6336 - accuracy: 0.7684 - val_loss: 0.2728 - val_accuracy: 0.9435\n",
      "Epoch 100/1000\n",
      "24/31 [======================>.......] - ETA: 0s - loss: 0.6423 - accuracy: 0.7676\n",
      "Epoch 100: saving model to model/keypoint_classifier\\keypoint_classifier.hdf5\n",
      "31/31 [==============================] - 0s 4ms/step - loss: 0.6362 - accuracy: 0.7677 - val_loss: 0.2778 - val_accuracy: 0.9420\n",
      "Epoch 101/1000\n",
      "23/31 [=====================>........] - ETA: 0s - loss: 0.6051 - accuracy: 0.7741\n",
      "Epoch 101: saving model to model/keypoint_classifier\\keypoint_classifier.hdf5\n",
      "31/31 [==============================] - 0s 4ms/step - loss: 0.6095 - accuracy: 0.7776 - val_loss: 0.2739 - val_accuracy: 0.9435\n",
      "Epoch 102/1000\n",
      "23/31 [=====================>........] - ETA: 0s - loss: 0.5909 - accuracy: 0.7772\n",
      "Epoch 102: saving model to model/keypoint_classifier\\keypoint_classifier.hdf5\n",
      "31/31 [==============================] - 0s 4ms/step - loss: 0.6086 - accuracy: 0.7723 - val_loss: 0.2797 - val_accuracy: 0.9336\n",
      "Epoch 103/1000\n",
      "23/31 [=====================>........] - ETA: 0s - loss: 0.6259 - accuracy: 0.7694\n",
      "Epoch 103: saving model to model/keypoint_classifier\\keypoint_classifier.hdf5\n",
      "31/31 [==============================] - 0s 4ms/step - loss: 0.6344 - accuracy: 0.7720 - val_loss: 0.2836 - val_accuracy: 0.9374\n",
      "Epoch 104/1000\n",
      "23/31 [=====================>........] - ETA: 0s - loss: 0.6057 - accuracy: 0.7741\n",
      "Epoch 104: saving model to model/keypoint_classifier\\keypoint_classifier.hdf5\n",
      "31/31 [==============================] - 0s 4ms/step - loss: 0.6061 - accuracy: 0.7768 - val_loss: 0.2730 - val_accuracy: 0.9382\n",
      "Epoch 105/1000\n",
      "23/31 [=====================>........] - ETA: 0s - loss: 0.6129 - accuracy: 0.7789\n",
      "Epoch 105: saving model to model/keypoint_classifier\\keypoint_classifier.hdf5\n",
      "31/31 [==============================] - 0s 4ms/step - loss: 0.6118 - accuracy: 0.7784 - val_loss: 0.2744 - val_accuracy: 0.9336\n",
      "Epoch 106/1000\n",
      "23/31 [=====================>........] - ETA: 0s - loss: 0.6055 - accuracy: 0.7846\n",
      "Epoch 106: saving model to model/keypoint_classifier\\keypoint_classifier.hdf5\n",
      "31/31 [==============================] - 0s 4ms/step - loss: 0.6104 - accuracy: 0.7807 - val_loss: 0.2680 - val_accuracy: 0.9382\n",
      "Epoch 107/1000\n",
      "21/31 [===================>..........] - ETA: 0s - loss: 0.6334 - accuracy: 0.7764\n",
      "Epoch 107: saving model to model/keypoint_classifier\\keypoint_classifier.hdf5\n",
      "31/31 [==============================] - 0s 4ms/step - loss: 0.6185 - accuracy: 0.7817 - val_loss: 0.2827 - val_accuracy: 0.9313\n",
      "Epoch 108/1000\n",
      "21/31 [===================>..........] - ETA: 0s - loss: 0.6165 - accuracy: 0.7701\n",
      "Epoch 108: saving model to model/keypoint_classifier\\keypoint_classifier.hdf5\n",
      "31/31 [==============================] - 0s 4ms/step - loss: 0.6208 - accuracy: 0.7715 - val_loss: 0.2863 - val_accuracy: 0.9305\n",
      "Epoch 109/1000\n"
     ]
    },
    {
     "name": "stdout",
     "output_type": "stream",
     "text": [
      "20/31 [==================>...........] - ETA: 0s - loss: 0.6202 - accuracy: 0.7836\n",
      "Epoch 109: saving model to model/keypoint_classifier\\keypoint_classifier.hdf5\n",
      "31/31 [==============================] - 0s 4ms/step - loss: 0.6037 - accuracy: 0.7870 - val_loss: 0.2775 - val_accuracy: 0.9405\n",
      "Epoch 110/1000\n",
      "20/31 [==================>...........] - ETA: 0s - loss: 0.5943 - accuracy: 0.7746\n",
      "Epoch 110: saving model to model/keypoint_classifier\\keypoint_classifier.hdf5\n",
      "31/31 [==============================] - 0s 4ms/step - loss: 0.6093 - accuracy: 0.7720 - val_loss: 0.2605 - val_accuracy: 0.9435\n",
      "Epoch 111/1000\n",
      "23/31 [=====================>........] - ETA: 0s - loss: 0.5858 - accuracy: 0.7846\n",
      "Epoch 111: saving model to model/keypoint_classifier\\keypoint_classifier.hdf5\n",
      "31/31 [==============================] - 0s 4ms/step - loss: 0.5957 - accuracy: 0.7786 - val_loss: 0.2722 - val_accuracy: 0.9321\n",
      "Epoch 112/1000\n",
      "23/31 [=====================>........] - ETA: 0s - loss: 0.6148 - accuracy: 0.7806\n",
      "Epoch 112: saving model to model/keypoint_classifier\\keypoint_classifier.hdf5\n",
      "31/31 [==============================] - 0s 4ms/step - loss: 0.6054 - accuracy: 0.7824 - val_loss: 0.2653 - val_accuracy: 0.9397\n",
      "Epoch 113/1000\n",
      "23/31 [=====================>........] - ETA: 0s - loss: 0.6039 - accuracy: 0.7755\n",
      "Epoch 113: saving model to model/keypoint_classifier\\keypoint_classifier.hdf5\n",
      "31/31 [==============================] - 0s 4ms/step - loss: 0.6107 - accuracy: 0.7715 - val_loss: 0.2699 - val_accuracy: 0.9397\n",
      "Epoch 114/1000\n",
      "23/31 [=====================>........] - ETA: 0s - loss: 0.6136 - accuracy: 0.7789\n",
      "Epoch 114: saving model to model/keypoint_classifier\\keypoint_classifier.hdf5\n",
      "31/31 [==============================] - 0s 4ms/step - loss: 0.6234 - accuracy: 0.7705 - val_loss: 0.2771 - val_accuracy: 0.9420\n",
      "Epoch 115/1000\n",
      "21/31 [===================>..........] - ETA: 0s - loss: 0.5844 - accuracy: 0.7887\n",
      "Epoch 115: saving model to model/keypoint_classifier\\keypoint_classifier.hdf5\n",
      "31/31 [==============================] - 0s 4ms/step - loss: 0.5981 - accuracy: 0.7794 - val_loss: 0.2862 - val_accuracy: 0.9328\n",
      "Epoch 116/1000\n",
      "20/31 [==================>...........] - ETA: 0s - loss: 0.6013 - accuracy: 0.7809\n",
      "Epoch 116: saving model to model/keypoint_classifier\\keypoint_classifier.hdf5\n",
      "31/31 [==============================] - 0s 4ms/step - loss: 0.6057 - accuracy: 0.7802 - val_loss: 0.2729 - val_accuracy: 0.9435\n",
      "Epoch 117/1000\n",
      "20/31 [==================>...........] - ETA: 0s - loss: 0.6199 - accuracy: 0.7840\n",
      "Epoch 117: saving model to model/keypoint_classifier\\keypoint_classifier.hdf5\n",
      "31/31 [==============================] - 0s 5ms/step - loss: 0.6094 - accuracy: 0.7827 - val_loss: 0.2766 - val_accuracy: 0.9420\n",
      "Epoch 118/1000\n",
      "29/31 [===========================>..] - ETA: 0s - loss: 0.5833 - accuracy: 0.7888\n",
      "Epoch 118: saving model to model/keypoint_classifier\\keypoint_classifier.hdf5\n",
      "31/31 [==============================] - 0s 5ms/step - loss: 0.5891 - accuracy: 0.7878 - val_loss: 0.2681 - val_accuracy: 0.9405\n",
      "Epoch 119/1000\n",
      "29/31 [===========================>..] - ETA: 0s - loss: 0.5733 - accuracy: 0.7874\n",
      "Epoch 119: saving model to model/keypoint_classifier\\keypoint_classifier.hdf5\n",
      "31/31 [==============================] - 0s 5ms/step - loss: 0.5695 - accuracy: 0.7893 - val_loss: 0.2703 - val_accuracy: 0.9351\n",
      "Epoch 120/1000\n",
      "19/31 [=================>............] - ETA: 0s - loss: 0.6146 - accuracy: 0.7812\n",
      "Epoch 120: saving model to model/keypoint_classifier\\keypoint_classifier.hdf5\n",
      "31/31 [==============================] - 0s 4ms/step - loss: 0.6004 - accuracy: 0.7802 - val_loss: 0.2706 - val_accuracy: 0.9397\n",
      "Epoch 121/1000\n",
      "17/31 [===============>..............] - ETA: 0s - loss: 0.6028 - accuracy: 0.7881\n",
      "Epoch 121: saving model to model/keypoint_classifier\\keypoint_classifier.hdf5\n",
      "31/31 [==============================] - 0s 5ms/step - loss: 0.6023 - accuracy: 0.7774 - val_loss: 0.2636 - val_accuracy: 0.9473\n",
      "Epoch 122/1000\n",
      "18/31 [================>.............] - ETA: 0s - loss: 0.5991 - accuracy: 0.7795\n",
      "Epoch 122: saving model to model/keypoint_classifier\\keypoint_classifier.hdf5\n",
      "31/31 [==============================] - 0s 5ms/step - loss: 0.5957 - accuracy: 0.7796 - val_loss: 0.2616 - val_accuracy: 0.9458\n",
      "Epoch 123/1000\n",
      "18/31 [================>.............] - ETA: 0s - loss: 0.5782 - accuracy: 0.7869\n",
      "Epoch 123: saving model to model/keypoint_classifier\\keypoint_classifier.hdf5\n",
      "31/31 [==============================] - 0s 5ms/step - loss: 0.5821 - accuracy: 0.7883 - val_loss: 0.2611 - val_accuracy: 0.9427\n",
      "Epoch 124/1000\n",
      "17/31 [===============>..............] - ETA: 0s - loss: 0.5946 - accuracy: 0.7886\n",
      "Epoch 124: saving model to model/keypoint_classifier\\keypoint_classifier.hdf5\n",
      "31/31 [==============================] - 0s 5ms/step - loss: 0.5809 - accuracy: 0.7919 - val_loss: 0.2691 - val_accuracy: 0.9397\n",
      "Epoch 125/1000\n",
      "18/31 [================>.............] - ETA: 0s - loss: 0.5937 - accuracy: 0.7834\n",
      "Epoch 125: saving model to model/keypoint_classifier\\keypoint_classifier.hdf5\n",
      "31/31 [==============================] - 0s 5ms/step - loss: 0.5921 - accuracy: 0.7814 - val_loss: 0.2707 - val_accuracy: 0.9420\n",
      "Epoch 126/1000\n",
      "31/31 [==============================] - ETA: 0s - loss: 0.5874 - accuracy: 0.7873\n",
      "Epoch 126: saving model to model/keypoint_classifier\\keypoint_classifier.hdf5\n",
      "31/31 [==============================] - 0s 5ms/step - loss: 0.5874 - accuracy: 0.7873 - val_loss: 0.2662 - val_accuracy: 0.9420\n",
      "Epoch 127/1000\n",
      "31/31 [==============================] - ETA: 0s - loss: 0.5797 - accuracy: 0.7939\n",
      "Epoch 127: saving model to model/keypoint_classifier\\keypoint_classifier.hdf5\n",
      "31/31 [==============================] - 0s 5ms/step - loss: 0.5797 - accuracy: 0.7939 - val_loss: 0.2578 - val_accuracy: 0.9458\n",
      "Epoch 128/1000\n",
      "22/31 [====================>.........] - ETA: 0s - loss: 0.5658 - accuracy: 0.7908\n",
      "Epoch 128: saving model to model/keypoint_classifier\\keypoint_classifier.hdf5\n",
      "31/31 [==============================] - 0s 6ms/step - loss: 0.5764 - accuracy: 0.7880 - val_loss: 0.2675 - val_accuracy: 0.9336\n",
      "Epoch 129/1000\n",
      "17/31 [===============>..............] - ETA: 0s - loss: 0.5931 - accuracy: 0.7909\n",
      "Epoch 129: saving model to model/keypoint_classifier\\keypoint_classifier.hdf5\n",
      "31/31 [==============================] - 0s 5ms/step - loss: 0.5906 - accuracy: 0.7860 - val_loss: 0.2624 - val_accuracy: 0.9427\n",
      "Epoch 130/1000\n",
      "25/31 [=======================>......] - ETA: 0s - loss: 0.5866 - accuracy: 0.7837\n",
      "Epoch 130: saving model to model/keypoint_classifier\\keypoint_classifier.hdf5\n",
      "31/31 [==============================] - 0s 6ms/step - loss: 0.5890 - accuracy: 0.7847 - val_loss: 0.2702 - val_accuracy: 0.9336\n",
      "Epoch 131/1000\n",
      "18/31 [================>.............] - ETA: 0s - loss: 0.5833 - accuracy: 0.7873\n",
      "Epoch 131: saving model to model/keypoint_classifier\\keypoint_classifier.hdf5\n",
      "31/31 [==============================] - 0s 5ms/step - loss: 0.5764 - accuracy: 0.7888 - val_loss: 0.2615 - val_accuracy: 0.9427\n",
      "Epoch 132/1000\n",
      "17/31 [===============>..............] - ETA: 0s - loss: 0.5641 - accuracy: 0.7877\n",
      "Epoch 132: saving model to model/keypoint_classifier\\keypoint_classifier.hdf5\n",
      "31/31 [==============================] - 0s 5ms/step - loss: 0.5827 - accuracy: 0.7896 - val_loss: 0.2650 - val_accuracy: 0.9336\n",
      "Epoch 133/1000\n",
      "17/31 [===============>..............] - ETA: 0s - loss: 0.6127 - accuracy: 0.7702\n",
      "Epoch 133: saving model to model/keypoint_classifier\\keypoint_classifier.hdf5\n",
      "31/31 [==============================] - 0s 5ms/step - loss: 0.5919 - accuracy: 0.7789 - val_loss: 0.2561 - val_accuracy: 0.9481\n",
      "Epoch 134/1000\n",
      "18/31 [================>.............] - ETA: 0s - loss: 0.5772 - accuracy: 0.7869\n",
      "Epoch 134: saving model to model/keypoint_classifier\\keypoint_classifier.hdf5\n",
      "31/31 [==============================] - 0s 5ms/step - loss: 0.5692 - accuracy: 0.7921 - val_loss: 0.2567 - val_accuracy: 0.9481\n",
      "Epoch 135/1000\n",
      "19/31 [=================>............] - ETA: 0s - loss: 0.5778 - accuracy: 0.7977\n",
      "Epoch 135: saving model to model/keypoint_classifier\\keypoint_classifier.hdf5\n",
      "31/31 [==============================] - 0s 4ms/step - loss: 0.5896 - accuracy: 0.7865 - val_loss: 0.2630 - val_accuracy: 0.9420\n"
     ]
    },
    {
     "name": "stdout",
     "output_type": "stream",
     "text": [
      "Epoch 136/1000\n",
      "17/31 [===============>..............] - ETA: 0s - loss: 0.5692 - accuracy: 0.7987\n",
      "Epoch 136: saving model to model/keypoint_classifier\\keypoint_classifier.hdf5\n",
      "31/31 [==============================] - 0s 5ms/step - loss: 0.5816 - accuracy: 0.7921 - val_loss: 0.2642 - val_accuracy: 0.9427\n",
      "Epoch 137/1000\n",
      "17/31 [===============>..............] - ETA: 0s - loss: 0.6037 - accuracy: 0.7790\n",
      "Epoch 137: saving model to model/keypoint_classifier\\keypoint_classifier.hdf5\n",
      "31/31 [==============================] - 0s 5ms/step - loss: 0.6061 - accuracy: 0.7774 - val_loss: 0.2687 - val_accuracy: 0.9344\n",
      "Epoch 138/1000\n",
      "19/31 [=================>............] - ETA: 0s - loss: 0.5860 - accuracy: 0.7714\n",
      "Epoch 138: saving model to model/keypoint_classifier\\keypoint_classifier.hdf5\n",
      "31/31 [==============================] - 0s 4ms/step - loss: 0.5711 - accuracy: 0.7837 - val_loss: 0.2648 - val_accuracy: 0.9412\n",
      "Epoch 139/1000\n",
      "25/31 [=======================>......] - ETA: 0s - loss: 0.6029 - accuracy: 0.7850\n",
      "Epoch 139: saving model to model/keypoint_classifier\\keypoint_classifier.hdf5\n",
      "31/31 [==============================] - 0s 6ms/step - loss: 0.5980 - accuracy: 0.7865 - val_loss: 0.2678 - val_accuracy: 0.9481\n",
      "Epoch 140/1000\n",
      "25/31 [=======================>......] - ETA: 0s - loss: 0.5998 - accuracy: 0.7859\n",
      "Epoch 140: saving model to model/keypoint_classifier\\keypoint_classifier.hdf5\n",
      "31/31 [==============================] - 0s 6ms/step - loss: 0.6014 - accuracy: 0.7845 - val_loss: 0.2569 - val_accuracy: 0.9511\n",
      "Epoch 141/1000\n",
      "31/31 [==============================] - ETA: 0s - loss: 0.5844 - accuracy: 0.7873\n",
      "Epoch 141: saving model to model/keypoint_classifier\\keypoint_classifier.hdf5\n",
      "31/31 [==============================] - 0s 5ms/step - loss: 0.5844 - accuracy: 0.7873 - val_loss: 0.2623 - val_accuracy: 0.9443\n",
      "Epoch 142/1000\n",
      "18/31 [================>.............] - ETA: 0s - loss: 0.5811 - accuracy: 0.7830\n",
      "Epoch 142: saving model to model/keypoint_classifier\\keypoint_classifier.hdf5\n",
      "31/31 [==============================] - 0s 4ms/step - loss: 0.5868 - accuracy: 0.7817 - val_loss: 0.2615 - val_accuracy: 0.9466\n",
      "Epoch 143/1000\n",
      "19/31 [=================>............] - ETA: 0s - loss: 0.5903 - accuracy: 0.7804\n",
      "Epoch 143: saving model to model/keypoint_classifier\\keypoint_classifier.hdf5\n",
      "31/31 [==============================] - 0s 4ms/step - loss: 0.5897 - accuracy: 0.7845 - val_loss: 0.2629 - val_accuracy: 0.9458\n",
      "Epoch 144/1000\n",
      "19/31 [=================>............] - ETA: 0s - loss: 0.5543 - accuracy: 0.8010\n",
      "Epoch 144: saving model to model/keypoint_classifier\\keypoint_classifier.hdf5\n",
      "31/31 [==============================] - 0s 4ms/step - loss: 0.5755 - accuracy: 0.7896 - val_loss: 0.2743 - val_accuracy: 0.9321\n",
      "Epoch 145/1000\n",
      "19/31 [=================>............] - ETA: 0s - loss: 0.5972 - accuracy: 0.7833\n",
      "Epoch 145: saving model to model/keypoint_classifier\\keypoint_classifier.hdf5\n",
      "31/31 [==============================] - 0s 4ms/step - loss: 0.5853 - accuracy: 0.7835 - val_loss: 0.2690 - val_accuracy: 0.9397\n",
      "Epoch 146/1000\n",
      "19/31 [=================>............] - ETA: 0s - loss: 0.5843 - accuracy: 0.7854\n",
      "Epoch 146: saving model to model/keypoint_classifier\\keypoint_classifier.hdf5\n",
      "31/31 [==============================] - 0s 4ms/step - loss: 0.5937 - accuracy: 0.7830 - val_loss: 0.2578 - val_accuracy: 0.9458\n",
      "Epoch 147/1000\n",
      "19/31 [=================>............] - ETA: 0s - loss: 0.5456 - accuracy: 0.7989\n",
      "Epoch 147: saving model to model/keypoint_classifier\\keypoint_classifier.hdf5\n",
      "31/31 [==============================] - 0s 4ms/step - loss: 0.5721 - accuracy: 0.7929 - val_loss: 0.2568 - val_accuracy: 0.9473\n",
      "Epoch 148/1000\n",
      "18/31 [================>.............] - ETA: 0s - loss: 0.5820 - accuracy: 0.7826\n",
      "Epoch 148: saving model to model/keypoint_classifier\\keypoint_classifier.hdf5\n",
      "31/31 [==============================] - 0s 4ms/step - loss: 0.5714 - accuracy: 0.7921 - val_loss: 0.2557 - val_accuracy: 0.9466\n",
      "Epoch 149/1000\n",
      "17/31 [===============>..............] - ETA: 0s - loss: 0.5758 - accuracy: 0.7955\n",
      "Epoch 149: saving model to model/keypoint_classifier\\keypoint_classifier.hdf5\n",
      "31/31 [==============================] - 0s 4ms/step - loss: 0.5677 - accuracy: 0.7926 - val_loss: 0.2583 - val_accuracy: 0.9466\n",
      "Epoch 150/1000\n",
      "18/31 [================>.............] - ETA: 0s - loss: 0.5939 - accuracy: 0.7791\n",
      "Epoch 150: saving model to model/keypoint_classifier\\keypoint_classifier.hdf5\n",
      "31/31 [==============================] - 0s 4ms/step - loss: 0.5813 - accuracy: 0.7865 - val_loss: 0.2543 - val_accuracy: 0.9473\n",
      "Epoch 151/1000\n",
      "18/31 [================>.............] - ETA: 0s - loss: 0.5892 - accuracy: 0.7769\n",
      "Epoch 151: saving model to model/keypoint_classifier\\keypoint_classifier.hdf5\n",
      "31/31 [==============================] - 0s 4ms/step - loss: 0.5828 - accuracy: 0.7812 - val_loss: 0.2641 - val_accuracy: 0.9412\n",
      "Epoch 152/1000\n",
      "20/31 [==================>...........] - ETA: 0s - loss: 0.5806 - accuracy: 0.7941\n",
      "Epoch 152: saving model to model/keypoint_classifier\\keypoint_classifier.hdf5\n",
      "31/31 [==============================] - 0s 4ms/step - loss: 0.5786 - accuracy: 0.7934 - val_loss: 0.2639 - val_accuracy: 0.9412\n",
      "Epoch 153/1000\n",
      "20/31 [==================>...........] - ETA: 0s - loss: 0.5482 - accuracy: 0.8004\n",
      "Epoch 153: saving model to model/keypoint_classifier\\keypoint_classifier.hdf5\n",
      "31/31 [==============================] - 0s 4ms/step - loss: 0.5807 - accuracy: 0.7893 - val_loss: 0.2476 - val_accuracy: 0.9481\n",
      "Epoch 154/1000\n",
      "30/31 [============================>.] - ETA: 0s - loss: 0.5963 - accuracy: 0.7880\n",
      "Epoch 154: saving model to model/keypoint_classifier\\keypoint_classifier.hdf5\n",
      "31/31 [==============================] - 0s 5ms/step - loss: 0.5929 - accuracy: 0.7898 - val_loss: 0.2594 - val_accuracy: 0.9450\n",
      "Epoch 155/1000\n",
      "29/31 [===========================>..] - ETA: 0s - loss: 0.5954 - accuracy: 0.7821\n",
      "Epoch 155: saving model to model/keypoint_classifier\\keypoint_classifier.hdf5\n",
      "31/31 [==============================] - 0s 5ms/step - loss: 0.5926 - accuracy: 0.7837 - val_loss: 0.2645 - val_accuracy: 0.9450\n",
      "Epoch 156/1000\n",
      "15/31 [=============>................] - ETA: 0s - loss: 0.5966 - accuracy: 0.7807\n",
      "Epoch 156: saving model to model/keypoint_classifier\\keypoint_classifier.hdf5\n",
      "31/31 [==============================] - 0s 5ms/step - loss: 0.5749 - accuracy: 0.7870 - val_loss: 0.2585 - val_accuracy: 0.9473\n",
      "Epoch 157/1000\n",
      "15/31 [=============>................] - ETA: 0s - loss: 0.5540 - accuracy: 0.7932\n",
      "Epoch 157: saving model to model/keypoint_classifier\\keypoint_classifier.hdf5\n",
      "31/31 [==============================] - 0s 5ms/step - loss: 0.5570 - accuracy: 0.7939 - val_loss: 0.2530 - val_accuracy: 0.9489\n",
      "Epoch 158/1000\n",
      "17/31 [===============>..............] - ETA: 0s - loss: 0.5854 - accuracy: 0.7886\n",
      "Epoch 158: saving model to model/keypoint_classifier\\keypoint_classifier.hdf5\n",
      "31/31 [==============================] - 0s 5ms/step - loss: 0.5744 - accuracy: 0.7896 - val_loss: 0.2587 - val_accuracy: 0.9435\n",
      "Epoch 159/1000\n",
      "29/31 [===========================>..] - ETA: 0s - loss: 0.5685 - accuracy: 0.7939\n",
      "Epoch 159: saving model to model/keypoint_classifier\\keypoint_classifier.hdf5\n",
      "31/31 [==============================] - 0s 5ms/step - loss: 0.5710 - accuracy: 0.7919 - val_loss: 0.2572 - val_accuracy: 0.9458\n",
      "Epoch 160/1000\n",
      "30/31 [============================>.] - ETA: 0s - loss: 0.5740 - accuracy: 0.7880\n",
      "Epoch 160: saving model to model/keypoint_classifier\\keypoint_classifier.hdf5\n",
      "31/31 [==============================] - 0s 5ms/step - loss: 0.5734 - accuracy: 0.7880 - val_loss: 0.2588 - val_accuracy: 0.9458\n",
      "Epoch 161/1000\n",
      "29/31 [===========================>..] - ETA: 0s - loss: 0.5709 - accuracy: 0.8012\n",
      "Epoch 161: saving model to model/keypoint_classifier\\keypoint_classifier.hdf5\n",
      "31/31 [==============================] - 0s 5ms/step - loss: 0.5706 - accuracy: 0.8008 - val_loss: 0.2554 - val_accuracy: 0.9527\n",
      "Epoch 162/1000\n",
      "31/31 [==============================] - ETA: 0s - loss: 0.5619 - accuracy: 0.7936\n",
      "Epoch 162: saving model to model/keypoint_classifier\\keypoint_classifier.hdf5\n",
      "31/31 [==============================] - 0s 5ms/step - loss: 0.5619 - accuracy: 0.7936 - val_loss: 0.2563 - val_accuracy: 0.9496\n"
     ]
    },
    {
     "name": "stdout",
     "output_type": "stream",
     "text": [
      "Epoch 163/1000\n",
      "31/31 [==============================] - ETA: 0s - loss: 0.5766 - accuracy: 0.7888\n",
      "Epoch 163: saving model to model/keypoint_classifier\\keypoint_classifier.hdf5\n",
      "31/31 [==============================] - 0s 5ms/step - loss: 0.5766 - accuracy: 0.7888 - val_loss: 0.2592 - val_accuracy: 0.9504\n",
      "Epoch 164/1000\n",
      "29/31 [===========================>..] - ETA: 0s - loss: 0.5819 - accuracy: 0.7864\n",
      "Epoch 164: saving model to model/keypoint_classifier\\keypoint_classifier.hdf5\n",
      "31/31 [==============================] - 0s 5ms/step - loss: 0.5871 - accuracy: 0.7845 - val_loss: 0.2549 - val_accuracy: 0.9435\n",
      "Epoch 165/1000\n",
      "15/31 [=============>................] - ETA: 0s - loss: 0.5685 - accuracy: 0.7849\n",
      "Epoch 165: saving model to model/keypoint_classifier\\keypoint_classifier.hdf5\n",
      "31/31 [==============================] - 0s 5ms/step - loss: 0.5833 - accuracy: 0.7842 - val_loss: 0.2503 - val_accuracy: 0.9550\n",
      "Epoch 166/1000\n",
      "18/31 [================>.............] - ETA: 0s - loss: 0.5373 - accuracy: 0.8069\n",
      "Epoch 166: saving model to model/keypoint_classifier\\keypoint_classifier.hdf5\n",
      "31/31 [==============================] - 0s 5ms/step - loss: 0.5711 - accuracy: 0.7926 - val_loss: 0.2579 - val_accuracy: 0.9504\n",
      "Epoch 167/1000\n",
      "17/31 [===============>..............] - ETA: 0s - loss: 0.5641 - accuracy: 0.7900\n",
      "Epoch 167: saving model to model/keypoint_classifier\\keypoint_classifier.hdf5\n",
      "31/31 [==============================] - 0s 5ms/step - loss: 0.5738 - accuracy: 0.7906 - val_loss: 0.2565 - val_accuracy: 0.9473\n",
      "Epoch 168/1000\n",
      "17/31 [===============>..............] - ETA: 0s - loss: 0.5669 - accuracy: 0.7886\n",
      "Epoch 168: saving model to model/keypoint_classifier\\keypoint_classifier.hdf5\n",
      "31/31 [==============================] - 0s 5ms/step - loss: 0.5618 - accuracy: 0.7919 - val_loss: 0.2591 - val_accuracy: 0.9489\n",
      "Epoch 169/1000\n",
      "17/31 [===============>..............] - ETA: 0s - loss: 0.5796 - accuracy: 0.7955\n",
      "Epoch 169: saving model to model/keypoint_classifier\\keypoint_classifier.hdf5\n",
      "31/31 [==============================] - 0s 5ms/step - loss: 0.5717 - accuracy: 0.7916 - val_loss: 0.2560 - val_accuracy: 0.9489\n",
      "Epoch 170/1000\n",
      "16/31 [==============>...............] - ETA: 0s - loss: 0.5983 - accuracy: 0.7886\n",
      "Epoch 170: saving model to model/keypoint_classifier\\keypoint_classifier.hdf5\n",
      "31/31 [==============================] - 0s 5ms/step - loss: 0.5737 - accuracy: 0.7939 - val_loss: 0.2571 - val_accuracy: 0.9496\n",
      "Epoch 171/1000\n",
      "15/31 [=============>................] - ETA: 0s - loss: 0.5827 - accuracy: 0.7839\n",
      "Epoch 171: saving model to model/keypoint_classifier\\keypoint_classifier.hdf5\n",
      "31/31 [==============================] - 0s 5ms/step - loss: 0.5742 - accuracy: 0.7840 - val_loss: 0.2517 - val_accuracy: 0.9542\n",
      "Epoch 172/1000\n",
      "16/31 [==============>...............] - ETA: 0s - loss: 0.5428 - accuracy: 0.8027\n",
      "Epoch 172: saving model to model/keypoint_classifier\\keypoint_classifier.hdf5\n",
      "31/31 [==============================] - 0s 5ms/step - loss: 0.5587 - accuracy: 0.7987 - val_loss: 0.2624 - val_accuracy: 0.9412\n",
      "Epoch 173/1000\n",
      "31/31 [==============================] - ETA: 0s - loss: 0.5709 - accuracy: 0.7982\n",
      "Epoch 173: saving model to model/keypoint_classifier\\keypoint_classifier.hdf5\n",
      "31/31 [==============================] - 0s 5ms/step - loss: 0.5709 - accuracy: 0.7982 - val_loss: 0.2396 - val_accuracy: 0.9511\n",
      "Epoch 174/1000\n",
      "17/31 [===============>..............] - ETA: 0s - loss: 0.5803 - accuracy: 0.7835\n",
      "Epoch 174: saving model to model/keypoint_classifier\\keypoint_classifier.hdf5\n",
      "31/31 [==============================] - 0s 5ms/step - loss: 0.5650 - accuracy: 0.7873 - val_loss: 0.2513 - val_accuracy: 0.9443\n",
      "Epoch 175/1000\n",
      "17/31 [===============>..............] - ETA: 0s - loss: 0.5574 - accuracy: 0.7900\n",
      "Epoch 175: saving model to model/keypoint_classifier\\keypoint_classifier.hdf5\n",
      "31/31 [==============================] - 0s 5ms/step - loss: 0.5581 - accuracy: 0.7919 - val_loss: 0.2471 - val_accuracy: 0.9511\n",
      "Epoch 176/1000\n",
      "16/31 [==============>...............] - ETA: 0s - loss: 0.5507 - accuracy: 0.7974\n",
      "Epoch 176: saving model to model/keypoint_classifier\\keypoint_classifier.hdf5\n",
      "31/31 [==============================] - 0s 5ms/step - loss: 0.5528 - accuracy: 0.7975 - val_loss: 0.2553 - val_accuracy: 0.9511\n",
      "Epoch 177/1000\n",
      "17/31 [===============>..............] - ETA: 0s - loss: 0.5719 - accuracy: 0.7863\n",
      "Epoch 177: saving model to model/keypoint_classifier\\keypoint_classifier.hdf5\n",
      "31/31 [==============================] - 0s 5ms/step - loss: 0.5543 - accuracy: 0.7997 - val_loss: 0.2519 - val_accuracy: 0.9489\n",
      "Epoch 178/1000\n",
      "31/31 [==============================] - ETA: 0s - loss: 0.5557 - accuracy: 0.8015\n",
      "Epoch 178: saving model to model/keypoint_classifier\\keypoint_classifier.hdf5\n",
      "31/31 [==============================] - 0s 5ms/step - loss: 0.5557 - accuracy: 0.8015 - val_loss: 0.2489 - val_accuracy: 0.9511\n",
      "Epoch 179/1000\n",
      "31/31 [==============================] - ETA: 0s - loss: 0.5720 - accuracy: 0.7924\n",
      "Epoch 179: saving model to model/keypoint_classifier\\keypoint_classifier.hdf5\n",
      "31/31 [==============================] - 0s 5ms/step - loss: 0.5720 - accuracy: 0.7924 - val_loss: 0.2541 - val_accuracy: 0.9504\n",
      "Epoch 180/1000\n",
      "17/31 [===============>..............] - ETA: 0s - loss: 0.5626 - accuracy: 0.8024\n",
      "Epoch 180: saving model to model/keypoint_classifier\\keypoint_classifier.hdf5\n",
      "31/31 [==============================] - 0s 5ms/step - loss: 0.5562 - accuracy: 0.8046 - val_loss: 0.2538 - val_accuracy: 0.9511\n",
      "Epoch 181/1000\n",
      "16/31 [==============>...............] - ETA: 0s - loss: 0.5884 - accuracy: 0.7915\n",
      "Epoch 181: saving model to model/keypoint_classifier\\keypoint_classifier.hdf5\n",
      "31/31 [==============================] - 0s 5ms/step - loss: 0.5799 - accuracy: 0.7901 - val_loss: 0.2626 - val_accuracy: 0.9443\n",
      "Epoch 182/1000\n",
      "31/31 [==============================] - ETA: 0s - loss: 0.5812 - accuracy: 0.7916\n",
      "Epoch 182: saving model to model/keypoint_classifier\\keypoint_classifier.hdf5\n",
      "31/31 [==============================] - 0s 5ms/step - loss: 0.5812 - accuracy: 0.7916 - val_loss: 0.2548 - val_accuracy: 0.9481\n",
      "Epoch 183/1000\n",
      "29/31 [===========================>..] - ETA: 0s - loss: 0.5829 - accuracy: 0.7818\n",
      "Epoch 183: saving model to model/keypoint_classifier\\keypoint_classifier.hdf5\n",
      "31/31 [==============================] - 0s 5ms/step - loss: 0.5842 - accuracy: 0.7822 - val_loss: 0.2556 - val_accuracy: 0.9504\n",
      "Epoch 184/1000\n",
      "16/31 [==============>...............] - ETA: 0s - loss: 0.5525 - accuracy: 0.7979\n",
      "Epoch 184: saving model to model/keypoint_classifier\\keypoint_classifier.hdf5\n",
      "31/31 [==============================] - 0s 5ms/step - loss: 0.5533 - accuracy: 0.8018 - val_loss: 0.2521 - val_accuracy: 0.9511\n",
      "Epoch 185/1000\n",
      "31/31 [==============================] - ETA: 0s - loss: 0.5653 - accuracy: 0.7931\n",
      "Epoch 185: saving model to model/keypoint_classifier\\keypoint_classifier.hdf5\n",
      "31/31 [==============================] - 0s 5ms/step - loss: 0.5653 - accuracy: 0.7931 - val_loss: 0.2535 - val_accuracy: 0.9450\n",
      "Epoch 186/1000\n",
      "29/31 [===========================>..] - ETA: 0s - loss: 0.5625 - accuracy: 0.7963\n",
      "Epoch 186: saving model to model/keypoint_classifier\\keypoint_classifier.hdf5\n",
      "31/31 [==============================] - 0s 5ms/step - loss: 0.5571 - accuracy: 0.7980 - val_loss: 0.2489 - val_accuracy: 0.9450\n",
      "Epoch 187/1000\n",
      "30/31 [============================>.] - ETA: 0s - loss: 0.5864 - accuracy: 0.7807\n",
      "Epoch 187: saving model to model/keypoint_classifier\\keypoint_classifier.hdf5\n",
      "31/31 [==============================] - 0s 5ms/step - loss: 0.5870 - accuracy: 0.7794 - val_loss: 0.2535 - val_accuracy: 0.9496\n",
      "Epoch 188/1000\n",
      "29/31 [===========================>..] - ETA: 0s - loss: 0.5700 - accuracy: 0.7834\n",
      "Epoch 188: saving model to model/keypoint_classifier\\keypoint_classifier.hdf5\n",
      "31/31 [==============================] - 0s 5ms/step - loss: 0.5653 - accuracy: 0.7850 - val_loss: 0.2554 - val_accuracy: 0.9534\n",
      "Epoch 189/1000\n",
      "30/31 [============================>.] - ETA: 0s - loss: 0.5495 - accuracy: 0.8039\n",
      "Epoch 189: saving model to model/keypoint_classifier\\keypoint_classifier.hdf5\n",
      "31/31 [==============================] - 0s 5ms/step - loss: 0.5488 - accuracy: 0.8038 - val_loss: 0.2481 - val_accuracy: 0.9557\n"
     ]
    },
    {
     "name": "stdout",
     "output_type": "stream",
     "text": [
      "Epoch 190/1000\n",
      "31/31 [==============================] - ETA: 0s - loss: 0.5622 - accuracy: 0.7962\n",
      "Epoch 190: saving model to model/keypoint_classifier\\keypoint_classifier.hdf5\n",
      "31/31 [==============================] - 0s 5ms/step - loss: 0.5622 - accuracy: 0.7962 - val_loss: 0.2574 - val_accuracy: 0.9527\n",
      "Epoch 191/1000\n",
      "31/31 [==============================] - ETA: 0s - loss: 0.5537 - accuracy: 0.8000\n",
      "Epoch 191: saving model to model/keypoint_classifier\\keypoint_classifier.hdf5\n",
      "31/31 [==============================] - 0s 5ms/step - loss: 0.5537 - accuracy: 0.8000 - val_loss: 0.2565 - val_accuracy: 0.9489\n",
      "Epoch 192/1000\n",
      "31/31 [==============================] - ETA: 0s - loss: 0.5660 - accuracy: 0.7972\n",
      "Epoch 192: saving model to model/keypoint_classifier\\keypoint_classifier.hdf5\n",
      "31/31 [==============================] - 0s 5ms/step - loss: 0.5660 - accuracy: 0.7972 - val_loss: 0.2519 - val_accuracy: 0.9504\n",
      "Epoch 193/1000\n",
      "29/31 [===========================>..] - ETA: 0s - loss: 0.5662 - accuracy: 0.7985\n",
      "Epoch 193: saving model to model/keypoint_classifier\\keypoint_classifier.hdf5\n",
      "31/31 [==============================] - 0s 5ms/step - loss: 0.5630 - accuracy: 0.7982 - val_loss: 0.2536 - val_accuracy: 0.9527\n",
      "Epoch 193: early stopping\n"
     ]
    },
    {
     "data": {
      "text/plain": [
       "<keras.callbacks.History at 0x2458882d030>"
      ]
     },
     "execution_count": 11,
     "metadata": {},
     "output_type": "execute_result"
    }
   ],
   "source": [
    "model.fit(\n",
    "    X_train,\n",
    "    y_train,\n",
    "    epochs=1000,\n",
    "    batch_size=128,\n",
    "    validation_data=(X_test, y_test),\n",
    "    callbacks=[cp_callback, es_callback]\n",
    ")"
   ]
  },
  {
   "cell_type": "code",
   "execution_count": 12,
   "metadata": {
    "colab": {
     "base_uri": "https://localhost:8080/"
    },
    "id": "pxvb2Y299hE3",
    "outputId": "59eb3185-2e37-4b9e-bc9d-ab1b8ac29b7f"
   },
   "outputs": [
    {
     "name": "stdout",
     "output_type": "stream",
     "text": [
      "11/11 [==============================] - 0s 3ms/step - loss: 0.2536 - accuracy: 0.9527\n"
     ]
    }
   ],
   "source": [
    "# Model evaluation\n",
    "val_loss, val_acc = model.evaluate(X_test, y_test, batch_size=128)"
   ]
  },
  {
   "cell_type": "code",
   "execution_count": 13,
   "metadata": {
    "id": "RBkmDeUW9hE4"
   },
   "outputs": [],
   "source": [
    "# Loading the saved model\n",
    "model = tf.keras.models.load_model(model_save_path)"
   ]
  },
  {
   "cell_type": "code",
   "execution_count": 14,
   "metadata": {
    "colab": {
     "base_uri": "https://localhost:8080/"
    },
    "id": "tFz9Tb0I9hE4",
    "outputId": "1c3b3528-54ae-4ee2-ab04-77429211cbef"
   },
   "outputs": [
    {
     "name": "stdout",
     "output_type": "stream",
     "text": [
      "[3.2965287e-03 1.4766972e-01 8.4000903e-01 2.7691535e-04 8.7478152e-03]\n",
      "2\n"
     ]
    }
   ],
   "source": [
    "# Inference test\n",
    "predict_result = model.predict(np.array([X_test[0]]))\n",
    "print(np.squeeze(predict_result))\n",
    "print(np.argmax(np.squeeze(predict_result)))"
   ]
  },
  {
   "cell_type": "markdown",
   "metadata": {
    "id": "S3U4yNWx9hE4"
   },
   "source": [
    "# Confusion matrix"
   ]
  },
  {
   "cell_type": "code",
   "execution_count": 15,
   "metadata": {
    "colab": {
     "base_uri": "https://localhost:8080/",
     "height": 582
    },
    "id": "AP1V6SCk9hE5",
    "outputId": "08e41a80-7a4a-4619-8125-ecc371368d19"
   },
   "outputs": [
    {
     "data": {
      "image/png": "[encoded data removed]",
      "text/plain": [
       "<Figure size 504x432 with 2 Axes>"
      ]
     },
     "metadata": {
      "needs_background": "light"
     },
     "output_type": "display_data"
    },
    {
     "name": "stdout",
     "output_type": "stream",
     "text": [
      "Classification Report\n",
      "              precision    recall  f1-score   support\n",
      "\n",
      "           0       0.98      0.98      0.98       409\n",
      "           1       0.99      0.93      0.96       370\n",
      "           2       0.89      0.99      0.93       337\n",
      "           3       0.93      1.00      0.96        81\n",
      "           4       1.00      0.80      0.89       113\n",
      "\n",
      "    accuracy                           0.95      1310\n",
      "   macro avg       0.96      0.94      0.94      1310\n",
      "weighted avg       0.96      0.95      0.95      1310\n",
      "\n"
     ]
    }
   ],
   "source": [
    "import pandas as pd\n",
    "import seaborn as sns\n",
    "import matplotlib.pyplot as plt\n",
    "from sklearn.metrics import confusion_matrix, classification_report\n",
    "\n",
    "def print_confusion_matrix(y_true, y_pred, report=True):\n",
    "    labels = sorted(list(set(y_true)))\n",
    "    cmx_data = confusion_matrix(y_true, y_pred, labels=labels)\n",
    "    \n",
    "    df_cmx = pd.DataFrame(cmx_data, index=labels, columns=labels)\n",
    " \n",
    "    fig, ax = plt.subplots(figsize=(7, 6))\n",
    "    sns.heatmap(df_cmx, annot=True, fmt='g' ,square=False)\n",
    "    ax.set_ylim(len(set(y_true)), 0)\n",
    "    plt.show()\n",
    "    \n",
    "    if report:\n",
    "        print('Classification Report')\n",
    "        print(classification_report(y_test, y_pred))\n",
    "\n",
    "Y_pred = model.predict(X_test)\n",
    "y_pred = np.argmax(Y_pred, axis=1)\n",
    "\n",
    "print_confusion_matrix(y_test, y_pred)"
   ]
  },
  {
   "cell_type": "markdown",
   "metadata": {
    "id": "FNP6aqzc9hE5"
   },
   "source": [
    "# Convert to model for Tensorflow-Lite"
   ]
  },
  {
   "cell_type": "code",
   "execution_count": 16,
   "metadata": {
    "id": "ODjnYyld9hE6"
   },
   "outputs": [],
   "source": [
    "# Save as a model dedicated to inference\n",
    "model.save(model_save_path, include_optimizer=False)"
   ]
  },
  {
   "cell_type": "code",
   "execution_count": 17,
   "metadata": {
    "colab": {
     "base_uri": "https://localhost:8080/"
    },
    "id": "zRfuK8Y59hE6",
    "outputId": "a4ca585c-b5d5-4244-8291-8674063209bb"
   },
   "outputs": [
    {
     "name": "stdout",
     "output_type": "stream",
     "text": [
      "INFO:tensorflow:Assets written to: C:\\Users\\ryan6\\AppData\\Local\\Temp\\tmpwrroaltm\\assets\n"
     ]
    },
    {
     "name": "stderr",
     "output_type": "stream",
     "text": [
      "WARNING:absl:Buffer deduplication procedure will be skipped when flatbuffer library is not properly loaded\n"
     ]
    },
    {
     "data": {
      "text/plain": [
       "6464"
      ]
     },
     "execution_count": 17,
     "metadata": {},
     "output_type": "execute_result"
    }
   ],
   "source": [
    "# Transform model (quantization)\n",
    "\n",
    "converter = tf.lite.TFLiteConverter.from_keras_model(model)\n",
    "converter.optimizations = [tf.lite.Optimize.DEFAULT]\n",
    "tflite_quantized_model = converter.convert()\n",
    "\n",
    "open(tflite_save_path, 'wb').write(tflite_quantized_model)"
   ]
  },
  {
   "cell_type": "markdown",
   "metadata": {
    "id": "CHBPBXdx9hE6"
   },
   "source": [
    "# Inference test"
   ]
  },
  {
   "cell_type": "code",
   "execution_count": 18,
   "metadata": {
    "id": "mGAzLocO9hE7"
   },
   "outputs": [],
   "source": [
    "interpreter = tf.lite.Interpreter(model_path=tflite_save_path)\n",
    "interpreter.allocate_tensors()"
   ]
  },
  {
   "cell_type": "code",
   "execution_count": 19,
   "metadata": {
    "id": "oQuDK8YS9hE7"
   },
   "outputs": [],
   "source": [
    "# Get I / O tensor\n",
    "input_details = interpreter.get_input_details()\n",
    "output_details = interpreter.get_output_details()"
   ]
  },
  {
   "cell_type": "code",
   "execution_count": 20,
   "metadata": {
    "id": "2_ixAf_l9hE7"
   },
   "outputs": [],
   "source": [
    "interpreter.set_tensor(input_details[0]['index'], np.array([X_test[0]]))"
   ]
  },
  {
   "cell_type": "code",
   "execution_count": 21,
   "metadata": {
    "colab": {
     "base_uri": "https://localhost:8080/"
    },
    "id": "s4FoAnuc9hE7",
    "outputId": "91f18257-8d8b-4ef3-c558-e9b5f94fabbf",
    "scrolled": true
   },
   "outputs": [
    {
     "name": "stdout",
     "output_type": "stream",
     "text": [
      "Wall time: 0 ns\n"
     ]
    }
   ],
   "source": [
    "%%time\n",
    "# Inference implementation\n",
    "interpreter.invoke()\n",
    "tflite_results = interpreter.get_tensor(output_details[0]['index'])"
   ]
  },
  {
   "cell_type": "code",
   "execution_count": 22,
   "metadata": {
    "colab": {
     "base_uri": "https://localhost:8080/"
    },
    "id": "vONjp19J9hE8",
    "outputId": "77205e24-fd00-42c4-f7b6-e06e527c2cba"
   },
   "outputs": [
    {
     "name": "stdout",
     "output_type": "stream",
     "text": [
      "[3.2965273e-03 1.4766975e-01 8.4000903e-01 2.7691509e-04 8.7478170e-03]\n",
      "2\n"
     ]
    }
   ],
   "source": [
    "print(np.squeeze(tflite_results))\n",
    "print(np.argmax(np.squeeze(tflite_results)))"
   ]
  }
 ],
 "metadata": {
  "accelerator": "GPU",
  "colab": {
   "collapsed_sections": [],
   "name": "keypoint_classification_EN.ipynb",
   "provenance": [],
   "toc_visible": true
  },
  "kernelspec": {
   "display_name": "hand",
   "language": "python",
   "name": "hand"
  },
  "language_info": {
   "codemirror_mode": {
    "name": "ipython",
    "version": 3
   },
   "file_extension": ".py",
   "mimetype": "text/x-python",
   "name": "python",
   "nbconvert_exporter": "python",
   "pygments_lexer": "ipython3",
   "version": "3.10.4"
  }
 },
 "nbformat": 4,
 "nbformat_minor": 1
}
