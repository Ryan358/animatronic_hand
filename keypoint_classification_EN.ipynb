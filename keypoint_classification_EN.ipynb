{
 "cells": [
  {
   "cell_type": "code",
   "execution_count": 1,
   "metadata": {
    "id": "igMyGnjE9hEp"
   },
   "outputs": [],
   "source": [
    "import csv\n",
    "\n",
    "import numpy as np\n",
    "import tensorflow as tf\n",
    "from sklearn.model_selection import train_test_split\n",
    "\n",
    "RANDOM_SEED = 42"
   ]
  },
  {
   "cell_type": "markdown",
   "metadata": {
    "id": "t2HDvhIu9hEr"
   },
   "source": [
    "# Specify each path"
   ]
  },
  {
   "cell_type": "code",
   "execution_count": 2,
   "metadata": {
    "id": "9NvZP2Zn9hEy"
   },
   "outputs": [],
   "source": [
    "dataset = 'model/keypoint_classifier/keypoint.csv'\n",
    "model_save_path = 'model/keypoint_classifier/keypoint_classifier.hdf5'\n",
    "tflite_save_path = 'model/keypoint_classifier/keypoint_classifier.tflite'"
   ]
  },
  {
   "cell_type": "markdown",
   "metadata": {
    "id": "s5oMH7x19hEz"
   },
   "source": [
    "# Set number of classes"
   ]
  },
  {
   "cell_type": "code",
   "execution_count": 3,
   "metadata": {
    "id": "du4kodXL9hEz"
   },
   "outputs": [],
   "source": [
    "NUM_CLASSES = 5"
   ]
  },
  {
   "cell_type": "markdown",
   "metadata": {
    "id": "XjnL0uso9hEz"
   },
   "source": [
    "# Dataset reading"
   ]
  },
  {
   "cell_type": "code",
   "execution_count": 4,
   "metadata": {
    "id": "QT5ZqtEz9hE0"
   },
   "outputs": [],
   "source": [
    "X_dataset = np.loadtxt(dataset, delimiter=',', dtype='float32', usecols=list(range(1, (21 * 2) + 1)))"
   ]
  },
  {
   "cell_type": "code",
   "execution_count": 5,
   "metadata": {
    "id": "QmoKFsp49hE0"
   },
   "outputs": [],
   "source": [
    "y_dataset = np.loadtxt(dataset, delimiter=',', dtype='int32', usecols=(0))"
   ]
  },
  {
   "cell_type": "code",
   "execution_count": 6,
   "metadata": {
    "id": "xQU7JTZ_9hE0"
   },
   "outputs": [],
   "source": [
    "X_train, X_test, y_train, y_test = train_test_split(X_dataset, y_dataset, train_size=0.75, random_state=RANDOM_SEED)"
   ]
  },
  {
   "cell_type": "markdown",
   "metadata": {
    "id": "mxK_lETT9hE0"
   },
   "source": [
    "# Model building"
   ]
  },
  {
   "cell_type": "code",
   "execution_count": 7,
   "metadata": {
    "id": "vHBmUf1t9hE1"
   },
   "outputs": [],
   "source": [
    "model = tf.keras.models.Sequential([\n",
    "    tf.keras.layers.Input((21 * 2, )),\n",
    "    tf.keras.layers.Dropout(0.2),\n",
    "    tf.keras.layers.Dense(20, activation='relu'),\n",
    "    tf.keras.layers.Dropout(0.4),\n",
    "    tf.keras.layers.Dense(10, activation='relu'),\n",
    "    tf.keras.layers.Dense(NUM_CLASSES, activation='softmax')\n",
    "])"
   ]
  },
  {
   "cell_type": "code",
   "execution_count": 8,
   "metadata": {
    "colab": {
     "base_uri": "https://localhost:8080/"
    },
    "id": "ypqky9tc9hE1",
    "outputId": "5db082bb-30e3-4110-bf63-a1ee777ecd46"
   },
   "outputs": [
    {
     "name": "stdout",
     "output_type": "stream",
     "text": [
      "Model: \"sequential\"\n",
      "_________________________________________________________________\n",
      " Layer (type)                Output Shape              Param #   \n",
      "=================================================================\n",
      " dropout (Dropout)           (None, 42)                0         \n",
      "                                                                 \n",
      " dense (Dense)               (None, 20)                860       \n",
      "                                                                 \n",
      " dropout_1 (Dropout)         (None, 20)                0         \n",
      "                                                                 \n",
      " dense_1 (Dense)             (None, 10)                210       \n",
      "                                                                 \n",
      " dense_2 (Dense)             (None, 5)                 55        \n",
      "                                                                 \n",
      "=================================================================\n",
      "Total params: 1,125\n",
      "Trainable params: 1,125\n",
      "Non-trainable params: 0\n",
      "_________________________________________________________________\n"
     ]
    }
   ],
   "source": [
    "model.summary()  # tf.keras.utils.plot_model(model, show_shapes=True)"
   ]
  },
  {
   "cell_type": "code",
   "execution_count": 9,
   "metadata": {
    "id": "MbMjOflQ9hE1"
   },
   "outputs": [],
   "source": [
    "# Model checkpoint callback\n",
    "cp_callback = tf.keras.callbacks.ModelCheckpoint(\n",
    "    model_save_path, verbose=1, save_weights_only=False)\n",
    "# Callback for early stopping\n",
    "es_callback = tf.keras.callbacks.EarlyStopping(patience=20, verbose=1)"
   ]
  },
  {
   "cell_type": "code",
   "execution_count": 10,
   "metadata": {
    "id": "c3Dac0M_9hE2"
   },
   "outputs": [],
   "source": [
    "# Model compilation\n",
    "model.compile(\n",
    "    optimizer='adam',\n",
    "    loss='sparse_categorical_crossentropy',\n",
    "    metrics=['accuracy']\n",
    ")"
   ]
  },
  {
   "cell_type": "markdown",
   "metadata": {
    "id": "7XI0j1Iu9hE2"
   },
   "source": [
    "# Model training"
   ]
  },
  {
   "cell_type": "code",
   "execution_count": 11,
   "metadata": {
    "colab": {
     "base_uri": "https://localhost:8080/"
    },
    "id": "WirBl-JE9hE3",
    "outputId": "71b30ca2-8294-4d9d-8aa2-800d90d399de",
    "scrolled": true
   },
   "outputs": [
    {
     "name": "stdout",
     "output_type": "stream",
     "text": [
      "Epoch 1/1000\n",
      "29/30 [============================>.] - ETA: 0s - loss: 1.6907 - accuracy: 0.2131\n",
      "Epoch 1: saving model to model/keypoint_classifier\\keypoint_classifier.hdf5\n",
      "30/30 [==============================] - 3s 45ms/step - loss: 1.6884 - accuracy: 0.2160 - val_loss: 1.5807 - val_accuracy: 0.2604\n",
      "Epoch 2/1000\n",
      "25/30 [========================>.....] - ETA: 0s - loss: 1.5814 - accuracy: 0.2791\n",
      "Epoch 2: saving model to model/keypoint_classifier\\keypoint_classifier.hdf5\n",
      "30/30 [==============================] - 0s 6ms/step - loss: 1.5757 - accuracy: 0.2837 - val_loss: 1.4936 - val_accuracy: 0.3926\n",
      "Epoch 3/1000\n",
      "26/30 [=========================>....] - ETA: 0s - loss: 1.4890 - accuracy: 0.3609\n",
      "Epoch 3: saving model to model/keypoint_classifier\\keypoint_classifier.hdf5\n",
      "30/30 [==============================] - 0s 6ms/step - loss: 1.4823 - accuracy: 0.3659 - val_loss: 1.3793 - val_accuracy: 0.4359\n",
      "Epoch 4/1000\n",
      "29/30 [============================>.] - ETA: 0s - loss: 1.3938 - accuracy: 0.4108\n",
      "Epoch 4: saving model to model/keypoint_classifier\\keypoint_classifier.hdf5\n",
      "30/30 [==============================] - 0s 6ms/step - loss: 1.3922 - accuracy: 0.4092 - val_loss: 1.2707 - val_accuracy: 0.5012\n",
      "Epoch 5/1000\n",
      "28/30 [===========================>..] - ETA: 0s - loss: 1.3196 - accuracy: 0.4551\n",
      "Epoch 5: saving model to model/keypoint_classifier\\keypoint_classifier.hdf5\n",
      "30/30 [==============================] - 0s 6ms/step - loss: 1.3163 - accuracy: 0.4567 - val_loss: 1.1800 - val_accuracy: 0.6263\n",
      "Epoch 6/1000\n",
      "25/30 [========================>.....] - ETA: 0s - loss: 1.2587 - accuracy: 0.4775\n",
      "Epoch 6: saving model to model/keypoint_classifier\\keypoint_classifier.hdf5\n",
      "30/30 [==============================] - 0s 7ms/step - loss: 1.2566 - accuracy: 0.4780 - val_loss: 1.0960 - val_accuracy: 0.6664\n",
      "Epoch 7/1000\n",
      "26/30 [=========================>....] - ETA: 0s - loss: 1.2057 - accuracy: 0.5138\n",
      "Epoch 7: saving model to model/keypoint_classifier\\keypoint_classifier.hdf5\n",
      "30/30 [==============================] - 0s 6ms/step - loss: 1.2009 - accuracy: 0.5108 - val_loss: 1.0265 - val_accuracy: 0.6774\n",
      "Epoch 8/1000\n",
      "27/30 [==========================>...] - ETA: 0s - loss: 1.1381 - accuracy: 0.5402\n",
      "Epoch 8: saving model to model/keypoint_classifier\\keypoint_classifier.hdf5\n",
      "30/30 [==============================] - 0s 6ms/step - loss: 1.1404 - accuracy: 0.5373 - val_loss: 0.9575 - val_accuracy: 0.7018\n",
      "Epoch 9/1000\n",
      "26/30 [=========================>....] - ETA: 0s - loss: 1.1063 - accuracy: 0.5427\n",
      "Epoch 9: saving model to model/keypoint_classifier\\keypoint_classifier.hdf5\n",
      "30/30 [==============================] - 0s 6ms/step - loss: 1.1075 - accuracy: 0.5446 - val_loss: 0.9026 - val_accuracy: 0.7065\n",
      "Epoch 10/1000\n",
      "25/30 [========================>.....] - ETA: 0s - loss: 1.0633 - accuracy: 0.5678\n",
      "Epoch 10: saving model to model/keypoint_classifier\\keypoint_classifier.hdf5\n",
      "30/30 [==============================] - 0s 7ms/step - loss: 1.0621 - accuracy: 0.5667 - val_loss: 0.8566 - val_accuracy: 0.7144\n",
      "Epoch 11/1000\n",
      "29/30 [============================>.] - ETA: 0s - loss: 1.0517 - accuracy: 0.5560\n",
      "Epoch 11: saving model to model/keypoint_classifier\\keypoint_classifier.hdf5\n",
      "30/30 [==============================] - 0s 6ms/step - loss: 1.0519 - accuracy: 0.5556 - val_loss: 0.8239 - val_accuracy: 0.7317\n",
      "Epoch 12/1000\n",
      "25/30 [========================>.....] - ETA: 0s - loss: 1.0082 - accuracy: 0.5975\n",
      "Epoch 12: saving model to model/keypoint_classifier\\keypoint_classifier.hdf5\n",
      "30/30 [==============================] - 0s 6ms/step - loss: 1.0142 - accuracy: 0.5940 - val_loss: 0.7893 - val_accuracy: 0.7781\n",
      "Epoch 13/1000\n",
      "30/30 [==============================] - ETA: 0s - loss: 0.9861 - accuracy: 0.6066\n",
      "Epoch 13: saving model to model/keypoint_classifier\\keypoint_classifier.hdf5\n",
      "30/30 [==============================] - 0s 6ms/step - loss: 0.9861 - accuracy: 0.6066 - val_loss: 0.7520 - val_accuracy: 0.7891\n",
      "Epoch 14/1000\n",
      "26/30 [=========================>....] - ETA: 0s - loss: 0.9602 - accuracy: 0.6220\n",
      "Epoch 14: saving model to model/keypoint_classifier\\keypoint_classifier.hdf5\n",
      "30/30 [==============================] - 0s 6ms/step - loss: 0.9625 - accuracy: 0.6184 - val_loss: 0.7274 - val_accuracy: 0.7962\n",
      "Epoch 15/1000\n",
      "27/30 [==========================>...] - ETA: 0s - loss: 0.9411 - accuracy: 0.6273\n",
      "Epoch 15: saving model to model/keypoint_classifier\\keypoint_classifier.hdf5\n",
      "30/30 [==============================] - 0s 6ms/step - loss: 0.9371 - accuracy: 0.6291 - val_loss: 0.7073 - val_accuracy: 0.8080\n",
      "Epoch 16/1000\n",
      "24/30 [=======================>......] - ETA: 0s - loss: 0.9319 - accuracy: 0.6299\n",
      "Epoch 16: saving model to model/keypoint_classifier\\keypoint_classifier.hdf5\n",
      "30/30 [==============================] - 0s 6ms/step - loss: 0.9295 - accuracy: 0.6341 - val_loss: 0.6790 - val_accuracy: 0.8230\n",
      "Epoch 17/1000\n",
      "28/30 [===========================>..] - ETA: 0s - loss: 0.9322 - accuracy: 0.6164\n",
      "Epoch 17: saving model to model/keypoint_classifier\\keypoint_classifier.hdf5\n",
      "30/30 [==============================] - 0s 6ms/step - loss: 0.9364 - accuracy: 0.6165 - val_loss: 0.6666 - val_accuracy: 0.8324\n",
      "Epoch 18/1000\n",
      "30/30 [==============================] - ETA: 0s - loss: 0.9086 - accuracy: 0.6331\n",
      "Epoch 18: saving model to model/keypoint_classifier\\keypoint_classifier.hdf5\n",
      "30/30 [==============================] - 0s 6ms/step - loss: 0.9086 - accuracy: 0.6331 - val_loss: 0.6486 - val_accuracy: 0.8411\n",
      "Epoch 19/1000\n",
      "29/30 [============================>.] - ETA: 0s - loss: 0.8816 - accuracy: 0.6560\n",
      "Epoch 19: saving model to model/keypoint_classifier\\keypoint_classifier.hdf5\n",
      "30/30 [==============================] - 0s 6ms/step - loss: 0.8780 - accuracy: 0.6567 - val_loss: 0.6240 - val_accuracy: 0.8426\n",
      "Epoch 20/1000\n",
      "27/30 [==========================>...] - ETA: 0s - loss: 0.8928 - accuracy: 0.6409\n",
      "Epoch 20: saving model to model/keypoint_classifier\\keypoint_classifier.hdf5\n",
      "30/30 [==============================] - 0s 6ms/step - loss: 0.8937 - accuracy: 0.6407 - val_loss: 0.6141 - val_accuracy: 0.8442\n",
      "Epoch 21/1000\n",
      "26/30 [=========================>....] - ETA: 0s - loss: 0.8879 - accuracy: 0.6496\n",
      "Epoch 21: saving model to model/keypoint_classifier\\keypoint_classifier.hdf5\n",
      "30/30 [==============================] - 0s 6ms/step - loss: 0.8896 - accuracy: 0.6480 - val_loss: 0.6042 - val_accuracy: 0.8505\n",
      "Epoch 22/1000\n",
      "25/30 [========================>.....] - ETA: 0s - loss: 0.8692 - accuracy: 0.6562\n",
      "Epoch 22: saving model to model/keypoint_classifier\\keypoint_classifier.hdf5\n",
      "30/30 [==============================] - 0s 7ms/step - loss: 0.8638 - accuracy: 0.6604 - val_loss: 0.5847 - val_accuracy: 0.8592\n",
      "Epoch 23/1000\n",
      "29/30 [============================>.] - ETA: 0s - loss: 0.8559 - accuracy: 0.6589\n",
      "Epoch 23: saving model to model/keypoint_classifier\\keypoint_classifier.hdf5\n",
      "30/30 [==============================] - 0s 6ms/step - loss: 0.8541 - accuracy: 0.6601 - val_loss: 0.5702 - val_accuracy: 0.8615\n",
      "Epoch 24/1000\n",
      "28/30 [===========================>..] - ETA: 0s - loss: 0.8519 - accuracy: 0.6613\n",
      "Epoch 24: saving model to model/keypoint_classifier\\keypoint_classifier.hdf5\n",
      "30/30 [==============================] - 0s 6ms/step - loss: 0.8462 - accuracy: 0.6638 - val_loss: 0.5598 - val_accuracy: 0.8584\n",
      "Epoch 25/1000\n",
      "27/30 [==========================>...] - ETA: 0s - loss: 0.8514 - accuracy: 0.6716\n",
      "Epoch 25: saving model to model/keypoint_classifier\\keypoint_classifier.hdf5\n",
      "30/30 [==============================] - 0s 6ms/step - loss: 0.8481 - accuracy: 0.6730 - val_loss: 0.5504 - val_accuracy: 0.8670\n",
      "Epoch 26/1000\n",
      "29/30 [============================>.] - ETA: 0s - loss: 0.8231 - accuracy: 0.6732\n",
      "Epoch 26: saving model to model/keypoint_classifier\\keypoint_classifier.hdf5\n",
      "30/30 [==============================] - 0s 6ms/step - loss: 0.8262 - accuracy: 0.6719 - val_loss: 0.5337 - val_accuracy: 0.8718\n",
      "Epoch 27/1000\n",
      "29/30 [============================>.] - ETA: 0s - loss: 0.8275 - accuracy: 0.6797\n",
      "Epoch 27: saving model to model/keypoint_classifier\\keypoint_classifier.hdf5\n",
      "30/30 [==============================] - 0s 6ms/step - loss: 0.8262 - accuracy: 0.6803 - val_loss: 0.5246 - val_accuracy: 0.8710\n",
      "Epoch 28/1000\n"
     ]
    },
    {
     "name": "stdout",
     "output_type": "stream",
     "text": [
      "24/30 [=======================>......] - ETA: 0s - loss: 0.8008 - accuracy: 0.6969\n",
      "Epoch 28: saving model to model/keypoint_classifier\\keypoint_classifier.hdf5\n",
      "30/30 [==============================] - 0s 6ms/step - loss: 0.8134 - accuracy: 0.6895 - val_loss: 0.5079 - val_accuracy: 0.8836\n",
      "Epoch 29/1000\n",
      "25/30 [========================>.....] - ETA: 0s - loss: 0.8082 - accuracy: 0.6800\n",
      "Epoch 29: saving model to model/keypoint_classifier\\keypoint_classifier.hdf5\n",
      "30/30 [==============================] - 0s 7ms/step - loss: 0.8049 - accuracy: 0.6832 - val_loss: 0.5091 - val_accuracy: 0.8796\n",
      "Epoch 30/1000\n",
      "27/30 [==========================>...] - ETA: 0s - loss: 0.8066 - accuracy: 0.6846\n",
      "Epoch 30: saving model to model/keypoint_classifier\\keypoint_classifier.hdf5\n",
      "30/30 [==============================] - 0s 6ms/step - loss: 0.8027 - accuracy: 0.6885 - val_loss: 0.4953 - val_accuracy: 0.8820\n",
      "Epoch 31/1000\n",
      "16/30 [===============>..............] - ETA: 0s - loss: 0.8111 - accuracy: 0.6855\n",
      "Epoch 31: saving model to model/keypoint_classifier\\keypoint_classifier.hdf5\n",
      "30/30 [==============================] - 0s 6ms/step - loss: 0.7945 - accuracy: 0.6908 - val_loss: 0.4937 - val_accuracy: 0.8828\n",
      "Epoch 32/1000\n",
      "24/30 [=======================>......] - ETA: 0s - loss: 0.7954 - accuracy: 0.6934\n",
      "Epoch 32: saving model to model/keypoint_classifier\\keypoint_classifier.hdf5\n",
      "30/30 [==============================] - 0s 6ms/step - loss: 0.7918 - accuracy: 0.6953 - val_loss: 0.4841 - val_accuracy: 0.8851\n",
      "Epoch 33/1000\n",
      "26/30 [=========================>....] - ETA: 0s - loss: 0.7819 - accuracy: 0.6908\n",
      "Epoch 33: saving model to model/keypoint_classifier\\keypoint_classifier.hdf5\n",
      "30/30 [==============================] - 0s 6ms/step - loss: 0.7835 - accuracy: 0.6908 - val_loss: 0.4742 - val_accuracy: 0.8859\n",
      "Epoch 34/1000\n",
      "25/30 [========================>.....] - ETA: 0s - loss: 0.7689 - accuracy: 0.6966\n",
      "Epoch 34: saving model to model/keypoint_classifier\\keypoint_classifier.hdf5\n",
      "30/30 [==============================] - 0s 8ms/step - loss: 0.7664 - accuracy: 0.6963 - val_loss: 0.4621 - val_accuracy: 0.8867\n",
      "Epoch 35/1000\n",
      "29/30 [============================>.] - ETA: 0s - loss: 0.7753 - accuracy: 0.6975\n",
      "Epoch 35: saving model to model/keypoint_classifier\\keypoint_classifier.hdf5\n",
      "30/30 [==============================] - 0s 6ms/step - loss: 0.7733 - accuracy: 0.6982 - val_loss: 0.4513 - val_accuracy: 0.8938\n",
      "Epoch 36/1000\n",
      "23/30 [======================>.......] - ETA: 0s - loss: 0.7777 - accuracy: 0.6994\n",
      "Epoch 36: saving model to model/keypoint_classifier\\keypoint_classifier.hdf5\n",
      "30/30 [==============================] - 0s 7ms/step - loss: 0.7637 - accuracy: 0.7047 - val_loss: 0.4481 - val_accuracy: 0.8899\n",
      "Epoch 37/1000\n",
      "26/30 [=========================>....] - ETA: 0s - loss: 0.7517 - accuracy: 0.7178\n",
      "Epoch 37: saving model to model/keypoint_classifier\\keypoint_classifier.hdf5\n",
      "30/30 [==============================] - 0s 6ms/step - loss: 0.7513 - accuracy: 0.7157 - val_loss: 0.4296 - val_accuracy: 0.8906\n",
      "Epoch 38/1000\n",
      "25/30 [========================>.....] - ETA: 0s - loss: 0.7420 - accuracy: 0.7116\n",
      "Epoch 38: saving model to model/keypoint_classifier\\keypoint_classifier.hdf5\n",
      "30/30 [==============================] - 0s 7ms/step - loss: 0.7458 - accuracy: 0.7081 - val_loss: 0.4300 - val_accuracy: 0.8914\n",
      "Epoch 39/1000\n",
      "25/30 [========================>.....] - ETA: 0s - loss: 0.7393 - accuracy: 0.7088\n",
      "Epoch 39: saving model to model/keypoint_classifier\\keypoint_classifier.hdf5\n",
      "30/30 [==============================] - 0s 7ms/step - loss: 0.7351 - accuracy: 0.7100 - val_loss: 0.4172 - val_accuracy: 0.8946\n",
      "Epoch 40/1000\n",
      "27/30 [==========================>...] - ETA: 0s - loss: 0.7279 - accuracy: 0.7156\n",
      "Epoch 40: saving model to model/keypoint_classifier\\keypoint_classifier.hdf5\n",
      "30/30 [==============================] - 0s 6ms/step - loss: 0.7277 - accuracy: 0.7134 - val_loss: 0.4110 - val_accuracy: 0.8961\n",
      "Epoch 41/1000\n",
      "27/30 [==========================>...] - ETA: 0s - loss: 0.7532 - accuracy: 0.7141\n",
      "Epoch 41: saving model to model/keypoint_classifier\\keypoint_classifier.hdf5\n",
      "30/30 [==============================] - 0s 6ms/step - loss: 0.7538 - accuracy: 0.7131 - val_loss: 0.4092 - val_accuracy: 0.8938\n",
      "Epoch 42/1000\n",
      "30/30 [==============================] - ETA: 0s - loss: 0.7381 - accuracy: 0.7100\n",
      "Epoch 42: saving model to model/keypoint_classifier\\keypoint_classifier.hdf5\n",
      "30/30 [==============================] - 0s 6ms/step - loss: 0.7381 - accuracy: 0.7100 - val_loss: 0.4009 - val_accuracy: 0.9024\n",
      "Epoch 43/1000\n",
      "29/30 [============================>.] - ETA: 0s - loss: 0.7179 - accuracy: 0.7255\n",
      "Epoch 43: saving model to model/keypoint_classifier\\keypoint_classifier.hdf5\n",
      "30/30 [==============================] - 0s 6ms/step - loss: 0.7175 - accuracy: 0.7276 - val_loss: 0.3939 - val_accuracy: 0.9009\n",
      "Epoch 44/1000\n",
      "26/30 [=========================>....] - ETA: 0s - loss: 0.7196 - accuracy: 0.7184\n",
      "Epoch 44: saving model to model/keypoint_classifier\\keypoint_classifier.hdf5\n",
      "30/30 [==============================] - 0s 7ms/step - loss: 0.7227 - accuracy: 0.7205 - val_loss: 0.3863 - val_accuracy: 0.9009\n",
      "Epoch 45/1000\n",
      "27/30 [==========================>...] - ETA: 0s - loss: 0.7329 - accuracy: 0.7141\n",
      "Epoch 45: saving model to model/keypoint_classifier\\keypoint_classifier.hdf5\n",
      "30/30 [==============================] - 0s 6ms/step - loss: 0.7265 - accuracy: 0.7181 - val_loss: 0.3907 - val_accuracy: 0.9064\n",
      "Epoch 46/1000\n",
      "26/30 [=========================>....] - ETA: 0s - loss: 0.7183 - accuracy: 0.7184\n",
      "Epoch 46: saving model to model/keypoint_classifier\\keypoint_classifier.hdf5\n",
      "30/30 [==============================] - 0s 7ms/step - loss: 0.7243 - accuracy: 0.7160 - val_loss: 0.3833 - val_accuracy: 0.9017\n",
      "Epoch 47/1000\n",
      "28/30 [===========================>..] - ETA: 0s - loss: 0.7082 - accuracy: 0.7316\n",
      "Epoch 47: saving model to model/keypoint_classifier\\keypoint_classifier.hdf5\n",
      "30/30 [==============================] - 0s 6ms/step - loss: 0.7056 - accuracy: 0.7312 - val_loss: 0.3745 - val_accuracy: 0.9095\n",
      "Epoch 48/1000\n",
      "26/30 [=========================>....] - ETA: 0s - loss: 0.7005 - accuracy: 0.7308\n",
      "Epoch 48: saving model to model/keypoint_classifier\\keypoint_classifier.hdf5\n",
      "30/30 [==============================] - 0s 6ms/step - loss: 0.7030 - accuracy: 0.7281 - val_loss: 0.3719 - val_accuracy: 0.9111\n",
      "Epoch 49/1000\n",
      "26/30 [=========================>....] - ETA: 0s - loss: 0.6884 - accuracy: 0.7389\n",
      "Epoch 49: saving model to model/keypoint_classifier\\keypoint_classifier.hdf5\n",
      "30/30 [==============================] - 0s 6ms/step - loss: 0.6872 - accuracy: 0.7388 - val_loss: 0.3614 - val_accuracy: 0.9064\n",
      "Epoch 50/1000\n",
      "27/30 [==========================>...] - ETA: 0s - loss: 0.7001 - accuracy: 0.7405\n",
      "Epoch 50: saving model to model/keypoint_classifier\\keypoint_classifier.hdf5\n",
      "30/30 [==============================] - 0s 6ms/step - loss: 0.6957 - accuracy: 0.7436 - val_loss: 0.3591 - val_accuracy: 0.9072\n",
      "Epoch 51/1000\n",
      "29/30 [============================>.] - ETA: 0s - loss: 0.7031 - accuracy: 0.7330\n",
      "Epoch 51: saving model to model/keypoint_classifier\\keypoint_classifier.hdf5\n",
      "30/30 [==============================] - 0s 6ms/step - loss: 0.7016 - accuracy: 0.7339 - val_loss: 0.3537 - val_accuracy: 0.9127\n",
      "Epoch 52/1000\n",
      "24/30 [=======================>......] - ETA: 0s - loss: 0.6777 - accuracy: 0.7510\n",
      "Epoch 52: saving model to model/keypoint_classifier\\keypoint_classifier.hdf5\n",
      "30/30 [==============================] - 0s 6ms/step - loss: 0.6881 - accuracy: 0.7462 - val_loss: 0.3494 - val_accuracy: 0.9127\n",
      "Epoch 53/1000\n",
      "27/30 [==========================>...] - ETA: 0s - loss: 0.6622 - accuracy: 0.7569\n",
      "Epoch 53: saving model to model/keypoint_classifier\\keypoint_classifier.hdf5\n",
      "30/30 [==============================] - 0s 6ms/step - loss: 0.6674 - accuracy: 0.7546 - val_loss: 0.3428 - val_accuracy: 0.9182\n",
      "Epoch 54/1000\n",
      "26/30 [=========================>....] - ETA: 0s - loss: 0.6908 - accuracy: 0.7410\n",
      "Epoch 54: saving model to model/keypoint_classifier\\keypoint_classifier.hdf5\n",
      "30/30 [==============================] - 0s 6ms/step - loss: 0.6845 - accuracy: 0.7423 - val_loss: 0.3343 - val_accuracy: 0.9205\n",
      "Epoch 55/1000\n"
     ]
    },
    {
     "name": "stdout",
     "output_type": "stream",
     "text": [
      "26/30 [=========================>....] - ETA: 0s - loss: 0.6911 - accuracy: 0.7395\n",
      "Epoch 55: saving model to model/keypoint_classifier\\keypoint_classifier.hdf5\n",
      "30/30 [==============================] - 0s 6ms/step - loss: 0.6940 - accuracy: 0.7399 - val_loss: 0.3378 - val_accuracy: 0.9182\n",
      "Epoch 56/1000\n",
      "30/30 [==============================] - ETA: 0s - loss: 0.6711 - accuracy: 0.7451\n",
      "Epoch 56: saving model to model/keypoint_classifier\\keypoint_classifier.hdf5\n",
      "30/30 [==============================] - 0s 6ms/step - loss: 0.6711 - accuracy: 0.7451 - val_loss: 0.3405 - val_accuracy: 0.9166\n",
      "Epoch 57/1000\n",
      "26/30 [=========================>....] - ETA: 0s - loss: 0.6869 - accuracy: 0.7422\n",
      "Epoch 57: saving model to model/keypoint_classifier\\keypoint_classifier.hdf5\n",
      "30/30 [==============================] - 0s 6ms/step - loss: 0.6842 - accuracy: 0.7428 - val_loss: 0.3354 - val_accuracy: 0.9197\n",
      "Epoch 58/1000\n",
      "25/30 [========================>.....] - ETA: 0s - loss: 0.6719 - accuracy: 0.7466\n",
      "Epoch 58: saving model to model/keypoint_classifier\\keypoint_classifier.hdf5\n",
      "30/30 [==============================] - 0s 6ms/step - loss: 0.6724 - accuracy: 0.7446 - val_loss: 0.3285 - val_accuracy: 0.9205\n",
      "Epoch 59/1000\n",
      "28/30 [===========================>..] - ETA: 0s - loss: 0.6698 - accuracy: 0.7475\n",
      "Epoch 59: saving model to model/keypoint_classifier\\keypoint_classifier.hdf5\n",
      "30/30 [==============================] - 0s 6ms/step - loss: 0.6684 - accuracy: 0.7475 - val_loss: 0.3251 - val_accuracy: 0.9166\n",
      "Epoch 60/1000\n",
      "29/30 [============================>.] - ETA: 0s - loss: 0.6700 - accuracy: 0.7441\n",
      "Epoch 60: saving model to model/keypoint_classifier\\keypoint_classifier.hdf5\n",
      "30/30 [==============================] - 0s 6ms/step - loss: 0.6709 - accuracy: 0.7438 - val_loss: 0.3161 - val_accuracy: 0.9276\n",
      "Epoch 61/1000\n",
      "29/30 [============================>.] - ETA: 0s - loss: 0.6826 - accuracy: 0.7454\n",
      "Epoch 61: saving model to model/keypoint_classifier\\keypoint_classifier.hdf5\n",
      "30/30 [==============================] - 0s 6ms/step - loss: 0.6817 - accuracy: 0.7441 - val_loss: 0.3180 - val_accuracy: 0.9284\n",
      "Epoch 62/1000\n",
      "28/30 [===========================>..] - ETA: 0s - loss: 0.6759 - accuracy: 0.7464\n",
      "Epoch 62: saving model to model/keypoint_classifier\\keypoint_classifier.hdf5\n",
      "30/30 [==============================] - 0s 6ms/step - loss: 0.6762 - accuracy: 0.7486 - val_loss: 0.3165 - val_accuracy: 0.9276\n",
      "Epoch 63/1000\n",
      "29/30 [============================>.] - ETA: 0s - loss: 0.6633 - accuracy: 0.7465\n",
      "Epoch 63: saving model to model/keypoint_classifier\\keypoint_classifier.hdf5\n",
      "30/30 [==============================] - 0s 6ms/step - loss: 0.6664 - accuracy: 0.7446 - val_loss: 0.3153 - val_accuracy: 0.9260\n",
      "Epoch 64/1000\n",
      "28/30 [===========================>..] - ETA: 0s - loss: 0.6631 - accuracy: 0.7520\n",
      "Epoch 64: saving model to model/keypoint_classifier\\keypoint_classifier.hdf5\n",
      "30/30 [==============================] - 0s 6ms/step - loss: 0.6627 - accuracy: 0.7522 - val_loss: 0.3137 - val_accuracy: 0.9260\n",
      "Epoch 65/1000\n",
      "29/30 [============================>.] - ETA: 0s - loss: 0.6490 - accuracy: 0.7567\n",
      "Epoch 65: saving model to model/keypoint_classifier\\keypoint_classifier.hdf5\n",
      "30/30 [==============================] - 0s 6ms/step - loss: 0.6479 - accuracy: 0.7572 - val_loss: 0.3100 - val_accuracy: 0.9276\n",
      "Epoch 66/1000\n",
      "29/30 [============================>.] - ETA: 0s - loss: 0.6544 - accuracy: 0.7546\n",
      "Epoch 66: saving model to model/keypoint_classifier\\keypoint_classifier.hdf5\n",
      "30/30 [==============================] - 0s 6ms/step - loss: 0.6577 - accuracy: 0.7533 - val_loss: 0.3045 - val_accuracy: 0.9268\n",
      "Epoch 67/1000\n",
      "26/30 [=========================>....] - ETA: 0s - loss: 0.6604 - accuracy: 0.7602\n",
      "Epoch 67: saving model to model/keypoint_classifier\\keypoint_classifier.hdf5\n",
      "30/30 [==============================] - 0s 6ms/step - loss: 0.6613 - accuracy: 0.7609 - val_loss: 0.3111 - val_accuracy: 0.9276\n",
      "Epoch 68/1000\n",
      "26/30 [=========================>....] - ETA: 0s - loss: 0.6445 - accuracy: 0.7518\n",
      "Epoch 68: saving model to model/keypoint_classifier\\keypoint_classifier.hdf5\n",
      "30/30 [==============================] - 0s 7ms/step - loss: 0.6457 - accuracy: 0.7528 - val_loss: 0.2931 - val_accuracy: 0.9323\n",
      "Epoch 69/1000\n",
      "27/30 [==========================>...] - ETA: 0s - loss: 0.6463 - accuracy: 0.7555\n",
      "Epoch 69: saving model to model/keypoint_classifier\\keypoint_classifier.hdf5\n",
      "30/30 [==============================] - 0s 6ms/step - loss: 0.6459 - accuracy: 0.7564 - val_loss: 0.2915 - val_accuracy: 0.9268\n",
      "Epoch 70/1000\n",
      "25/30 [========================>.....] - ETA: 0s - loss: 0.6535 - accuracy: 0.7622\n",
      "Epoch 70: saving model to model/keypoint_classifier\\keypoint_classifier.hdf5\n",
      "30/30 [==============================] - 0s 6ms/step - loss: 0.6551 - accuracy: 0.7575 - val_loss: 0.2970 - val_accuracy: 0.9300\n",
      "Epoch 71/1000\n",
      "26/30 [=========================>....] - ETA: 0s - loss: 0.6448 - accuracy: 0.7584\n",
      "Epoch 71: saving model to model/keypoint_classifier\\keypoint_classifier.hdf5\n",
      "30/30 [==============================] - 0s 6ms/step - loss: 0.6374 - accuracy: 0.7583 - val_loss: 0.2946 - val_accuracy: 0.9323\n",
      "Epoch 72/1000\n",
      "30/30 [==============================] - ETA: 0s - loss: 0.6245 - accuracy: 0.7703\n",
      "Epoch 72: saving model to model/keypoint_classifier\\keypoint_classifier.hdf5\n",
      "30/30 [==============================] - 0s 6ms/step - loss: 0.6245 - accuracy: 0.7703 - val_loss: 0.2914 - val_accuracy: 0.9315\n",
      "Epoch 73/1000\n",
      "30/30 [==============================] - ETA: 0s - loss: 0.6317 - accuracy: 0.7672\n",
      "Epoch 73: saving model to model/keypoint_classifier\\keypoint_classifier.hdf5\n",
      "30/30 [==============================] - 0s 6ms/step - loss: 0.6317 - accuracy: 0.7672 - val_loss: 0.2888 - val_accuracy: 0.9331\n",
      "Epoch 74/1000\n",
      "29/30 [============================>.] - ETA: 0s - loss: 0.6239 - accuracy: 0.7702\n",
      "Epoch 74: saving model to model/keypoint_classifier\\keypoint_classifier.hdf5\n",
      "30/30 [==============================] - 0s 6ms/step - loss: 0.6243 - accuracy: 0.7696 - val_loss: 0.2895 - val_accuracy: 0.9315\n",
      "Epoch 75/1000\n",
      "26/30 [=========================>....] - ETA: 0s - loss: 0.6356 - accuracy: 0.7674\n",
      "Epoch 75: saving model to model/keypoint_classifier\\keypoint_classifier.hdf5\n",
      "30/30 [==============================] - 0s 6ms/step - loss: 0.6315 - accuracy: 0.7672 - val_loss: 0.2801 - val_accuracy: 0.9378\n",
      "Epoch 76/1000\n",
      "28/30 [===========================>..] - ETA: 0s - loss: 0.6306 - accuracy: 0.7584\n",
      "Epoch 76: saving model to model/keypoint_classifier\\keypoint_classifier.hdf5\n",
      "30/30 [==============================] - 0s 6ms/step - loss: 0.6311 - accuracy: 0.7609 - val_loss: 0.2783 - val_accuracy: 0.9394\n",
      "Epoch 77/1000\n",
      "30/30 [==============================] - ETA: 0s - loss: 0.6140 - accuracy: 0.7748\n",
      "Epoch 77: saving model to model/keypoint_classifier\\keypoint_classifier.hdf5\n",
      "30/30 [==============================] - 0s 6ms/step - loss: 0.6140 - accuracy: 0.7748 - val_loss: 0.2737 - val_accuracy: 0.9426\n",
      "Epoch 78/1000\n",
      "27/30 [==========================>...] - ETA: 0s - loss: 0.6522 - accuracy: 0.7572\n",
      "Epoch 78: saving model to model/keypoint_classifier\\keypoint_classifier.hdf5\n",
      "30/30 [==============================] - 0s 6ms/step - loss: 0.6506 - accuracy: 0.7567 - val_loss: 0.2821 - val_accuracy: 0.9347\n",
      "Epoch 79/1000\n",
      "27/30 [==========================>...] - ETA: 0s - loss: 0.6319 - accuracy: 0.7613\n",
      "Epoch 79: saving model to model/keypoint_classifier\\keypoint_classifier.hdf5\n",
      "30/30 [==============================] - 0s 6ms/step - loss: 0.6279 - accuracy: 0.7619 - val_loss: 0.2833 - val_accuracy: 0.9402\n",
      "Epoch 80/1000\n",
      "28/30 [===========================>..] - ETA: 0s - loss: 0.6358 - accuracy: 0.7612\n",
      "Epoch 80: saving model to model/keypoint_classifier\\keypoint_classifier.hdf5\n",
      "30/30 [==============================] - 0s 6ms/step - loss: 0.6368 - accuracy: 0.7609 - val_loss: 0.2727 - val_accuracy: 0.9426\n",
      "Epoch 81/1000\n",
      "28/30 [===========================>..] - ETA: 0s - loss: 0.6389 - accuracy: 0.7564\n",
      "Epoch 81: saving model to model/keypoint_classifier\\keypoint_classifier.hdf5\n",
      "30/30 [==============================] - 0s 6ms/step - loss: 0.6414 - accuracy: 0.7554 - val_loss: 0.2741 - val_accuracy: 0.9434\n",
      "Epoch 82/1000\n"
     ]
    },
    {
     "name": "stdout",
     "output_type": "stream",
     "text": [
      "16/30 [===============>..............] - ETA: 0s - loss: 0.6150 - accuracy: 0.7715\n",
      "Epoch 82: saving model to model/keypoint_classifier\\keypoint_classifier.hdf5\n",
      "30/30 [==============================] - 0s 6ms/step - loss: 0.6154 - accuracy: 0.7745 - val_loss: 0.2791 - val_accuracy: 0.9386\n",
      "Epoch 83/1000\n",
      "30/30 [==============================] - ETA: 0s - loss: 0.6356 - accuracy: 0.7672\n",
      "Epoch 83: saving model to model/keypoint_classifier\\keypoint_classifier.hdf5\n",
      "30/30 [==============================] - 0s 6ms/step - loss: 0.6356 - accuracy: 0.7672 - val_loss: 0.2729 - val_accuracy: 0.9465\n",
      "Epoch 84/1000\n",
      "29/30 [============================>.] - ETA: 0s - loss: 0.6181 - accuracy: 0.7702\n",
      "Epoch 84: saving model to model/keypoint_classifier\\keypoint_classifier.hdf5\n",
      "30/30 [==============================] - 0s 6ms/step - loss: 0.6195 - accuracy: 0.7698 - val_loss: 0.2750 - val_accuracy: 0.9441\n",
      "Epoch 85/1000\n",
      "29/30 [============================>.] - ETA: 0s - loss: 0.6226 - accuracy: 0.7732\n",
      "Epoch 85: saving model to model/keypoint_classifier\\keypoint_classifier.hdf5\n",
      "30/30 [==============================] - 0s 6ms/step - loss: 0.6228 - accuracy: 0.7727 - val_loss: 0.2747 - val_accuracy: 0.9504\n",
      "Epoch 86/1000\n",
      "28/30 [===========================>..] - ETA: 0s - loss: 0.6200 - accuracy: 0.7595\n",
      "Epoch 86: saving model to model/keypoint_classifier\\keypoint_classifier.hdf5\n",
      "30/30 [==============================] - 0s 6ms/step - loss: 0.6191 - accuracy: 0.7601 - val_loss: 0.2684 - val_accuracy: 0.9457\n",
      "Epoch 87/1000\n",
      "28/30 [===========================>..] - ETA: 0s - loss: 0.6182 - accuracy: 0.7720\n",
      "Epoch 87: saving model to model/keypoint_classifier\\keypoint_classifier.hdf5\n",
      "30/30 [==============================] - 0s 6ms/step - loss: 0.6230 - accuracy: 0.7701 - val_loss: 0.2702 - val_accuracy: 0.9449\n",
      "Epoch 88/1000\n",
      "26/30 [=========================>....] - ETA: 0s - loss: 0.5985 - accuracy: 0.7849\n",
      "Epoch 88: saving model to model/keypoint_classifier\\keypoint_classifier.hdf5\n",
      "30/30 [==============================] - 0s 6ms/step - loss: 0.6063 - accuracy: 0.7816 - val_loss: 0.2680 - val_accuracy: 0.9457\n",
      "Epoch 89/1000\n",
      "28/30 [===========================>..] - ETA: 0s - loss: 0.6403 - accuracy: 0.7575\n",
      "Epoch 89: saving model to model/keypoint_classifier\\keypoint_classifier.hdf5\n",
      "30/30 [==============================] - 0s 6ms/step - loss: 0.6337 - accuracy: 0.7612 - val_loss: 0.2741 - val_accuracy: 0.9489\n",
      "Epoch 90/1000\n",
      "28/30 [===========================>..] - ETA: 0s - loss: 0.5724 - accuracy: 0.7871\n",
      "Epoch 90: saving model to model/keypoint_classifier\\keypoint_classifier.hdf5\n",
      "30/30 [==============================] - 0s 6ms/step - loss: 0.5773 - accuracy: 0.7869 - val_loss: 0.2609 - val_accuracy: 0.9504\n",
      "Epoch 91/1000\n",
      "28/30 [===========================>..] - ETA: 0s - loss: 0.6082 - accuracy: 0.7723\n",
      "Epoch 91: saving model to model/keypoint_classifier\\keypoint_classifier.hdf5\n",
      "30/30 [==============================] - 0s 6ms/step - loss: 0.6101 - accuracy: 0.7740 - val_loss: 0.2655 - val_accuracy: 0.9457\n",
      "Epoch 92/1000\n",
      "25/30 [========================>.....] - ETA: 0s - loss: 0.5979 - accuracy: 0.7738\n",
      "Epoch 92: saving model to model/keypoint_classifier\\keypoint_classifier.hdf5\n",
      "30/30 [==============================] - 0s 6ms/step - loss: 0.5958 - accuracy: 0.7753 - val_loss: 0.2654 - val_accuracy: 0.9441\n",
      "Epoch 93/1000\n",
      "28/30 [===========================>..] - ETA: 0s - loss: 0.6224 - accuracy: 0.7642\n",
      "Epoch 93: saving model to model/keypoint_classifier\\keypoint_classifier.hdf5\n",
      "30/30 [==============================] - 0s 6ms/step - loss: 0.6185 - accuracy: 0.7619 - val_loss: 0.2687 - val_accuracy: 0.9418\n",
      "Epoch 94/1000\n",
      "29/30 [============================>.] - ETA: 0s - loss: 0.6106 - accuracy: 0.7834\n",
      "Epoch 94: saving model to model/keypoint_classifier\\keypoint_classifier.hdf5\n",
      "30/30 [==============================] - 0s 6ms/step - loss: 0.6117 - accuracy: 0.7827 - val_loss: 0.2600 - val_accuracy: 0.9465\n",
      "Epoch 95/1000\n",
      "27/30 [==========================>...] - ETA: 0s - loss: 0.6048 - accuracy: 0.7821\n",
      "Epoch 95: saving model to model/keypoint_classifier\\keypoint_classifier.hdf5\n",
      "30/30 [==============================] - 0s 6ms/step - loss: 0.6027 - accuracy: 0.7816 - val_loss: 0.2579 - val_accuracy: 0.9465\n",
      "Epoch 96/1000\n",
      "27/30 [==========================>...] - ETA: 0s - loss: 0.5719 - accuracy: 0.7870\n",
      "Epoch 96: saving model to model/keypoint_classifier\\keypoint_classifier.hdf5\n",
      "30/30 [==============================] - 0s 6ms/step - loss: 0.5709 - accuracy: 0.7882 - val_loss: 0.2570 - val_accuracy: 0.9473\n",
      "Epoch 97/1000\n",
      "29/30 [============================>.] - ETA: 0s - loss: 0.6009 - accuracy: 0.7710\n",
      "Epoch 97: saving model to model/keypoint_classifier\\keypoint_classifier.hdf5\n",
      "30/30 [==============================] - 0s 6ms/step - loss: 0.5985 - accuracy: 0.7719 - val_loss: 0.2524 - val_accuracy: 0.9496\n",
      "Epoch 98/1000\n",
      "27/30 [==========================>...] - ETA: 0s - loss: 0.5887 - accuracy: 0.7827\n",
      "Epoch 98: saving model to model/keypoint_classifier\\keypoint_classifier.hdf5\n",
      "30/30 [==============================] - 0s 6ms/step - loss: 0.5876 - accuracy: 0.7814 - val_loss: 0.2455 - val_accuracy: 0.9567\n",
      "Epoch 99/1000\n",
      "28/30 [===========================>..] - ETA: 0s - loss: 0.5765 - accuracy: 0.7832\n",
      "Epoch 99: saving model to model/keypoint_classifier\\keypoint_classifier.hdf5\n",
      "30/30 [==============================] - 0s 6ms/step - loss: 0.5764 - accuracy: 0.7829 - val_loss: 0.2463 - val_accuracy: 0.9520\n",
      "Epoch 100/1000\n",
      "27/30 [==========================>...] - ETA: 0s - loss: 0.5825 - accuracy: 0.7833\n",
      "Epoch 100: saving model to model/keypoint_classifier\\keypoint_classifier.hdf5\n",
      "30/30 [==============================] - 0s 6ms/step - loss: 0.5833 - accuracy: 0.7793 - val_loss: 0.2520 - val_accuracy: 0.9481\n",
      "Epoch 101/1000\n",
      "26/30 [=========================>....] - ETA: 0s - loss: 0.5771 - accuracy: 0.7927\n",
      "Epoch 101: saving model to model/keypoint_classifier\\keypoint_classifier.hdf5\n",
      "30/30 [==============================] - 0s 7ms/step - loss: 0.5810 - accuracy: 0.7911 - val_loss: 0.2482 - val_accuracy: 0.9465\n",
      "Epoch 102/1000\n",
      "27/30 [==========================>...] - ETA: 0s - loss: 0.5842 - accuracy: 0.7792\n",
      "Epoch 102: saving model to model/keypoint_classifier\\keypoint_classifier.hdf5\n",
      "30/30 [==============================] - 0s 6ms/step - loss: 0.5846 - accuracy: 0.7801 - val_loss: 0.2516 - val_accuracy: 0.9449\n",
      "Epoch 103/1000\n",
      "25/30 [========================>.....] - ETA: 0s - loss: 0.5825 - accuracy: 0.7866\n",
      "Epoch 103: saving model to model/keypoint_classifier\\keypoint_classifier.hdf5\n",
      "30/30 [==============================] - 0s 7ms/step - loss: 0.5851 - accuracy: 0.7882 - val_loss: 0.2476 - val_accuracy: 0.9465\n",
      "Epoch 104/1000\n",
      "29/30 [============================>.] - ETA: 0s - loss: 0.5951 - accuracy: 0.7794\n",
      "Epoch 104: saving model to model/keypoint_classifier\\keypoint_classifier.hdf5\n",
      "30/30 [==============================] - 0s 6ms/step - loss: 0.5947 - accuracy: 0.7790 - val_loss: 0.2455 - val_accuracy: 0.9512\n",
      "Epoch 105/1000\n",
      "24/30 [=======================>......] - ETA: 0s - loss: 0.6074 - accuracy: 0.7734\n",
      "Epoch 105: saving model to model/keypoint_classifier\\keypoint_classifier.hdf5\n",
      "30/30 [==============================] - 0s 7ms/step - loss: 0.6005 - accuracy: 0.7780 - val_loss: 0.2468 - val_accuracy: 0.9481\n",
      "Epoch 106/1000\n",
      "27/30 [==========================>...] - ETA: 0s - loss: 0.5830 - accuracy: 0.7856\n",
      "Epoch 106: saving model to model/keypoint_classifier\\keypoint_classifier.hdf5\n",
      "30/30 [==============================] - 0s 6ms/step - loss: 0.5864 - accuracy: 0.7848 - val_loss: 0.2471 - val_accuracy: 0.9489\n",
      "Epoch 107/1000\n",
      "24/30 [=======================>......] - ETA: 0s - loss: 0.5829 - accuracy: 0.7767\n",
      "Epoch 107: saving model to model/keypoint_classifier\\keypoint_classifier.hdf5\n",
      "30/30 [==============================] - 0s 7ms/step - loss: 0.5770 - accuracy: 0.7819 - val_loss: 0.2532 - val_accuracy: 0.9481\n",
      "Epoch 108/1000\n",
      "28/30 [===========================>..] - ETA: 0s - loss: 0.5865 - accuracy: 0.7790\n",
      "Epoch 108: saving model to model/keypoint_classifier\\keypoint_classifier.hdf5\n",
      "30/30 [==============================] - 0s 6ms/step - loss: 0.5857 - accuracy: 0.7798 - val_loss: 0.2461 - val_accuracy: 0.9528\n",
      "Epoch 109/1000\n"
     ]
    },
    {
     "name": "stdout",
     "output_type": "stream",
     "text": [
      "25/30 [========================>.....] - ETA: 0s - loss: 0.5840 - accuracy: 0.7844\n",
      "Epoch 109: saving model to model/keypoint_classifier\\keypoint_classifier.hdf5\n",
      "30/30 [==============================] - 0s 7ms/step - loss: 0.5891 - accuracy: 0.7822 - val_loss: 0.2402 - val_accuracy: 0.9528\n",
      "Epoch 110/1000\n",
      "27/30 [==========================>...] - ETA: 0s - loss: 0.5714 - accuracy: 0.7847\n",
      "Epoch 110: saving model to model/keypoint_classifier\\keypoint_classifier.hdf5\n",
      "30/30 [==============================] - 0s 7ms/step - loss: 0.5699 - accuracy: 0.7822 - val_loss: 0.2388 - val_accuracy: 0.9552\n",
      "Epoch 111/1000\n",
      "27/30 [==========================>...] - ETA: 0s - loss: 0.5925 - accuracy: 0.7830\n",
      "Epoch 111: saving model to model/keypoint_classifier\\keypoint_classifier.hdf5\n",
      "30/30 [==============================] - 0s 7ms/step - loss: 0.5850 - accuracy: 0.7856 - val_loss: 0.2450 - val_accuracy: 0.9544\n",
      "Epoch 112/1000\n",
      "25/30 [========================>.....] - ETA: 0s - loss: 0.6072 - accuracy: 0.7694\n",
      "Epoch 112: saving model to model/keypoint_classifier\\keypoint_classifier.hdf5\n",
      "30/30 [==============================] - 0s 7ms/step - loss: 0.6063 - accuracy: 0.7682 - val_loss: 0.2534 - val_accuracy: 0.9504\n",
      "Epoch 113/1000\n",
      "25/30 [========================>.....] - ETA: 0s - loss: 0.5878 - accuracy: 0.7862\n",
      "Epoch 113: saving model to model/keypoint_classifier\\keypoint_classifier.hdf5\n",
      "30/30 [==============================] - 0s 7ms/step - loss: 0.5837 - accuracy: 0.7885 - val_loss: 0.2476 - val_accuracy: 0.9504\n",
      "Epoch 114/1000\n",
      "28/30 [===========================>..] - ETA: 0s - loss: 0.5924 - accuracy: 0.7815\n",
      "Epoch 114: saving model to model/keypoint_classifier\\keypoint_classifier.hdf5\n",
      "30/30 [==============================] - 0s 6ms/step - loss: 0.5882 - accuracy: 0.7858 - val_loss: 0.2433 - val_accuracy: 0.9504\n",
      "Epoch 115/1000\n",
      "24/30 [=======================>......] - ETA: 0s - loss: 0.5504 - accuracy: 0.7939\n",
      "Epoch 115: saving model to model/keypoint_classifier\\keypoint_classifier.hdf5\n",
      "30/30 [==============================] - 0s 7ms/step - loss: 0.5635 - accuracy: 0.7892 - val_loss: 0.2449 - val_accuracy: 0.9512\n",
      "Epoch 116/1000\n",
      "27/30 [==========================>...] - ETA: 0s - loss: 0.5704 - accuracy: 0.7902\n",
      "Epoch 116: saving model to model/keypoint_classifier\\keypoint_classifier.hdf5\n",
      "30/30 [==============================] - 0s 6ms/step - loss: 0.5681 - accuracy: 0.7903 - val_loss: 0.2331 - val_accuracy: 0.9591\n",
      "Epoch 117/1000\n",
      "26/30 [=========================>....] - ETA: 0s - loss: 0.5592 - accuracy: 0.8044\n",
      "Epoch 117: saving model to model/keypoint_classifier\\keypoint_classifier.hdf5\n",
      "30/30 [==============================] - 0s 7ms/step - loss: 0.5643 - accuracy: 0.8024 - val_loss: 0.2412 - val_accuracy: 0.9512\n",
      "Epoch 118/1000\n",
      "26/30 [=========================>....] - ETA: 0s - loss: 0.5815 - accuracy: 0.7819\n",
      "Epoch 118: saving model to model/keypoint_classifier\\keypoint_classifier.hdf5\n",
      "30/30 [==============================] - 0s 7ms/step - loss: 0.5775 - accuracy: 0.7811 - val_loss: 0.2439 - val_accuracy: 0.9512\n",
      "Epoch 119/1000\n",
      "25/30 [========================>.....] - ETA: 0s - loss: 0.5572 - accuracy: 0.7919\n",
      "Epoch 119: saving model to model/keypoint_classifier\\keypoint_classifier.hdf5\n",
      "30/30 [==============================] - 0s 7ms/step - loss: 0.5616 - accuracy: 0.7913 - val_loss: 0.2416 - val_accuracy: 0.9552\n",
      "Epoch 120/1000\n",
      "25/30 [========================>.....] - ETA: 0s - loss: 0.5802 - accuracy: 0.7887\n",
      "Epoch 120: saving model to model/keypoint_classifier\\keypoint_classifier.hdf5\n",
      "30/30 [==============================] - 0s 6ms/step - loss: 0.5745 - accuracy: 0.7903 - val_loss: 0.2471 - val_accuracy: 0.9489\n",
      "Epoch 121/1000\n",
      "26/30 [=========================>....] - ETA: 0s - loss: 0.5641 - accuracy: 0.7930\n",
      "Epoch 121: saving model to model/keypoint_classifier\\keypoint_classifier.hdf5\n",
      "30/30 [==============================] - 0s 6ms/step - loss: 0.5688 - accuracy: 0.7900 - val_loss: 0.2369 - val_accuracy: 0.9536\n",
      "Epoch 122/1000\n",
      "30/30 [==============================] - ETA: 0s - loss: 0.5785 - accuracy: 0.7940\n",
      "Epoch 122: saving model to model/keypoint_classifier\\keypoint_classifier.hdf5\n",
      "30/30 [==============================] - 0s 6ms/step - loss: 0.5785 - accuracy: 0.7940 - val_loss: 0.2404 - val_accuracy: 0.9544\n",
      "Epoch 123/1000\n",
      "28/30 [===========================>..] - ETA: 0s - loss: 0.5675 - accuracy: 0.7930\n",
      "Epoch 123: saving model to model/keypoint_classifier\\keypoint_classifier.hdf5\n",
      "30/30 [==============================] - 0s 6ms/step - loss: 0.5634 - accuracy: 0.7958 - val_loss: 0.2363 - val_accuracy: 0.9544\n",
      "Epoch 124/1000\n",
      "25/30 [========================>.....] - ETA: 0s - loss: 0.5771 - accuracy: 0.7891\n",
      "Epoch 124: saving model to model/keypoint_classifier\\keypoint_classifier.hdf5\n",
      "30/30 [==============================] - 0s 7ms/step - loss: 0.5855 - accuracy: 0.7837 - val_loss: 0.2307 - val_accuracy: 0.9583\n",
      "Epoch 125/1000\n",
      "26/30 [=========================>....] - ETA: 0s - loss: 0.5663 - accuracy: 0.7942\n",
      "Epoch 125: saving model to model/keypoint_classifier\\keypoint_classifier.hdf5\n",
      "30/30 [==============================] - 0s 6ms/step - loss: 0.5720 - accuracy: 0.7919 - val_loss: 0.2360 - val_accuracy: 0.9591\n",
      "Epoch 126/1000\n",
      "26/30 [=========================>....] - ETA: 0s - loss: 0.5925 - accuracy: 0.7843\n",
      "Epoch 126: saving model to model/keypoint_classifier\\keypoint_classifier.hdf5\n",
      "30/30 [==============================] - 0s 7ms/step - loss: 0.5870 - accuracy: 0.7850 - val_loss: 0.2402 - val_accuracy: 0.9559\n",
      "Epoch 127/1000\n",
      "25/30 [========================>.....] - ETA: 0s - loss: 0.5582 - accuracy: 0.7937\n",
      "Epoch 127: saving model to model/keypoint_classifier\\keypoint_classifier.hdf5\n",
      "30/30 [==============================] - 0s 7ms/step - loss: 0.5615 - accuracy: 0.7937 - val_loss: 0.2408 - val_accuracy: 0.9552\n",
      "Epoch 128/1000\n",
      "27/30 [==========================>...] - ETA: 0s - loss: 0.5577 - accuracy: 0.7989\n",
      "Epoch 128: saving model to model/keypoint_classifier\\keypoint_classifier.hdf5\n",
      "30/30 [==============================] - 0s 6ms/step - loss: 0.5559 - accuracy: 0.7982 - val_loss: 0.2438 - val_accuracy: 0.9528\n",
      "Epoch 129/1000\n",
      "26/30 [=========================>....] - ETA: 0s - loss: 0.5732 - accuracy: 0.7828\n",
      "Epoch 129: saving model to model/keypoint_classifier\\keypoint_classifier.hdf5\n",
      "30/30 [==============================] - 0s 6ms/step - loss: 0.5751 - accuracy: 0.7822 - val_loss: 0.2468 - val_accuracy: 0.9512\n",
      "Epoch 130/1000\n",
      "28/30 [===========================>..] - ETA: 0s - loss: 0.5610 - accuracy: 0.7977\n",
      "Epoch 130: saving model to model/keypoint_classifier\\keypoint_classifier.hdf5\n",
      "30/30 [==============================] - 0s 6ms/step - loss: 0.5587 - accuracy: 0.7966 - val_loss: 0.2459 - val_accuracy: 0.9536\n",
      "Epoch 131/1000\n",
      "26/30 [=========================>....] - ETA: 0s - loss: 0.5559 - accuracy: 0.7960\n",
      "Epoch 131: saving model to model/keypoint_classifier\\keypoint_classifier.hdf5\n",
      "30/30 [==============================] - 0s 7ms/step - loss: 0.5587 - accuracy: 0.7942 - val_loss: 0.2487 - val_accuracy: 0.9520\n",
      "Epoch 132/1000\n",
      "26/30 [=========================>....] - ETA: 0s - loss: 0.5537 - accuracy: 0.7954\n",
      "Epoch 132: saving model to model/keypoint_classifier\\keypoint_classifier.hdf5\n",
      "30/30 [==============================] - 0s 6ms/step - loss: 0.5546 - accuracy: 0.7934 - val_loss: 0.2484 - val_accuracy: 0.9512\n",
      "Epoch 133/1000\n",
      "25/30 [========================>.....] - ETA: 0s - loss: 0.5760 - accuracy: 0.7894\n",
      "Epoch 133: saving model to model/keypoint_classifier\\keypoint_classifier.hdf5\n",
      "30/30 [==============================] - 0s 6ms/step - loss: 0.5734 - accuracy: 0.7892 - val_loss: 0.2486 - val_accuracy: 0.9496\n",
      "Epoch 134/1000\n",
      "27/30 [==========================>...] - ETA: 0s - loss: 0.5905 - accuracy: 0.7752\n",
      "Epoch 134: saving model to model/keypoint_classifier\\keypoint_classifier.hdf5\n",
      "30/30 [==============================] - 0s 6ms/step - loss: 0.5916 - accuracy: 0.7743 - val_loss: 0.2398 - val_accuracy: 0.9575\n",
      "Epoch 135/1000\n",
      "29/30 [============================>.] - ETA: 0s - loss: 0.5712 - accuracy: 0.7926\n",
      "Epoch 135: saving model to model/keypoint_classifier\\keypoint_classifier.hdf5\n",
      "30/30 [==============================] - 0s 6ms/step - loss: 0.5720 - accuracy: 0.7913 - val_loss: 0.2400 - val_accuracy: 0.9544\n"
     ]
    },
    {
     "name": "stdout",
     "output_type": "stream",
     "text": [
      "Epoch 136/1000\n",
      "28/30 [===========================>..] - ETA: 0s - loss: 0.5504 - accuracy: 0.8058\n",
      "Epoch 136: saving model to model/keypoint_classifier\\keypoint_classifier.hdf5\n",
      "30/30 [==============================] - 0s 6ms/step - loss: 0.5489 - accuracy: 0.8055 - val_loss: 0.2396 - val_accuracy: 0.9520\n",
      "Epoch 137/1000\n",
      "24/30 [=======================>......] - ETA: 0s - loss: 0.5752 - accuracy: 0.7868\n",
      "Epoch 137: saving model to model/keypoint_classifier\\keypoint_classifier.hdf5\n",
      "30/30 [==============================] - 0s 6ms/step - loss: 0.5728 - accuracy: 0.7869 - val_loss: 0.2421 - val_accuracy: 0.9520\n",
      "Epoch 138/1000\n",
      "29/30 [============================>.] - ETA: 0s - loss: 0.5535 - accuracy: 0.7982\n",
      "Epoch 138: saving model to model/keypoint_classifier\\keypoint_classifier.hdf5\n",
      "30/30 [==============================] - 0s 6ms/step - loss: 0.5552 - accuracy: 0.7966 - val_loss: 0.2423 - val_accuracy: 0.9552\n",
      "Epoch 139/1000\n",
      "28/30 [===========================>..] - ETA: 0s - loss: 0.5652 - accuracy: 0.7899\n",
      "Epoch 139: saving model to model/keypoint_classifier\\keypoint_classifier.hdf5\n",
      "30/30 [==============================] - 0s 6ms/step - loss: 0.5645 - accuracy: 0.7908 - val_loss: 0.2345 - val_accuracy: 0.9559\n",
      "Epoch 140/1000\n",
      "28/30 [===========================>..] - ETA: 0s - loss: 0.5651 - accuracy: 0.7879\n",
      "Epoch 140: saving model to model/keypoint_classifier\\keypoint_classifier.hdf5\n",
      "30/30 [==============================] - 0s 6ms/step - loss: 0.5683 - accuracy: 0.7871 - val_loss: 0.2472 - val_accuracy: 0.9544\n",
      "Epoch 141/1000\n",
      "29/30 [============================>.] - ETA: 0s - loss: 0.5493 - accuracy: 0.7971\n",
      "Epoch 141: saving model to model/keypoint_classifier\\keypoint_classifier.hdf5\n",
      "30/30 [==============================] - 0s 6ms/step - loss: 0.5489 - accuracy: 0.7982 - val_loss: 0.2376 - val_accuracy: 0.9559\n",
      "Epoch 142/1000\n",
      "27/30 [==========================>...] - ETA: 0s - loss: 0.5509 - accuracy: 0.7925\n",
      "Epoch 142: saving model to model/keypoint_classifier\\keypoint_classifier.hdf5\n",
      "30/30 [==============================] - 0s 6ms/step - loss: 0.5482 - accuracy: 0.7945 - val_loss: 0.2381 - val_accuracy: 0.9583\n",
      "Epoch 143/1000\n",
      "28/30 [===========================>..] - ETA: 0s - loss: 0.5686 - accuracy: 0.7952\n",
      "Epoch 143: saving model to model/keypoint_classifier\\keypoint_classifier.hdf5\n",
      "30/30 [==============================] - 0s 6ms/step - loss: 0.5675 - accuracy: 0.7961 - val_loss: 0.2307 - val_accuracy: 0.9622\n",
      "Epoch 144/1000\n",
      "26/30 [=========================>....] - ETA: 0s - loss: 0.5355 - accuracy: 0.7981\n",
      "Epoch 144: saving model to model/keypoint_classifier\\keypoint_classifier.hdf5\n",
      "30/30 [==============================] - 0s 6ms/step - loss: 0.5421 - accuracy: 0.7966 - val_loss: 0.2308 - val_accuracy: 0.9583\n",
      "Epoch 145/1000\n",
      "27/30 [==========================>...] - ETA: 0s - loss: 0.5600 - accuracy: 0.7917\n",
      "Epoch 145: saving model to model/keypoint_classifier\\keypoint_classifier.hdf5\n",
      "30/30 [==============================] - 0s 6ms/step - loss: 0.5592 - accuracy: 0.7924 - val_loss: 0.2335 - val_accuracy: 0.9591\n",
      "Epoch 146/1000\n",
      "26/30 [=========================>....] - ETA: 0s - loss: 0.5773 - accuracy: 0.7846\n",
      "Epoch 146: saving model to model/keypoint_classifier\\keypoint_classifier.hdf5\n",
      "30/30 [==============================] - 0s 6ms/step - loss: 0.5758 - accuracy: 0.7856 - val_loss: 0.2436 - val_accuracy: 0.9544\n",
      "Epoch 147/1000\n",
      "28/30 [===========================>..] - ETA: 0s - loss: 0.5497 - accuracy: 0.7980\n",
      "Epoch 147: saving model to model/keypoint_classifier\\keypoint_classifier.hdf5\n",
      "30/30 [==============================] - 0s 6ms/step - loss: 0.5472 - accuracy: 0.7990 - val_loss: 0.2385 - val_accuracy: 0.9552\n",
      "Epoch 148/1000\n",
      "30/30 [==============================] - ETA: 0s - loss: 0.5421 - accuracy: 0.8024\n",
      "Epoch 148: saving model to model/keypoint_classifier\\keypoint_classifier.hdf5\n",
      "30/30 [==============================] - 0s 6ms/step - loss: 0.5421 - accuracy: 0.8024 - val_loss: 0.2380 - val_accuracy: 0.9544\n",
      "Epoch 149/1000\n",
      "25/30 [========================>.....] - ETA: 0s - loss: 0.5719 - accuracy: 0.7906\n",
      "Epoch 149: saving model to model/keypoint_classifier\\keypoint_classifier.hdf5\n",
      "30/30 [==============================] - 0s 7ms/step - loss: 0.5709 - accuracy: 0.7911 - val_loss: 0.2354 - val_accuracy: 0.9583\n",
      "Epoch 150/1000\n",
      "23/30 [======================>.......] - ETA: 0s - loss: 0.5402 - accuracy: 0.8033\n",
      "Epoch 150: saving model to model/keypoint_classifier\\keypoint_classifier.hdf5\n",
      "30/30 [==============================] - 0s 7ms/step - loss: 0.5512 - accuracy: 0.8021 - val_loss: 0.2388 - val_accuracy: 0.9552\n",
      "Epoch 151/1000\n",
      "28/30 [===========================>..] - ETA: 0s - loss: 0.5672 - accuracy: 0.7919\n",
      "Epoch 151: saving model to model/keypoint_classifier\\keypoint_classifier.hdf5\n",
      "30/30 [==============================] - 0s 6ms/step - loss: 0.5630 - accuracy: 0.7924 - val_loss: 0.2388 - val_accuracy: 0.9591\n",
      "Epoch 152/1000\n",
      "28/30 [===========================>..] - ETA: 0s - loss: 0.5426 - accuracy: 0.8025\n",
      "Epoch 152: saving model to model/keypoint_classifier\\keypoint_classifier.hdf5\n",
      "30/30 [==============================] - 0s 6ms/step - loss: 0.5457 - accuracy: 0.8008 - val_loss: 0.2337 - val_accuracy: 0.9575\n",
      "Epoch 153/1000\n",
      "27/30 [==========================>...] - ETA: 0s - loss: 0.5329 - accuracy: 0.8056\n",
      "Epoch 153: saving model to model/keypoint_classifier\\keypoint_classifier.hdf5\n",
      "30/30 [==============================] - 0s 6ms/step - loss: 0.5373 - accuracy: 0.8050 - val_loss: 0.2236 - val_accuracy: 0.9614\n",
      "Epoch 154/1000\n",
      "26/30 [=========================>....] - ETA: 0s - loss: 0.5551 - accuracy: 0.7945\n",
      "Epoch 154: saving model to model/keypoint_classifier\\keypoint_classifier.hdf5\n",
      "30/30 [==============================] - 0s 6ms/step - loss: 0.5595 - accuracy: 0.7940 - val_loss: 0.2350 - val_accuracy: 0.9599\n",
      "Epoch 155/1000\n",
      "26/30 [=========================>....] - ETA: 0s - loss: 0.5337 - accuracy: 0.8011\n",
      "Epoch 155: saving model to model/keypoint_classifier\\keypoint_classifier.hdf5\n",
      "30/30 [==============================] - 0s 6ms/step - loss: 0.5331 - accuracy: 0.7992 - val_loss: 0.2227 - val_accuracy: 0.9607\n",
      "Epoch 156/1000\n",
      "25/30 [========================>.....] - ETA: 0s - loss: 0.5603 - accuracy: 0.7994\n",
      "Epoch 156: saving model to model/keypoint_classifier\\keypoint_classifier.hdf5\n",
      "30/30 [==============================] - 0s 6ms/step - loss: 0.5621 - accuracy: 0.7969 - val_loss: 0.2422 - val_accuracy: 0.9583\n",
      "Epoch 157/1000\n",
      "28/30 [===========================>..] - ETA: 0s - loss: 0.5437 - accuracy: 0.7980\n",
      "Epoch 157: saving model to model/keypoint_classifier\\keypoint_classifier.hdf5\n",
      "30/30 [==============================] - 0s 6ms/step - loss: 0.5441 - accuracy: 0.7974 - val_loss: 0.2332 - val_accuracy: 0.9583\n",
      "Epoch 158/1000\n",
      "28/30 [===========================>..] - ETA: 0s - loss: 0.5410 - accuracy: 0.7949\n",
      "Epoch 158: saving model to model/keypoint_classifier\\keypoint_classifier.hdf5\n",
      "30/30 [==============================] - 0s 6ms/step - loss: 0.5428 - accuracy: 0.7927 - val_loss: 0.2304 - val_accuracy: 0.9607\n",
      "Epoch 159/1000\n",
      "28/30 [===========================>..] - ETA: 0s - loss: 0.5346 - accuracy: 0.8041\n",
      "Epoch 159: saving model to model/keypoint_classifier\\keypoint_classifier.hdf5\n",
      "30/30 [==============================] - 0s 6ms/step - loss: 0.5347 - accuracy: 0.8013 - val_loss: 0.2344 - val_accuracy: 0.9559\n",
      "Epoch 160/1000\n",
      "29/30 [============================>.] - ETA: 0s - loss: 0.5471 - accuracy: 0.7974\n",
      "Epoch 160: saving model to model/keypoint_classifier\\keypoint_classifier.hdf5\n",
      "30/30 [==============================] - 0s 6ms/step - loss: 0.5458 - accuracy: 0.7979 - val_loss: 0.2372 - val_accuracy: 0.9559\n",
      "Epoch 161/1000\n",
      "27/30 [==========================>...] - ETA: 0s - loss: 0.5240 - accuracy: 0.7963\n",
      "Epoch 161: saving model to model/keypoint_classifier\\keypoint_classifier.hdf5\n",
      "30/30 [==============================] - 0s 6ms/step - loss: 0.5254 - accuracy: 0.7976 - val_loss: 0.2328 - val_accuracy: 0.9567\n",
      "Epoch 162/1000\n",
      "27/30 [==========================>...] - ETA: 0s - loss: 0.5513 - accuracy: 0.8018\n",
      "Epoch 162: saving model to model/keypoint_classifier\\keypoint_classifier.hdf5\n",
      "30/30 [==============================] - 0s 6ms/step - loss: 0.5501 - accuracy: 0.8024 - val_loss: 0.2436 - val_accuracy: 0.9559\n"
     ]
    },
    {
     "name": "stdout",
     "output_type": "stream",
     "text": [
      "Epoch 163/1000\n",
      "25/30 [========================>.....] - ETA: 0s - loss: 0.5603 - accuracy: 0.7994\n",
      "Epoch 163: saving model to model/keypoint_classifier\\keypoint_classifier.hdf5\n",
      "30/30 [==============================] - 0s 7ms/step - loss: 0.5645 - accuracy: 0.7987 - val_loss: 0.2385 - val_accuracy: 0.9630\n",
      "Epoch 164/1000\n",
      "29/30 [============================>.] - ETA: 0s - loss: 0.5451 - accuracy: 0.8033\n",
      "Epoch 164: saving model to model/keypoint_classifier\\keypoint_classifier.hdf5\n",
      "30/30 [==============================] - 0s 6ms/step - loss: 0.5449 - accuracy: 0.8031 - val_loss: 0.2358 - val_accuracy: 0.9607\n",
      "Epoch 165/1000\n",
      "28/30 [===========================>..] - ETA: 0s - loss: 0.5199 - accuracy: 0.8131\n",
      "Epoch 165: saving model to model/keypoint_classifier\\keypoint_classifier.hdf5\n",
      "30/30 [==============================] - 0s 6ms/step - loss: 0.5171 - accuracy: 0.8131 - val_loss: 0.2305 - val_accuracy: 0.9599\n",
      "Epoch 166/1000\n",
      "27/30 [==========================>...] - ETA: 0s - loss: 0.5226 - accuracy: 0.8111\n",
      "Epoch 166: saving model to model/keypoint_classifier\\keypoint_classifier.hdf5\n",
      "30/30 [==============================] - 0s 6ms/step - loss: 0.5252 - accuracy: 0.8110 - val_loss: 0.2391 - val_accuracy: 0.9559\n",
      "Epoch 167/1000\n",
      "27/30 [==========================>...] - ETA: 0s - loss: 0.5227 - accuracy: 0.8079\n",
      "Epoch 167: saving model to model/keypoint_classifier\\keypoint_classifier.hdf5\n",
      "30/30 [==============================] - 0s 6ms/step - loss: 0.5207 - accuracy: 0.8089 - val_loss: 0.2336 - val_accuracy: 0.9552\n",
      "Epoch 168/1000\n",
      "28/30 [===========================>..] - ETA: 0s - loss: 0.5395 - accuracy: 0.8025\n",
      "Epoch 168: saving model to model/keypoint_classifier\\keypoint_classifier.hdf5\n",
      "30/30 [==============================] - 0s 6ms/step - loss: 0.5453 - accuracy: 0.8010 - val_loss: 0.2409 - val_accuracy: 0.9559\n",
      "Epoch 169/1000\n",
      "26/30 [=========================>....] - ETA: 0s - loss: 0.5504 - accuracy: 0.7939\n",
      "Epoch 169: saving model to model/keypoint_classifier\\keypoint_classifier.hdf5\n",
      "30/30 [==============================] - 0s 6ms/step - loss: 0.5565 - accuracy: 0.7906 - val_loss: 0.2420 - val_accuracy: 0.9583\n",
      "Epoch 170/1000\n",
      "26/30 [=========================>....] - ETA: 0s - loss: 0.5268 - accuracy: 0.8113\n",
      "Epoch 170: saving model to model/keypoint_classifier\\keypoint_classifier.hdf5\n",
      "30/30 [==============================] - 0s 6ms/step - loss: 0.5305 - accuracy: 0.8092 - val_loss: 0.2461 - val_accuracy: 0.9552\n",
      "Epoch 171/1000\n",
      "27/30 [==========================>...] - ETA: 0s - loss: 0.5364 - accuracy: 0.8024\n",
      "Epoch 171: saving model to model/keypoint_classifier\\keypoint_classifier.hdf5\n",
      "30/30 [==============================] - 0s 7ms/step - loss: 0.5313 - accuracy: 0.8050 - val_loss: 0.2420 - val_accuracy: 0.9552\n",
      "Epoch 172/1000\n",
      "27/30 [==========================>...] - ETA: 0s - loss: 0.5488 - accuracy: 0.8044\n",
      "Epoch 172: saving model to model/keypoint_classifier\\keypoint_classifier.hdf5\n",
      "30/30 [==============================] - 0s 6ms/step - loss: 0.5522 - accuracy: 0.8055 - val_loss: 0.2414 - val_accuracy: 0.9583\n",
      "Epoch 173/1000\n",
      "25/30 [========================>.....] - ETA: 0s - loss: 0.5326 - accuracy: 0.7975\n",
      "Epoch 173: saving model to model/keypoint_classifier\\keypoint_classifier.hdf5\n",
      "30/30 [==============================] - 0s 7ms/step - loss: 0.5350 - accuracy: 0.7982 - val_loss: 0.2504 - val_accuracy: 0.9544\n",
      "Epoch 174/1000\n",
      "24/30 [=======================>......] - ETA: 0s - loss: 0.5156 - accuracy: 0.8128\n",
      "Epoch 174: saving model to model/keypoint_classifier\\keypoint_classifier.hdf5\n",
      "30/30 [==============================] - 0s 7ms/step - loss: 0.5272 - accuracy: 0.8076 - val_loss: 0.2369 - val_accuracy: 0.9559\n",
      "Epoch 175/1000\n",
      "25/30 [========================>.....] - ETA: 0s - loss: 0.5306 - accuracy: 0.8094\n",
      "Epoch 175: saving model to model/keypoint_classifier\\keypoint_classifier.hdf5\n",
      "30/30 [==============================] - 0s 7ms/step - loss: 0.5350 - accuracy: 0.8058 - val_loss: 0.2383 - val_accuracy: 0.9591\n",
      "Epoch 175: early stopping\n"
     ]
    },
    {
     "data": {
      "text/plain": [
       "<keras.callbacks.History at 0x233e1319030>"
      ]
     },
     "execution_count": 11,
     "metadata": {},
     "output_type": "execute_result"
    }
   ],
   "source": [
    "model.fit(\n",
    "    X_train,\n",
    "    y_train,\n",
    "    epochs=1000,\n",
    "    batch_size=128,\n",
    "    validation_data=(X_test, y_test),\n",
    "    callbacks=[cp_callback, es_callback]\n",
    ")"
   ]
  },
  {
   "cell_type": "code",
   "execution_count": 12,
   "metadata": {
    "colab": {
     "base_uri": "https://localhost:8080/"
    },
    "id": "pxvb2Y299hE3",
    "outputId": "59eb3185-2e37-4b9e-bc9d-ab1b8ac29b7f"
   },
   "outputs": [
    {
     "name": "stdout",
     "output_type": "stream",
     "text": [
      "10/10 [==============================] - 0s 4ms/step - loss: 0.2383 - accuracy: 0.9591\n"
     ]
    }
   ],
   "source": [
    "# Model evaluation\n",
    "val_loss, val_acc = model.evaluate(X_test, y_test, batch_size=128)"
   ]
  },
  {
   "cell_type": "code",
   "execution_count": 13,
   "metadata": {
    "id": "RBkmDeUW9hE4"
   },
   "outputs": [],
   "source": [
    "# Loading the saved model\n",
    "model = tf.keras.models.load_model(model_save_path)"
   ]
  },
  {
   "cell_type": "code",
   "execution_count": 14,
   "metadata": {
    "colab": {
     "base_uri": "https://localhost:8080/"
    },
    "id": "tFz9Tb0I9hE4",
    "outputId": "1c3b3528-54ae-4ee2-ab04-77429211cbef"
   },
   "outputs": [
    {
     "name": "stdout",
     "output_type": "stream",
     "text": [
      "[0.10464893 0.01310493 0.00150803 0.00716706 0.8735711 ]\n",
      "4\n"
     ]
    }
   ],
   "source": [
    "# Inference test\n",
    "predict_result = model.predict(np.array([X_test[0]]))\n",
    "print(np.squeeze(predict_result))\n",
    "print(np.argmax(np.squeeze(predict_result)))"
   ]
  },
  {
   "cell_type": "markdown",
   "metadata": {
    "id": "S3U4yNWx9hE4"
   },
   "source": [
    "# Confusion matrix"
   ]
  },
  {
   "cell_type": "code",
   "execution_count": 15,
   "metadata": {
    "colab": {
     "base_uri": "https://localhost:8080/",
     "height": 582
    },
    "id": "AP1V6SCk9hE5",
    "outputId": "08e41a80-7a4a-4619-8125-ecc371368d19"
   },
   "outputs": [
    {
     "data": {
      "image/png": "[encoded data removed]",
      "text/plain": [
       "<Figure size 504x432 with 2 Axes>"
      ]
     },
     "metadata": {
      "needs_background": "light"
     },
     "output_type": "display_data"
    },
    {
     "name": "stdout",
     "output_type": "stream",
     "text": [
      "Classification Report\n",
      "              precision    recall  f1-score   support\n",
      "\n",
      "           0       0.98      0.99      0.99       397\n",
      "           1       0.99      0.93      0.96       384\n",
      "           2       0.89      0.99      0.94       329\n",
      "           3       0.99      0.96      0.97        81\n",
      "           4       1.00      0.79      0.88        80\n",
      "\n",
      "    accuracy                           0.96      1271\n",
      "   macro avg       0.97      0.93      0.95      1271\n",
      "weighted avg       0.96      0.96      0.96      1271\n",
      "\n"
     ]
    }
   ],
   "source": [
    "import pandas as pd\n",
    "import seaborn as sns\n",
    "import matplotlib.pyplot as plt\n",
    "from sklearn.metrics import confusion_matrix, classification_report\n",
    "\n",
    "def print_confusion_matrix(y_true, y_pred, report=True):\n",
    "    labels = sorted(list(set(y_true)))\n",
    "    cmx_data = confusion_matrix(y_true, y_pred, labels=labels)\n",
    "    \n",
    "    df_cmx = pd.DataFrame(cmx_data, index=labels, columns=labels)\n",
    " \n",
    "    fig, ax = plt.subplots(figsize=(7, 6))\n",
    "    sns.heatmap(df_cmx, annot=True, fmt='g' ,square=False)\n",
    "    ax.set_ylim(len(set(y_true)), 0)\n",
    "    plt.show()\n",
    "    \n",
    "    if report:\n",
    "        print('Classification Report')\n",
    "        print(classification_report(y_test, y_pred))\n",
    "\n",
    "Y_pred = model.predict(X_test)\n",
    "y_pred = np.argmax(Y_pred, axis=1)\n",
    "\n",
    "print_confusion_matrix(y_test, y_pred)"
   ]
  },
  {
   "cell_type": "markdown",
   "metadata": {
    "id": "FNP6aqzc9hE5"
   },
   "source": [
    "# Convert to model for Tensorflow-Lite"
   ]
  },
  {
   "cell_type": "code",
   "execution_count": 16,
   "metadata": {
    "id": "ODjnYyld9hE6"
   },
   "outputs": [],
   "source": [
    "# Save as a model dedicated to inference\n",
    "model.save(model_save_path, include_optimizer=False)"
   ]
  },
  {
   "cell_type": "code",
   "execution_count": 17,
   "metadata": {
    "colab": {
     "base_uri": "https://localhost:8080/"
    },
    "id": "zRfuK8Y59hE6",
    "outputId": "a4ca585c-b5d5-4244-8291-8674063209bb"
   },
   "outputs": [
    {
     "name": "stdout",
     "output_type": "stream",
     "text": [
      "INFO:tensorflow:Assets written to: C:\\Users\\ryan6\\AppData\\Local\\Temp\\tmpeovi15o_\\assets\n"
     ]
    },
    {
     "name": "stderr",
     "output_type": "stream",
     "text": [
      "WARNING:absl:Buffer deduplication procedure will be skipped when flatbuffer library is not properly loaded\n"
     ]
    },
    {
     "data": {
      "text/plain": [
       "6464"
      ]
     },
     "execution_count": 17,
     "metadata": {},
     "output_type": "execute_result"
    }
   ],
   "source": [
    "# Transform model (quantization)\n",
    "\n",
    "converter = tf.lite.TFLiteConverter.from_keras_model(model)\n",
    "converter.optimizations = [tf.lite.Optimize.DEFAULT]\n",
    "tflite_quantized_model = converter.convert()\n",
    "\n",
    "open(tflite_save_path, 'wb').write(tflite_quantized_model)"
   ]
  },
  {
   "cell_type": "markdown",
   "metadata": {
    "id": "CHBPBXdx9hE6"
   },
   "source": [
    "# Inference test"
   ]
  },
  {
   "cell_type": "code",
   "execution_count": 18,
   "metadata": {
    "id": "mGAzLocO9hE7"
   },
   "outputs": [],
   "source": [
    "interpreter = tf.lite.Interpreter(model_path=tflite_save_path)\n",
    "interpreter.allocate_tensors()"
   ]
  },
  {
   "cell_type": "code",
   "execution_count": 19,
   "metadata": {
    "id": "oQuDK8YS9hE7"
   },
   "outputs": [],
   "source": [
    "# Get I / O tensor\n",
    "input_details = interpreter.get_input_details()\n",
    "output_details = interpreter.get_output_details()"
   ]
  },
  {
   "cell_type": "code",
   "execution_count": 20,
   "metadata": {
    "id": "2_ixAf_l9hE7"
   },
   "outputs": [],
   "source": [
    "interpreter.set_tensor(input_details[0]['index'], np.array([X_test[0]]))"
   ]
  },
  {
   "cell_type": "code",
   "execution_count": 21,
   "metadata": {
    "colab": {
     "base_uri": "https://localhost:8080/"
    },
    "id": "s4FoAnuc9hE7",
    "outputId": "91f18257-8d8b-4ef3-c558-e9b5f94fabbf",
    "scrolled": true
   },
   "outputs": [
    {
     "name": "stdout",
     "output_type": "stream",
     "text": [
      "Wall time: 0 ns\n"
     ]
    }
   ],
   "source": [
    "%%time\n",
    "# Inference implementation\n",
    "interpreter.invoke()\n",
    "tflite_results = interpreter.get_tensor(output_details[0]['index'])"
   ]
  },
  {
   "cell_type": "code",
   "execution_count": 22,
   "metadata": {
    "colab": {
     "base_uri": "https://localhost:8080/"
    },
    "id": "vONjp19J9hE8",
    "outputId": "77205e24-fd00-42c4-f7b6-e06e527c2cba"
   },
   "outputs": [
    {
     "name": "stdout",
     "output_type": "stream",
     "text": [
      "[0.1046489  0.01310493 0.00150803 0.00716706 0.8735711 ]\n",
      "4\n"
     ]
    }
   ],
   "source": [
    "print(np.squeeze(tflite_results))\n",
    "print(np.argmax(np.squeeze(tflite_results)))"
   ]
  }
 ],
 "metadata": {
  "accelerator": "GPU",
  "colab": {
   "collapsed_sections": [],
   "name": "keypoint_classification_EN.ipynb",
   "provenance": [],
   "toc_visible": true
  },
  "kernelspec": {
   "display_name": "hand",
   "language": "python",
   "name": "hand"
  },
  "language_info": {
   "codemirror_mode": {
    "name": "ipython",
    "version": 3
   },
   "file_extension": ".py",
   "mimetype": "text/x-python",
   "name": "python",
   "nbconvert_exporter": "python",
   "pygments_lexer": "ipython3",
   "version": "3.10.4"
  }
 },
 "nbformat": 4,
 "nbformat_minor": 1
}
