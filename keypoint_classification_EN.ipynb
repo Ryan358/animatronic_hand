{
 "cells": [
  {
   "cell_type": "code",
   "execution_count": 23,
   "metadata": {
    "id": "igMyGnjE9hEp"
   },
   "outputs": [],
   "source": [
    "import csv\n",
    "\n",
    "import numpy as np\n",
    "import tensorflow as tf\n",
    "from sklearn.model_selection import train_test_split\n",
    "\n",
    "RANDOM_SEED = 42"
   ]
  },
  {
   "cell_type": "markdown",
   "metadata": {
    "id": "t2HDvhIu9hEr"
   },
   "source": [
    "# Specify each path"
   ]
  },
  {
   "cell_type": "code",
   "execution_count": 24,
   "metadata": {
    "id": "9NvZP2Zn9hEy"
   },
   "outputs": [],
   "source": [
    "dataset = 'model/keypoint_classifier/keypoint.csv'\n",
    "model_save_path = 'model/keypoint_classifier/keypoint_classifier.hdf5'\n",
    "tflite_save_path = 'model/keypoint_classifier/keypoint_classifier.tflite'"
   ]
  },
  {
   "cell_type": "markdown",
   "metadata": {
    "id": "s5oMH7x19hEz"
   },
   "source": [
    "# Set number of classes"
   ]
  },
  {
   "cell_type": "code",
   "execution_count": 25,
   "metadata": {
    "id": "du4kodXL9hEz"
   },
   "outputs": [],
   "source": [
    "NUM_CLASSES = 5"
   ]
  },
  {
   "cell_type": "markdown",
   "metadata": {
    "id": "XjnL0uso9hEz"
   },
   "source": [
    "# Dataset reading"
   ]
  },
  {
   "cell_type": "code",
   "execution_count": 26,
   "metadata": {
    "id": "QT5ZqtEz9hE0"
   },
   "outputs": [],
   "source": [
    "X_dataset = np.loadtxt(dataset, delimiter=',', dtype='float32', usecols=list(range(1, (21 * 2) + 1)))"
   ]
  },
  {
   "cell_type": "code",
   "execution_count": 27,
   "metadata": {
    "id": "QmoKFsp49hE0"
   },
   "outputs": [],
   "source": [
    "y_dataset = np.loadtxt(dataset, delimiter=',', dtype='int32', usecols=(0))"
   ]
  },
  {
   "cell_type": "code",
   "execution_count": 28,
   "metadata": {
    "id": "xQU7JTZ_9hE0"
   },
   "outputs": [],
   "source": [
    "X_train, X_test, y_train, y_test = train_test_split(X_dataset, y_dataset, train_size=0.75, random_state=RANDOM_SEED)"
   ]
  },
  {
   "cell_type": "markdown",
   "metadata": {
    "id": "mxK_lETT9hE0"
   },
   "source": [
    "# Model building"
   ]
  },
  {
   "cell_type": "code",
   "execution_count": 29,
   "metadata": {
    "id": "vHBmUf1t9hE1"
   },
   "outputs": [],
   "source": [
    "model = tf.keras.models.Sequential([\n",
    "    tf.keras.layers.Input((21 * 2, )),\n",
    "    tf.keras.layers.Dropout(0.2),\n",
    "    tf.keras.layers.Dense(20, activation='relu'),\n",
    "    tf.keras.layers.Dropout(0.4),\n",
    "    tf.keras.layers.Dense(10, activation='relu'),\n",
    "    tf.keras.layers.Dense(NUM_CLASSES, activation='softmax')\n",
    "])"
   ]
  },
  {
   "cell_type": "code",
   "execution_count": 30,
   "metadata": {
    "colab": {
     "base_uri": "https://localhost:8080/"
    },
    "id": "ypqky9tc9hE1",
    "outputId": "5db082bb-30e3-4110-bf63-a1ee777ecd46"
   },
   "outputs": [
    {
     "name": "stdout",
     "output_type": "stream",
     "text": [
      "Model: \"sequential_1\"\n",
      "_________________________________________________________________\n",
      " Layer (type)                Output Shape              Param #   \n",
      "=================================================================\n",
      " dropout_2 (Dropout)         (None, 42)                0         \n",
      "                                                                 \n",
      " dense_3 (Dense)             (None, 20)                860       \n",
      "                                                                 \n",
      " dropout_3 (Dropout)         (None, 20)                0         \n",
      "                                                                 \n",
      " dense_4 (Dense)             (None, 10)                210       \n",
      "                                                                 \n",
      " dense_5 (Dense)             (None, 5)                 55        \n",
      "                                                                 \n",
      "=================================================================\n",
      "Total params: 1,125\n",
      "Trainable params: 1,125\n",
      "Non-trainable params: 0\n",
      "_________________________________________________________________\n"
     ]
    }
   ],
   "source": [
    "model.summary()  # tf.keras.utils.plot_model(model, show_shapes=True)"
   ]
  },
  {
   "cell_type": "code",
   "execution_count": 31,
   "metadata": {
    "id": "MbMjOflQ9hE1"
   },
   "outputs": [],
   "source": [
    "# Model checkpoint callback\n",
    "cp_callback = tf.keras.callbacks.ModelCheckpoint(\n",
    "    model_save_path, verbose=1, save_weights_only=False)\n",
    "# Callback for early stopping\n",
    "es_callback = tf.keras.callbacks.EarlyStopping(patience=20, verbose=1)"
   ]
  },
  {
   "cell_type": "code",
   "execution_count": 32,
   "metadata": {
    "id": "c3Dac0M_9hE2"
   },
   "outputs": [],
   "source": [
    "# Model compilation\n",
    "model.compile(\n",
    "    optimizer='adam',\n",
    "    loss='sparse_categorical_crossentropy',\n",
    "    metrics=['accuracy']\n",
    ")"
   ]
  },
  {
   "cell_type": "markdown",
   "metadata": {
    "id": "7XI0j1Iu9hE2"
   },
   "source": [
    "# Model training"
   ]
  },
  {
   "cell_type": "code",
   "execution_count": 33,
   "metadata": {
    "colab": {
     "base_uri": "https://localhost:8080/"
    },
    "id": "WirBl-JE9hE3",
    "outputId": "71b30ca2-8294-4d9d-8aa2-800d90d399de",
    "scrolled": true
   },
   "outputs": [
    {
     "name": "stdout",
     "output_type": "stream",
     "text": [
      "Epoch 1/1000\n",
      "23/29 [======================>.......] - ETA: 0s - loss: 1.7471 - accuracy: 0.1970\n",
      "Epoch 1: saving model to model/keypoint_classifier\\keypoint_classifier.hdf5\n",
      "29/29 [==============================] - 1s 12ms/step - loss: 1.7120 - accuracy: 0.2136 - val_loss: 1.5159 - val_accuracy: 0.3742\n",
      "Epoch 2/1000\n",
      "18/29 [=================>............] - ETA: 0s - loss: 1.5154 - accuracy: 0.3103\n",
      "Epoch 2: saving model to model/keypoint_classifier\\keypoint_classifier.hdf5\n",
      "29/29 [==============================] - 0s 5ms/step - loss: 1.4799 - accuracy: 0.3259 - val_loss: 1.3592 - val_accuracy: 0.4224\n",
      "Epoch 3/1000\n",
      "18/29 [=================>............] - ETA: 0s - loss: 1.3746 - accuracy: 0.3689\n",
      "Epoch 3: saving model to model/keypoint_classifier\\keypoint_classifier.hdf5\n",
      "29/29 [==============================] - 0s 5ms/step - loss: 1.3626 - accuracy: 0.3755 - val_loss: 1.2660 - val_accuracy: 0.4600\n",
      "Epoch 4/1000\n",
      "17/29 [================>.............] - ETA: 0s - loss: 1.3111 - accuracy: 0.3966\n",
      "Epoch 4: saving model to model/keypoint_classifier\\keypoint_classifier.hdf5\n",
      "29/29 [==============================] - 0s 5ms/step - loss: 1.2976 - accuracy: 0.4071 - val_loss: 1.1933 - val_accuracy: 0.4886\n",
      "Epoch 5/1000\n",
      "14/29 [=============>................] - ETA: 0s - loss: 1.2513 - accuracy: 0.4420\n",
      "Epoch 5: saving model to model/keypoint_classifier\\keypoint_classifier.hdf5\n",
      "29/29 [==============================] - 0s 5ms/step - loss: 1.2456 - accuracy: 0.4409 - val_loss: 1.1381 - val_accuracy: 0.5572\n",
      "Epoch 6/1000\n",
      "18/29 [=================>............] - ETA: 0s - loss: 1.1962 - accuracy: 0.4661\n",
      "Epoch 6: saving model to model/keypoint_classifier\\keypoint_classifier.hdf5\n",
      "29/29 [==============================] - 0s 5ms/step - loss: 1.1915 - accuracy: 0.4722 - val_loss: 1.0813 - val_accuracy: 0.5882\n",
      "Epoch 7/1000\n",
      "18/29 [=================>............] - ETA: 0s - loss: 1.1492 - accuracy: 0.4874\n",
      "Epoch 7: saving model to model/keypoint_classifier\\keypoint_classifier.hdf5\n",
      "29/29 [==============================] - 0s 5ms/step - loss: 1.1516 - accuracy: 0.4853 - val_loss: 1.0285 - val_accuracy: 0.6569\n",
      "Epoch 8/1000\n",
      "19/29 [==================>...........] - ETA: 0s - loss: 1.1324 - accuracy: 0.5058\n",
      "Epoch 8: saving model to model/keypoint_classifier\\keypoint_classifier.hdf5\n",
      "29/29 [==============================] - 0s 5ms/step - loss: 1.1251 - accuracy: 0.5101 - val_loss: 0.9760 - val_accuracy: 0.6789\n",
      "Epoch 9/1000\n",
      "18/29 [=================>............] - ETA: 0s - loss: 1.0814 - accuracy: 0.5434\n",
      "Epoch 9: saving model to model/keypoint_classifier\\keypoint_classifier.hdf5\n",
      "29/29 [==============================] - 0s 5ms/step - loss: 1.0788 - accuracy: 0.5398 - val_loss: 0.9214 - val_accuracy: 0.7083\n",
      "Epoch 10/1000\n",
      "18/29 [=================>............] - ETA: 0s - loss: 1.0587 - accuracy: 0.5464\n",
      "Epoch 10: saving model to model/keypoint_classifier\\keypoint_classifier.hdf5\n",
      "29/29 [==============================] - 0s 5ms/step - loss: 1.0472 - accuracy: 0.5545 - val_loss: 0.8788 - val_accuracy: 0.7100\n",
      "Epoch 11/1000\n",
      "18/29 [=================>............] - ETA: 0s - loss: 1.0520 - accuracy: 0.5469\n",
      "Epoch 11: saving model to model/keypoint_classifier\\keypoint_classifier.hdf5\n",
      "29/29 [==============================] - 0s 5ms/step - loss: 1.0356 - accuracy: 0.5559 - val_loss: 0.8377 - val_accuracy: 0.7353\n",
      "Epoch 12/1000\n",
      "18/29 [=================>............] - ETA: 0s - loss: 0.9977 - accuracy: 0.5768\n",
      "Epoch 12: saving model to model/keypoint_classifier\\keypoint_classifier.hdf5\n",
      "29/29 [==============================] - 0s 5ms/step - loss: 1.0031 - accuracy: 0.5689 - val_loss: 0.8020 - val_accuracy: 0.7288\n",
      "Epoch 13/1000\n",
      "18/29 [=================>............] - ETA: 0s - loss: 0.9792 - accuracy: 0.5747\n",
      "Epoch 13: saving model to model/keypoint_classifier\\keypoint_classifier.hdf5\n",
      "29/29 [==============================] - 0s 5ms/step - loss: 0.9814 - accuracy: 0.5796 - val_loss: 0.7716 - val_accuracy: 0.7386\n",
      "Epoch 14/1000\n",
      "16/29 [===============>..............] - ETA: 0s - loss: 0.9565 - accuracy: 0.5811\n",
      "Epoch 14: saving model to model/keypoint_classifier\\keypoint_classifier.hdf5\n",
      "29/29 [==============================] - 0s 5ms/step - loss: 0.9609 - accuracy: 0.5850 - val_loss: 0.7420 - val_accuracy: 0.7614\n",
      "Epoch 15/1000\n",
      "28/29 [===========================>..] - ETA: 0s - loss: 0.9260 - accuracy: 0.6105\n",
      "Epoch 15: saving model to model/keypoint_classifier\\keypoint_classifier.hdf5\n",
      "29/29 [==============================] - 0s 6ms/step - loss: 0.9274 - accuracy: 0.6095 - val_loss: 0.7129 - val_accuracy: 0.7680\n",
      "Epoch 16/1000\n",
      "16/29 [===============>..............] - ETA: 0s - loss: 0.9291 - accuracy: 0.6104\n",
      "Epoch 16: saving model to model/keypoint_classifier\\keypoint_classifier.hdf5\n",
      "29/29 [==============================] - 0s 5ms/step - loss: 0.9177 - accuracy: 0.6134 - val_loss: 0.6951 - val_accuracy: 0.7786\n",
      "Epoch 17/1000\n",
      "16/29 [===============>..............] - ETA: 0s - loss: 0.9104 - accuracy: 0.6309\n",
      "Epoch 17: saving model to model/keypoint_classifier\\keypoint_classifier.hdf5\n",
      "29/29 [==============================] - 0s 6ms/step - loss: 0.8979 - accuracy: 0.6302 - val_loss: 0.6705 - val_accuracy: 0.7868\n",
      "Epoch 18/1000\n",
      "28/29 [===========================>..] - ETA: 0s - loss: 0.8878 - accuracy: 0.6219\n",
      "Epoch 18: saving model to model/keypoint_classifier\\keypoint_classifier.hdf5\n",
      "29/29 [==============================] - 0s 6ms/step - loss: 0.8886 - accuracy: 0.6223 - val_loss: 0.6531 - val_accuracy: 0.7958\n",
      "Epoch 19/1000\n",
      "28/29 [===========================>..] - ETA: 0s - loss: 0.8851 - accuracy: 0.6230\n",
      "Epoch 19: saving model to model/keypoint_classifier\\keypoint_classifier.hdf5\n",
      "29/29 [==============================] - 0s 6ms/step - loss: 0.8854 - accuracy: 0.6226 - val_loss: 0.6403 - val_accuracy: 0.7982\n",
      "Epoch 20/1000\n",
      "25/29 [========================>.....] - ETA: 0s - loss: 0.8703 - accuracy: 0.6394\n",
      "Epoch 20: saving model to model/keypoint_classifier\\keypoint_classifier.hdf5\n",
      "29/29 [==============================] - 0s 6ms/step - loss: 0.8666 - accuracy: 0.6436 - val_loss: 0.6324 - val_accuracy: 0.7998\n",
      "Epoch 21/1000\n",
      "27/29 [==========================>...] - ETA: 0s - loss: 0.8653 - accuracy: 0.6421\n",
      "Epoch 21: saving model to model/keypoint_classifier\\keypoint_classifier.hdf5\n",
      "29/29 [==============================] - 0s 6ms/step - loss: 0.8644 - accuracy: 0.6414 - val_loss: 0.6114 - val_accuracy: 0.8088\n",
      "Epoch 22/1000\n",
      "16/29 [===============>..............] - ETA: 0s - loss: 0.8649 - accuracy: 0.6533\n",
      "Epoch 22: saving model to model/keypoint_classifier\\keypoint_classifier.hdf5\n",
      "29/29 [==============================] - 0s 6ms/step - loss: 0.8437 - accuracy: 0.6523 - val_loss: 0.5966 - val_accuracy: 0.8096\n",
      "Epoch 23/1000\n",
      "29/29 [==============================] - ETA: 0s - loss: 0.8466 - accuracy: 0.6583\n",
      "Epoch 23: saving model to model/keypoint_classifier\\keypoint_classifier.hdf5\n",
      "29/29 [==============================] - 0s 6ms/step - loss: 0.8466 - accuracy: 0.6583 - val_loss: 0.5832 - val_accuracy: 0.8129\n",
      "Epoch 24/1000\n",
      "28/29 [===========================>..] - ETA: 0s - loss: 0.8403 - accuracy: 0.6532\n",
      "Epoch 24: saving model to model/keypoint_classifier\\keypoint_classifier.hdf5\n",
      "29/29 [==============================] - 0s 6ms/step - loss: 0.8373 - accuracy: 0.6542 - val_loss: 0.5759 - val_accuracy: 0.8211\n",
      "Epoch 25/1000\n",
      "27/29 [==========================>...] - ETA: 0s - loss: 0.8228 - accuracy: 0.6716\n",
      "Epoch 25: saving model to model/keypoint_classifier\\keypoint_classifier.hdf5\n",
      "29/29 [==============================] - 0s 6ms/step - loss: 0.8213 - accuracy: 0.6708 - val_loss: 0.5716 - val_accuracy: 0.8203\n",
      "Epoch 26/1000\n",
      "28/29 [===========================>..] - ETA: 0s - loss: 0.8186 - accuracy: 0.6579\n",
      "Epoch 26: saving model to model/keypoint_classifier\\keypoint_classifier.hdf5\n",
      "29/29 [==============================] - 0s 6ms/step - loss: 0.8146 - accuracy: 0.6591 - val_loss: 0.5572 - val_accuracy: 0.8235\n",
      "Epoch 27/1000\n",
      "26/29 [=========================>....] - ETA: 0s - loss: 0.8004 - accuracy: 0.6767\n",
      "Epoch 27: saving model to model/keypoint_classifier\\keypoint_classifier.hdf5\n",
      "29/29 [==============================] - 0s 6ms/step - loss: 0.7976 - accuracy: 0.6798 - val_loss: 0.5451 - val_accuracy: 0.8243\n",
      "Epoch 28/1000\n"
     ]
    },
    {
     "name": "stdout",
     "output_type": "stream",
     "text": [
      "27/29 [==========================>...] - ETA: 0s - loss: 0.7900 - accuracy: 0.6771\n",
      "Epoch 28: saving model to model/keypoint_classifier\\keypoint_classifier.hdf5\n",
      "29/29 [==============================] - 0s 6ms/step - loss: 0.7944 - accuracy: 0.6749 - val_loss: 0.5337 - val_accuracy: 0.8399\n",
      "Epoch 29/1000\n",
      "29/29 [==============================] - ETA: 0s - loss: 0.7969 - accuracy: 0.6722\n",
      "Epoch 29: saving model to model/keypoint_classifier\\keypoint_classifier.hdf5\n",
      "29/29 [==============================] - 0s 6ms/step - loss: 0.7969 - accuracy: 0.6722 - val_loss: 0.5339 - val_accuracy: 0.8317\n",
      "Epoch 30/1000\n",
      "28/29 [===========================>..] - ETA: 0s - loss: 0.7809 - accuracy: 0.6797\n",
      "Epoch 30: saving model to model/keypoint_classifier\\keypoint_classifier.hdf5\n",
      "29/29 [==============================] - 0s 6ms/step - loss: 0.7793 - accuracy: 0.6796 - val_loss: 0.5192 - val_accuracy: 0.8538\n",
      "Epoch 31/1000\n",
      "27/29 [==========================>...] - ETA: 0s - loss: 0.7750 - accuracy: 0.6774\n",
      "Epoch 31: saving model to model/keypoint_classifier\\keypoint_classifier.hdf5\n",
      "29/29 [==============================] - 0s 6ms/step - loss: 0.7753 - accuracy: 0.6790 - val_loss: 0.5101 - val_accuracy: 0.8693\n",
      "Epoch 32/1000\n",
      "25/29 [========================>.....] - ETA: 0s - loss: 0.7760 - accuracy: 0.6844\n",
      "Epoch 32: saving model to model/keypoint_classifier\\keypoint_classifier.hdf5\n",
      "29/29 [==============================] - 0s 6ms/step - loss: 0.7804 - accuracy: 0.6828 - val_loss: 0.5049 - val_accuracy: 0.8734\n",
      "Epoch 33/1000\n",
      "29/29 [==============================] - ETA: 0s - loss: 0.7508 - accuracy: 0.6948\n",
      "Epoch 33: saving model to model/keypoint_classifier\\keypoint_classifier.hdf5\n",
      "29/29 [==============================] - 0s 6ms/step - loss: 0.7508 - accuracy: 0.6948 - val_loss: 0.4930 - val_accuracy: 0.8587\n",
      "Epoch 34/1000\n",
      "25/29 [========================>.....] - ETA: 0s - loss: 0.7483 - accuracy: 0.6950\n",
      "Epoch 34: saving model to model/keypoint_classifier\\keypoint_classifier.hdf5\n",
      "29/29 [==============================] - 0s 6ms/step - loss: 0.7536 - accuracy: 0.6935 - val_loss: 0.4837 - val_accuracy: 0.8480\n",
      "Epoch 35/1000\n",
      "26/29 [=========================>....] - ETA: 0s - loss: 0.7589 - accuracy: 0.6953\n",
      "Epoch 35: saving model to model/keypoint_classifier\\keypoint_classifier.hdf5\n",
      "29/29 [==============================] - 0s 6ms/step - loss: 0.7576 - accuracy: 0.6932 - val_loss: 0.4836 - val_accuracy: 0.8546\n",
      "Epoch 36/1000\n",
      "25/29 [========================>.....] - ETA: 0s - loss: 0.7629 - accuracy: 0.6984\n",
      "Epoch 36: saving model to model/keypoint_classifier\\keypoint_classifier.hdf5\n",
      "29/29 [==============================] - 0s 6ms/step - loss: 0.7644 - accuracy: 0.6962 - val_loss: 0.4785 - val_accuracy: 0.8652\n",
      "Epoch 37/1000\n",
      "25/29 [========================>.....] - ETA: 0s - loss: 0.7165 - accuracy: 0.7103\n",
      "Epoch 37: saving model to model/keypoint_classifier\\keypoint_classifier.hdf5\n",
      "29/29 [==============================] - 0s 6ms/step - loss: 0.7229 - accuracy: 0.7076 - val_loss: 0.4670 - val_accuracy: 0.8587\n",
      "Epoch 38/1000\n",
      "24/29 [=======================>......] - ETA: 0s - loss: 0.7386 - accuracy: 0.6950\n",
      "Epoch 38: saving model to model/keypoint_classifier\\keypoint_classifier.hdf5\n",
      "29/29 [==============================] - 0s 6ms/step - loss: 0.7431 - accuracy: 0.6946 - val_loss: 0.4612 - val_accuracy: 0.8660\n",
      "Epoch 39/1000\n",
      "24/29 [=======================>......] - ETA: 0s - loss: 0.7416 - accuracy: 0.6956\n",
      "Epoch 39: saving model to model/keypoint_classifier\\keypoint_classifier.hdf5\n",
      "29/29 [==============================] - 0s 7ms/step - loss: 0.7390 - accuracy: 0.6956 - val_loss: 0.4630 - val_accuracy: 0.8676\n",
      "Epoch 40/1000\n",
      "26/29 [=========================>....] - ETA: 0s - loss: 0.7062 - accuracy: 0.7178\n",
      "Epoch 40: saving model to model/keypoint_classifier\\keypoint_classifier.hdf5\n",
      "29/29 [==============================] - 0s 6ms/step - loss: 0.7041 - accuracy: 0.7183 - val_loss: 0.4447 - val_accuracy: 0.8693\n",
      "Epoch 41/1000\n",
      "24/29 [=======================>......] - ETA: 0s - loss: 0.7171 - accuracy: 0.7100\n",
      "Epoch 41: saving model to model/keypoint_classifier\\keypoint_classifier.hdf5\n",
      "29/29 [==============================] - 0s 6ms/step - loss: 0.7106 - accuracy: 0.7120 - val_loss: 0.4355 - val_accuracy: 0.8905\n",
      "Epoch 42/1000\n",
      "27/29 [==========================>...] - ETA: 0s - loss: 0.7300 - accuracy: 0.7017\n",
      "Epoch 42: saving model to model/keypoint_classifier\\keypoint_classifier.hdf5\n",
      "29/29 [==============================] - 0s 6ms/step - loss: 0.7262 - accuracy: 0.7038 - val_loss: 0.4425 - val_accuracy: 0.8832\n",
      "Epoch 43/1000\n",
      "26/29 [=========================>....] - ETA: 0s - loss: 0.7204 - accuracy: 0.7215\n",
      "Epoch 43: saving model to model/keypoint_classifier\\keypoint_classifier.hdf5\n",
      "29/29 [==============================] - 0s 7ms/step - loss: 0.7145 - accuracy: 0.7240 - val_loss: 0.4338 - val_accuracy: 0.8930\n",
      "Epoch 44/1000\n",
      "23/29 [======================>.......] - ETA: 0s - loss: 0.7138 - accuracy: 0.7130\n",
      "Epoch 44: saving model to model/keypoint_classifier\\keypoint_classifier.hdf5\n",
      "29/29 [==============================] - 0s 7ms/step - loss: 0.7175 - accuracy: 0.7106 - val_loss: 0.4299 - val_accuracy: 0.9011\n",
      "Epoch 45/1000\n",
      "27/29 [==========================>...] - ETA: 0s - loss: 0.7107 - accuracy: 0.7144\n",
      "Epoch 45: saving model to model/keypoint_classifier\\keypoint_classifier.hdf5\n",
      "29/29 [==============================] - 0s 6ms/step - loss: 0.7113 - accuracy: 0.7142 - val_loss: 0.4292 - val_accuracy: 0.9118\n",
      "Epoch 46/1000\n",
      "26/29 [=========================>....] - ETA: 0s - loss: 0.7087 - accuracy: 0.7133\n",
      "Epoch 46: saving model to model/keypoint_classifier\\keypoint_classifier.hdf5\n",
      "29/29 [==============================] - 0s 6ms/step - loss: 0.7082 - accuracy: 0.7125 - val_loss: 0.4211 - val_accuracy: 0.8987\n",
      "Epoch 47/1000\n",
      "26/29 [=========================>....] - ETA: 0s - loss: 0.6894 - accuracy: 0.7215\n",
      "Epoch 47: saving model to model/keypoint_classifier\\keypoint_classifier.hdf5\n",
      "29/29 [==============================] - 0s 6ms/step - loss: 0.6903 - accuracy: 0.7196 - val_loss: 0.4261 - val_accuracy: 0.9134\n",
      "Epoch 48/1000\n",
      "28/29 [===========================>..] - ETA: 0s - loss: 0.6939 - accuracy: 0.7282\n",
      "Epoch 48: saving model to model/keypoint_classifier\\keypoint_classifier.hdf5\n",
      "29/29 [==============================] - 0s 6ms/step - loss: 0.6952 - accuracy: 0.7264 - val_loss: 0.4152 - val_accuracy: 0.8995\n",
      "Epoch 49/1000\n",
      "26/29 [=========================>....] - ETA: 0s - loss: 0.7024 - accuracy: 0.7221\n",
      "Epoch 49: saving model to model/keypoint_classifier\\keypoint_classifier.hdf5\n",
      "29/29 [==============================] - 0s 6ms/step - loss: 0.7007 - accuracy: 0.7226 - val_loss: 0.4140 - val_accuracy: 0.8889\n",
      "Epoch 50/1000\n",
      "26/29 [=========================>....] - ETA: 0s - loss: 0.6818 - accuracy: 0.7314\n",
      "Epoch 50: saving model to model/keypoint_classifier\\keypoint_classifier.hdf5\n",
      "29/29 [==============================] - 0s 6ms/step - loss: 0.6850 - accuracy: 0.7302 - val_loss: 0.4121 - val_accuracy: 0.9036\n",
      "Epoch 51/1000\n",
      "26/29 [=========================>....] - ETA: 0s - loss: 0.7059 - accuracy: 0.7281\n",
      "Epoch 51: saving model to model/keypoint_classifier\\keypoint_classifier.hdf5\n",
      "29/29 [==============================] - 0s 6ms/step - loss: 0.6981 - accuracy: 0.7267 - val_loss: 0.4043 - val_accuracy: 0.9158\n",
      "Epoch 52/1000\n",
      "27/29 [==========================>...] - ETA: 0s - loss: 0.6832 - accuracy: 0.7347\n",
      "Epoch 52: saving model to model/keypoint_classifier\\keypoint_classifier.hdf5\n",
      "29/29 [==============================] - 0s 6ms/step - loss: 0.6835 - accuracy: 0.7354 - val_loss: 0.4034 - val_accuracy: 0.9175\n",
      "Epoch 53/1000\n",
      "24/29 [=======================>......] - ETA: 0s - loss: 0.6820 - accuracy: 0.7168\n",
      "Epoch 53: saving model to model/keypoint_classifier\\keypoint_classifier.hdf5\n",
      "29/29 [==============================] - 0s 7ms/step - loss: 0.6841 - accuracy: 0.7199 - val_loss: 0.3999 - val_accuracy: 0.9167\n",
      "Epoch 54/1000\n",
      "27/29 [==========================>...] - ETA: 0s - loss: 0.6725 - accuracy: 0.7335\n",
      "Epoch 54: saving model to model/keypoint_classifier\\keypoint_classifier.hdf5\n",
      "29/29 [==============================] - 0s 6ms/step - loss: 0.6722 - accuracy: 0.7341 - val_loss: 0.3925 - val_accuracy: 0.9150\n",
      "Epoch 55/1000\n"
     ]
    },
    {
     "name": "stdout",
     "output_type": "stream",
     "text": [
      "26/29 [=========================>....] - ETA: 0s - loss: 0.6759 - accuracy: 0.7251\n",
      "Epoch 55: saving model to model/keypoint_classifier\\keypoint_classifier.hdf5\n",
      "29/29 [==============================] - 0s 6ms/step - loss: 0.6814 - accuracy: 0.7223 - val_loss: 0.3931 - val_accuracy: 0.9118\n",
      "Epoch 56/1000\n",
      "25/29 [========================>.....] - ETA: 0s - loss: 0.6805 - accuracy: 0.7331\n",
      "Epoch 56: saving model to model/keypoint_classifier\\keypoint_classifier.hdf5\n",
      "29/29 [==============================] - 0s 6ms/step - loss: 0.6841 - accuracy: 0.7327 - val_loss: 0.3973 - val_accuracy: 0.9052\n",
      "Epoch 57/1000\n",
      "26/29 [=========================>....] - ETA: 0s - loss: 0.6761 - accuracy: 0.7374\n",
      "Epoch 57: saving model to model/keypoint_classifier\\keypoint_classifier.hdf5\n",
      "29/29 [==============================] - 0s 6ms/step - loss: 0.6796 - accuracy: 0.7332 - val_loss: 0.3874 - val_accuracy: 0.9191\n",
      "Epoch 58/1000\n",
      "27/29 [==========================>...] - ETA: 0s - loss: 0.6621 - accuracy: 0.7326\n",
      "Epoch 58: saving model to model/keypoint_classifier\\keypoint_classifier.hdf5\n",
      "29/29 [==============================] - 0s 6ms/step - loss: 0.6607 - accuracy: 0.7343 - val_loss: 0.3802 - val_accuracy: 0.9216\n",
      "Epoch 59/1000\n",
      "26/29 [=========================>....] - ETA: 0s - loss: 0.6776 - accuracy: 0.7386\n",
      "Epoch 59: saving model to model/keypoint_classifier\\keypoint_classifier.hdf5\n",
      "29/29 [==============================] - 0s 6ms/step - loss: 0.6842 - accuracy: 0.7360 - val_loss: 0.3869 - val_accuracy: 0.9069\n",
      "Epoch 60/1000\n",
      "26/29 [=========================>....] - ETA: 0s - loss: 0.6616 - accuracy: 0.7371\n",
      "Epoch 60: saving model to model/keypoint_classifier\\keypoint_classifier.hdf5\n",
      "29/29 [==============================] - 0s 6ms/step - loss: 0.6641 - accuracy: 0.7354 - val_loss: 0.3829 - val_accuracy: 0.9101\n",
      "Epoch 61/1000\n",
      "25/29 [========================>.....] - ETA: 0s - loss: 0.6432 - accuracy: 0.7500\n",
      "Epoch 61: saving model to model/keypoint_classifier\\keypoint_classifier.hdf5\n",
      "29/29 [==============================] - 0s 6ms/step - loss: 0.6494 - accuracy: 0.7493 - val_loss: 0.3815 - val_accuracy: 0.9126\n",
      "Epoch 62/1000\n",
      "29/29 [==============================] - ETA: 0s - loss: 0.6565 - accuracy: 0.7395\n",
      "Epoch 62: saving model to model/keypoint_classifier\\keypoint_classifier.hdf5\n",
      "29/29 [==============================] - 0s 6ms/step - loss: 0.6565 - accuracy: 0.7395 - val_loss: 0.3715 - val_accuracy: 0.9167\n",
      "Epoch 63/1000\n",
      "18/29 [=================>............] - ETA: 0s - loss: 0.6614 - accuracy: 0.7352\n",
      "Epoch 63: saving model to model/keypoint_classifier\\keypoint_classifier.hdf5\n",
      "29/29 [==============================] - 0s 6ms/step - loss: 0.6595 - accuracy: 0.7390 - val_loss: 0.3670 - val_accuracy: 0.9142\n",
      "Epoch 64/1000\n",
      "17/29 [================>.............] - ETA: 0s - loss: 0.6213 - accuracy: 0.7597\n",
      "Epoch 64: saving model to model/keypoint_classifier\\keypoint_classifier.hdf5\n",
      "29/29 [==============================] - 0s 5ms/step - loss: 0.6419 - accuracy: 0.7507 - val_loss: 0.3658 - val_accuracy: 0.9183\n",
      "Epoch 65/1000\n",
      "16/29 [===============>..............] - ETA: 0s - loss: 0.6596 - accuracy: 0.7397\n",
      "Epoch 65: saving model to model/keypoint_classifier\\keypoint_classifier.hdf5\n",
      "29/29 [==============================] - 0s 6ms/step - loss: 0.6665 - accuracy: 0.7376 - val_loss: 0.3643 - val_accuracy: 0.9208\n",
      "Epoch 66/1000\n",
      "14/29 [=============>................] - ETA: 0s - loss: 0.6561 - accuracy: 0.7494\n",
      "Epoch 66: saving model to model/keypoint_classifier\\keypoint_classifier.hdf5\n",
      "29/29 [==============================] - 0s 5ms/step - loss: 0.6537 - accuracy: 0.7452 - val_loss: 0.3630 - val_accuracy: 0.9224\n",
      "Epoch 67/1000\n",
      "29/29 [==============================] - ETA: 0s - loss: 0.6242 - accuracy: 0.7529\n",
      "Epoch 67: saving model to model/keypoint_classifier\\keypoint_classifier.hdf5\n",
      "29/29 [==============================] - 0s 6ms/step - loss: 0.6242 - accuracy: 0.7529 - val_loss: 0.3624 - val_accuracy: 0.9199\n",
      "Epoch 68/1000\n",
      "29/29 [==============================] - ETA: 0s - loss: 0.6321 - accuracy: 0.7507\n",
      "Epoch 68: saving model to model/keypoint_classifier\\keypoint_classifier.hdf5\n",
      "29/29 [==============================] - 0s 6ms/step - loss: 0.6321 - accuracy: 0.7507 - val_loss: 0.3543 - val_accuracy: 0.9248\n",
      "Epoch 69/1000\n",
      "16/29 [===============>..............] - ETA: 0s - loss: 0.6585 - accuracy: 0.7271\n",
      "Epoch 69: saving model to model/keypoint_classifier\\keypoint_classifier.hdf5\n",
      "29/29 [==============================] - 0s 6ms/step - loss: 0.6529 - accuracy: 0.7319 - val_loss: 0.3686 - val_accuracy: 0.9240\n",
      "Epoch 70/1000\n",
      "16/29 [===============>..............] - ETA: 0s - loss: 0.6590 - accuracy: 0.7544\n",
      "Epoch 70: saving model to model/keypoint_classifier\\keypoint_classifier.hdf5\n",
      "29/29 [==============================] - 0s 6ms/step - loss: 0.6536 - accuracy: 0.7490 - val_loss: 0.3644 - val_accuracy: 0.9167\n",
      "Epoch 71/1000\n",
      "17/29 [================>.............] - ETA: 0s - loss: 0.6373 - accuracy: 0.7652\n",
      "Epoch 71: saving model to model/keypoint_classifier\\keypoint_classifier.hdf5\n",
      "29/29 [==============================] - 0s 5ms/step - loss: 0.6345 - accuracy: 0.7583 - val_loss: 0.3566 - val_accuracy: 0.9232\n",
      "Epoch 72/1000\n",
      "16/29 [===============>..............] - ETA: 0s - loss: 0.6279 - accuracy: 0.7510\n",
      "Epoch 72: saving model to model/keypoint_classifier\\keypoint_classifier.hdf5\n",
      "29/29 [==============================] - 0s 5ms/step - loss: 0.6317 - accuracy: 0.7526 - val_loss: 0.3527 - val_accuracy: 0.9224\n",
      "Epoch 73/1000\n",
      "17/29 [================>.............] - ETA: 0s - loss: 0.6569 - accuracy: 0.7486\n",
      "Epoch 73: saving model to model/keypoint_classifier\\keypoint_classifier.hdf5\n",
      "29/29 [==============================] - 0s 5ms/step - loss: 0.6528 - accuracy: 0.7480 - val_loss: 0.3580 - val_accuracy: 0.9208\n",
      "Epoch 74/1000\n",
      "17/29 [================>.............] - ETA: 0s - loss: 0.6645 - accuracy: 0.7413\n",
      "Epoch 74: saving model to model/keypoint_classifier\\keypoint_classifier.hdf5\n",
      "29/29 [==============================] - 0s 5ms/step - loss: 0.6559 - accuracy: 0.7439 - val_loss: 0.3596 - val_accuracy: 0.9199\n",
      "Epoch 75/1000\n",
      "16/29 [===============>..............] - ETA: 0s - loss: 0.6256 - accuracy: 0.7549\n",
      "Epoch 75: saving model to model/keypoint_classifier\\keypoint_classifier.hdf5\n",
      "29/29 [==============================] - 0s 5ms/step - loss: 0.6342 - accuracy: 0.7553 - val_loss: 0.3557 - val_accuracy: 0.9257\n",
      "Epoch 76/1000\n",
      "15/29 [==============>...............] - ETA: 0s - loss: 0.6382 - accuracy: 0.7484\n",
      "Epoch 76: saving model to model/keypoint_classifier\\keypoint_classifier.hdf5\n",
      "29/29 [==============================] - 0s 5ms/step - loss: 0.6347 - accuracy: 0.7485 - val_loss: 0.3513 - val_accuracy: 0.9208\n",
      "Epoch 77/1000\n",
      "29/29 [==============================] - ETA: 0s - loss: 0.6350 - accuracy: 0.7463\n",
      "Epoch 77: saving model to model/keypoint_classifier\\keypoint_classifier.hdf5\n",
      "29/29 [==============================] - 0s 6ms/step - loss: 0.6350 - accuracy: 0.7463 - val_loss: 0.3540 - val_accuracy: 0.9281\n",
      "Epoch 78/1000\n",
      "16/29 [===============>..............] - ETA: 0s - loss: 0.6499 - accuracy: 0.7544\n",
      "Epoch 78: saving model to model/keypoint_classifier\\keypoint_classifier.hdf5\n",
      "29/29 [==============================] - 0s 6ms/step - loss: 0.6425 - accuracy: 0.7512 - val_loss: 0.3466 - val_accuracy: 0.9273\n",
      "Epoch 79/1000\n",
      "29/29 [==============================] - ETA: 0s - loss: 0.6244 - accuracy: 0.7493\n",
      "Epoch 79: saving model to model/keypoint_classifier\\keypoint_classifier.hdf5\n",
      "29/29 [==============================] - 0s 6ms/step - loss: 0.6244 - accuracy: 0.7493 - val_loss: 0.3499 - val_accuracy: 0.9281\n",
      "Epoch 80/1000\n",
      "15/29 [==============>...............] - ETA: 0s - loss: 0.6382 - accuracy: 0.7547\n",
      "Epoch 80: saving model to model/keypoint_classifier\\keypoint_classifier.hdf5\n",
      "29/29 [==============================] - 0s 6ms/step - loss: 0.6257 - accuracy: 0.7580 - val_loss: 0.3388 - val_accuracy: 0.9322\n",
      "Epoch 81/1000\n",
      "16/29 [===============>..............] - ETA: 0s - loss: 0.6461 - accuracy: 0.7471\n",
      "Epoch 81: saving model to model/keypoint_classifier\\keypoint_classifier.hdf5\n",
      "29/29 [==============================] - 0s 6ms/step - loss: 0.6302 - accuracy: 0.7526 - val_loss: 0.3394 - val_accuracy: 0.9314\n",
      "Epoch 82/1000\n"
     ]
    },
    {
     "name": "stdout",
     "output_type": "stream",
     "text": [
      "15/29 [==============>...............] - ETA: 0s - loss: 0.6397 - accuracy: 0.7510\n",
      "Epoch 82: saving model to model/keypoint_classifier\\keypoint_classifier.hdf5\n",
      "29/29 [==============================] - 0s 5ms/step - loss: 0.6221 - accuracy: 0.7572 - val_loss: 0.3411 - val_accuracy: 0.9257\n",
      "Epoch 83/1000\n",
      "17/29 [================>.............] - ETA: 0s - loss: 0.6073 - accuracy: 0.7624\n",
      "Epoch 83: saving model to model/keypoint_classifier\\keypoint_classifier.hdf5\n",
      "29/29 [==============================] - 0s 6ms/step - loss: 0.6040 - accuracy: 0.7676 - val_loss: 0.3340 - val_accuracy: 0.9297\n",
      "Epoch 84/1000\n",
      "17/29 [================>.............] - ETA: 0s - loss: 0.6021 - accuracy: 0.7610\n",
      "Epoch 84: saving model to model/keypoint_classifier\\keypoint_classifier.hdf5\n",
      "29/29 [==============================] - 0s 5ms/step - loss: 0.6173 - accuracy: 0.7556 - val_loss: 0.3334 - val_accuracy: 0.9289\n",
      "Epoch 85/1000\n",
      "29/29 [==============================] - ETA: 0s - loss: 0.6032 - accuracy: 0.7736\n",
      "Epoch 85: saving model to model/keypoint_classifier\\keypoint_classifier.hdf5\n",
      "29/29 [==============================] - 0s 6ms/step - loss: 0.6032 - accuracy: 0.7736 - val_loss: 0.3335 - val_accuracy: 0.9346\n",
      "Epoch 86/1000\n",
      "15/29 [==============>...............] - ETA: 0s - loss: 0.6181 - accuracy: 0.7630\n",
      "Epoch 86: saving model to model/keypoint_classifier\\keypoint_classifier.hdf5\n",
      "29/29 [==============================] - 0s 5ms/step - loss: 0.6290 - accuracy: 0.7575 - val_loss: 0.3359 - val_accuracy: 0.9322\n",
      "Epoch 87/1000\n",
      "16/29 [===============>..............] - ETA: 0s - loss: 0.6253 - accuracy: 0.7588\n",
      "Epoch 87: saving model to model/keypoint_classifier\\keypoint_classifier.hdf5\n",
      "29/29 [==============================] - 0s 5ms/step - loss: 0.6191 - accuracy: 0.7594 - val_loss: 0.3368 - val_accuracy: 0.9289\n",
      "Epoch 88/1000\n",
      "16/29 [===============>..............] - ETA: 0s - loss: 0.6154 - accuracy: 0.7734\n",
      "Epoch 88: saving model to model/keypoint_classifier\\keypoint_classifier.hdf5\n",
      "29/29 [==============================] - 0s 5ms/step - loss: 0.6085 - accuracy: 0.7738 - val_loss: 0.3298 - val_accuracy: 0.9232\n",
      "Epoch 89/1000\n",
      "17/29 [================>.............] - ETA: 0s - loss: 0.5733 - accuracy: 0.7845\n",
      "Epoch 89: saving model to model/keypoint_classifier\\keypoint_classifier.hdf5\n",
      "29/29 [==============================] - 0s 5ms/step - loss: 0.5961 - accuracy: 0.7708 - val_loss: 0.3277 - val_accuracy: 0.9338\n",
      "Epoch 90/1000\n",
      "17/29 [================>.............] - ETA: 0s - loss: 0.6346 - accuracy: 0.7440\n",
      "Epoch 90: saving model to model/keypoint_classifier\\keypoint_classifier.hdf5\n",
      "29/29 [==============================] - 0s 5ms/step - loss: 0.6261 - accuracy: 0.7529 - val_loss: 0.3241 - val_accuracy: 0.9240\n",
      "Epoch 91/1000\n",
      "16/29 [===============>..............] - ETA: 0s - loss: 0.5965 - accuracy: 0.7690\n",
      "Epoch 91: saving model to model/keypoint_classifier\\keypoint_classifier.hdf5\n",
      "29/29 [==============================] - 0s 6ms/step - loss: 0.5987 - accuracy: 0.7687 - val_loss: 0.3193 - val_accuracy: 0.9355\n",
      "Epoch 92/1000\n",
      "16/29 [===============>..............] - ETA: 0s - loss: 0.5936 - accuracy: 0.7847\n",
      "Epoch 92: saving model to model/keypoint_classifier\\keypoint_classifier.hdf5\n",
      "29/29 [==============================] - 0s 5ms/step - loss: 0.6010 - accuracy: 0.7747 - val_loss: 0.3212 - val_accuracy: 0.9346\n",
      "Epoch 93/1000\n",
      "15/29 [==============>...............] - ETA: 0s - loss: 0.5982 - accuracy: 0.7594\n",
      "Epoch 93: saving model to model/keypoint_classifier\\keypoint_classifier.hdf5\n",
      "29/29 [==============================] - 0s 5ms/step - loss: 0.6090 - accuracy: 0.7589 - val_loss: 0.3224 - val_accuracy: 0.9338\n",
      "Epoch 94/1000\n",
      "28/29 [===========================>..] - ETA: 0s - loss: 0.6007 - accuracy: 0.7718\n",
      "Epoch 94: saving model to model/keypoint_classifier\\keypoint_classifier.hdf5\n",
      "29/29 [==============================] - 0s 6ms/step - loss: 0.6007 - accuracy: 0.7717 - val_loss: 0.3214 - val_accuracy: 0.9363\n",
      "Epoch 95/1000\n",
      "17/29 [================>.............] - ETA: 0s - loss: 0.6105 - accuracy: 0.7647\n",
      "Epoch 95: saving model to model/keypoint_classifier\\keypoint_classifier.hdf5\n",
      "29/29 [==============================] - 0s 5ms/step - loss: 0.5900 - accuracy: 0.7692 - val_loss: 0.3184 - val_accuracy: 0.9314\n",
      "Epoch 96/1000\n",
      "29/29 [==============================] - ETA: 0s - loss: 0.6160 - accuracy: 0.7616\n",
      "Epoch 96: saving model to model/keypoint_classifier\\keypoint_classifier.hdf5\n",
      "29/29 [==============================] - 0s 6ms/step - loss: 0.6160 - accuracy: 0.7616 - val_loss: 0.3154 - val_accuracy: 0.9379\n",
      "Epoch 97/1000\n",
      "17/29 [================>.............] - ETA: 0s - loss: 0.6124 - accuracy: 0.7716\n",
      "Epoch 97: saving model to model/keypoint_classifier\\keypoint_classifier.hdf5\n",
      "29/29 [==============================] - 0s 5ms/step - loss: 0.6033 - accuracy: 0.7730 - val_loss: 0.3237 - val_accuracy: 0.9297\n",
      "Epoch 98/1000\n",
      "16/29 [===============>..............] - ETA: 0s - loss: 0.5863 - accuracy: 0.7764\n",
      "Epoch 98: saving model to model/keypoint_classifier\\keypoint_classifier.hdf5\n",
      "29/29 [==============================] - 0s 6ms/step - loss: 0.5968 - accuracy: 0.7659 - val_loss: 0.3109 - val_accuracy: 0.9379\n",
      "Epoch 99/1000\n",
      "17/29 [================>.............] - ETA: 0s - loss: 0.5748 - accuracy: 0.7711\n",
      "Epoch 99: saving model to model/keypoint_classifier\\keypoint_classifier.hdf5\n",
      "29/29 [==============================] - 0s 5ms/step - loss: 0.5911 - accuracy: 0.7717 - val_loss: 0.3034 - val_accuracy: 0.9436\n",
      "Epoch 100/1000\n",
      "17/29 [================>.............] - ETA: 0s - loss: 0.5961 - accuracy: 0.7753\n",
      "Epoch 100: saving model to model/keypoint_classifier\\keypoint_classifier.hdf5\n",
      "29/29 [==============================] - 0s 5ms/step - loss: 0.5899 - accuracy: 0.7728 - val_loss: 0.3142 - val_accuracy: 0.9297\n",
      "Epoch 101/1000\n",
      "16/29 [===============>..............] - ETA: 0s - loss: 0.5682 - accuracy: 0.7803\n",
      "Epoch 101: saving model to model/keypoint_classifier\\keypoint_classifier.hdf5\n",
      "29/29 [==============================] - 0s 5ms/step - loss: 0.5661 - accuracy: 0.7861 - val_loss: 0.3113 - val_accuracy: 0.9387\n",
      "Epoch 102/1000\n",
      "17/29 [================>.............] - ETA: 0s - loss: 0.5957 - accuracy: 0.7675\n",
      "Epoch 102: saving model to model/keypoint_classifier\\keypoint_classifier.hdf5\n",
      "29/29 [==============================] - 0s 5ms/step - loss: 0.6005 - accuracy: 0.7678 - val_loss: 0.3071 - val_accuracy: 0.9355\n",
      "Epoch 103/1000\n",
      "16/29 [===============>..............] - ETA: 0s - loss: 0.5808 - accuracy: 0.7900\n",
      "Epoch 103: saving model to model/keypoint_classifier\\keypoint_classifier.hdf5\n",
      "29/29 [==============================] - 0s 5ms/step - loss: 0.5825 - accuracy: 0.7847 - val_loss: 0.3081 - val_accuracy: 0.9338\n",
      "Epoch 104/1000\n",
      "15/29 [==============>...............] - ETA: 0s - loss: 0.5934 - accuracy: 0.7719\n",
      "Epoch 104: saving model to model/keypoint_classifier\\keypoint_classifier.hdf5\n",
      "29/29 [==============================] - 0s 5ms/step - loss: 0.5906 - accuracy: 0.7749 - val_loss: 0.3073 - val_accuracy: 0.9371\n",
      "Epoch 105/1000\n",
      "17/29 [================>.............] - ETA: 0s - loss: 0.6022 - accuracy: 0.7652\n",
      "Epoch 105: saving model to model/keypoint_classifier\\keypoint_classifier.hdf5\n",
      "29/29 [==============================] - 0s 5ms/step - loss: 0.6030 - accuracy: 0.7698 - val_loss: 0.3055 - val_accuracy: 0.9355\n",
      "Epoch 106/1000\n",
      "16/29 [===============>..............] - ETA: 0s - loss: 0.5721 - accuracy: 0.7676\n",
      "Epoch 106: saving model to model/keypoint_classifier\\keypoint_classifier.hdf5\n",
      "29/29 [==============================] - 0s 5ms/step - loss: 0.5823 - accuracy: 0.7798 - val_loss: 0.2967 - val_accuracy: 0.9436\n",
      "Epoch 107/1000\n",
      "17/29 [================>.............] - ETA: 0s - loss: 0.6026 - accuracy: 0.7546\n",
      "Epoch 107: saving model to model/keypoint_classifier\\keypoint_classifier.hdf5\n",
      "29/29 [==============================] - 0s 5ms/step - loss: 0.5882 - accuracy: 0.7678 - val_loss: 0.3060 - val_accuracy: 0.9453\n",
      "Epoch 108/1000\n",
      "17/29 [================>.............] - ETA: 0s - loss: 0.5928 - accuracy: 0.7716\n",
      "Epoch 108: saving model to model/keypoint_classifier\\keypoint_classifier.hdf5\n",
      "29/29 [==============================] - 0s 5ms/step - loss: 0.5972 - accuracy: 0.7738 - val_loss: 0.3108 - val_accuracy: 0.9387\n",
      "Epoch 109/1000\n"
     ]
    },
    {
     "name": "stdout",
     "output_type": "stream",
     "text": [
      "29/29 [==============================] - ETA: 0s - loss: 0.6033 - accuracy: 0.7695\n",
      "Epoch 109: saving model to model/keypoint_classifier\\keypoint_classifier.hdf5\n",
      "29/29 [==============================] - 0s 6ms/step - loss: 0.6033 - accuracy: 0.7695 - val_loss: 0.3060 - val_accuracy: 0.9461\n",
      "Epoch 110/1000\n",
      "14/29 [=============>................] - ETA: 0s - loss: 0.5962 - accuracy: 0.7829\n",
      "Epoch 110: saving model to model/keypoint_classifier\\keypoint_classifier.hdf5\n",
      "29/29 [==============================] - 0s 5ms/step - loss: 0.5926 - accuracy: 0.7807 - val_loss: 0.3033 - val_accuracy: 0.9420\n",
      "Epoch 111/1000\n",
      "17/29 [================>.............] - ETA: 0s - loss: 0.5775 - accuracy: 0.7854\n",
      "Epoch 111: saving model to model/keypoint_classifier\\keypoint_classifier.hdf5\n",
      "29/29 [==============================] - 0s 5ms/step - loss: 0.5862 - accuracy: 0.7760 - val_loss: 0.2987 - val_accuracy: 0.9461\n",
      "Epoch 112/1000\n",
      "16/29 [===============>..............] - ETA: 0s - loss: 0.5610 - accuracy: 0.7715\n",
      "Epoch 112: saving model to model/keypoint_classifier\\keypoint_classifier.hdf5\n",
      "29/29 [==============================] - 0s 5ms/step - loss: 0.5794 - accuracy: 0.7736 - val_loss: 0.2909 - val_accuracy: 0.9436\n",
      "Epoch 113/1000\n",
      "15/29 [==============>...............] - ETA: 0s - loss: 0.5711 - accuracy: 0.7792\n",
      "Epoch 113: saving model to model/keypoint_classifier\\keypoint_classifier.hdf5\n",
      "29/29 [==============================] - 0s 5ms/step - loss: 0.5848 - accuracy: 0.7700 - val_loss: 0.2940 - val_accuracy: 0.9453\n",
      "Epoch 114/1000\n",
      "16/29 [===============>..............] - ETA: 0s - loss: 0.5977 - accuracy: 0.7803\n",
      "Epoch 114: saving model to model/keypoint_classifier\\keypoint_classifier.hdf5\n",
      "29/29 [==============================] - 0s 5ms/step - loss: 0.5919 - accuracy: 0.7782 - val_loss: 0.2890 - val_accuracy: 0.9461\n",
      "Epoch 115/1000\n",
      "16/29 [===============>..............] - ETA: 0s - loss: 0.5892 - accuracy: 0.7656\n",
      "Epoch 115: saving model to model/keypoint_classifier\\keypoint_classifier.hdf5\n",
      "29/29 [==============================] - 0s 5ms/step - loss: 0.5880 - accuracy: 0.7719 - val_loss: 0.2935 - val_accuracy: 0.9428\n",
      "Epoch 116/1000\n",
      "16/29 [===============>..............] - ETA: 0s - loss: 0.5691 - accuracy: 0.7886\n",
      "Epoch 116: saving model to model/keypoint_classifier\\keypoint_classifier.hdf5\n",
      "29/29 [==============================] - 0s 6ms/step - loss: 0.5690 - accuracy: 0.7815 - val_loss: 0.2842 - val_accuracy: 0.9436\n",
      "Epoch 117/1000\n",
      "16/29 [===============>..............] - ETA: 0s - loss: 0.5668 - accuracy: 0.7900\n",
      "Epoch 117: saving model to model/keypoint_classifier\\keypoint_classifier.hdf5\n",
      "29/29 [==============================] - 0s 6ms/step - loss: 0.5677 - accuracy: 0.7888 - val_loss: 0.2847 - val_accuracy: 0.9436\n",
      "Epoch 118/1000\n",
      "17/29 [================>.............] - ETA: 0s - loss: 0.5685 - accuracy: 0.7877\n",
      "Epoch 118: saving model to model/keypoint_classifier\\keypoint_classifier.hdf5\n",
      "29/29 [==============================] - 0s 5ms/step - loss: 0.5638 - accuracy: 0.7913 - val_loss: 0.2841 - val_accuracy: 0.9444\n",
      "Epoch 119/1000\n",
      "16/29 [===============>..............] - ETA: 0s - loss: 0.5807 - accuracy: 0.7700\n",
      "Epoch 119: saving model to model/keypoint_classifier\\keypoint_classifier.hdf5\n",
      "29/29 [==============================] - 0s 5ms/step - loss: 0.5613 - accuracy: 0.7856 - val_loss: 0.2914 - val_accuracy: 0.9436\n",
      "Epoch 120/1000\n",
      "15/29 [==============>...............] - ETA: 0s - loss: 0.5830 - accuracy: 0.7849\n",
      "Epoch 120: saving model to model/keypoint_classifier\\keypoint_classifier.hdf5\n",
      "29/29 [==============================] - 0s 5ms/step - loss: 0.5725 - accuracy: 0.7804 - val_loss: 0.2800 - val_accuracy: 0.9444\n",
      "Epoch 121/1000\n",
      "27/29 [==========================>...] - ETA: 0s - loss: 0.5648 - accuracy: 0.7908\n",
      "Epoch 121: saving model to model/keypoint_classifier\\keypoint_classifier.hdf5\n",
      "29/29 [==============================] - 0s 6ms/step - loss: 0.5675 - accuracy: 0.7888 - val_loss: 0.2792 - val_accuracy: 0.9461\n",
      "Epoch 122/1000\n",
      "29/29 [==============================] - ETA: 0s - loss: 0.5425 - accuracy: 0.7997\n",
      "Epoch 122: saving model to model/keypoint_classifier\\keypoint_classifier.hdf5\n",
      "29/29 [==============================] - 0s 6ms/step - loss: 0.5425 - accuracy: 0.7997 - val_loss: 0.2770 - val_accuracy: 0.9453\n",
      "Epoch 123/1000\n",
      "16/29 [===============>..............] - ETA: 0s - loss: 0.5911 - accuracy: 0.7729\n",
      "Epoch 123: saving model to model/keypoint_classifier\\keypoint_classifier.hdf5\n",
      "29/29 [==============================] - 0s 6ms/step - loss: 0.5935 - accuracy: 0.7684 - val_loss: 0.2846 - val_accuracy: 0.9461\n",
      "Epoch 124/1000\n",
      "16/29 [===============>..............] - ETA: 0s - loss: 0.5912 - accuracy: 0.7759\n",
      "Epoch 124: saving model to model/keypoint_classifier\\keypoint_classifier.hdf5\n",
      "29/29 [==============================] - 0s 5ms/step - loss: 0.5682 - accuracy: 0.7872 - val_loss: 0.2847 - val_accuracy: 0.9444\n",
      "Epoch 125/1000\n",
      "15/29 [==============>...............] - ETA: 0s - loss: 0.5493 - accuracy: 0.7927\n",
      "Epoch 125: saving model to model/keypoint_classifier\\keypoint_classifier.hdf5\n",
      "29/29 [==============================] - 0s 5ms/step - loss: 0.5608 - accuracy: 0.7902 - val_loss: 0.2852 - val_accuracy: 0.9444\n",
      "Epoch 126/1000\n",
      "16/29 [===============>..............] - ETA: 0s - loss: 0.5596 - accuracy: 0.7979\n",
      "Epoch 126: saving model to model/keypoint_classifier\\keypoint_classifier.hdf5\n",
      "29/29 [==============================] - 0s 5ms/step - loss: 0.5743 - accuracy: 0.7905 - val_loss: 0.2860 - val_accuracy: 0.9420\n",
      "Epoch 127/1000\n",
      "29/29 [==============================] - ETA: 0s - loss: 0.5754 - accuracy: 0.7774\n",
      "Epoch 127: saving model to model/keypoint_classifier\\keypoint_classifier.hdf5\n",
      "29/29 [==============================] - 0s 6ms/step - loss: 0.5754 - accuracy: 0.7774 - val_loss: 0.2781 - val_accuracy: 0.9420\n",
      "Epoch 128/1000\n",
      "16/29 [===============>..............] - ETA: 0s - loss: 0.5865 - accuracy: 0.7676\n",
      "Epoch 128: saving model to model/keypoint_classifier\\keypoint_classifier.hdf5\n",
      "29/29 [==============================] - 0s 5ms/step - loss: 0.5796 - accuracy: 0.7760 - val_loss: 0.2859 - val_accuracy: 0.9387\n",
      "Epoch 129/1000\n",
      "16/29 [===============>..............] - ETA: 0s - loss: 0.5827 - accuracy: 0.7910\n",
      "Epoch 129: saving model to model/keypoint_classifier\\keypoint_classifier.hdf5\n",
      "29/29 [==============================] - 0s 5ms/step - loss: 0.5595 - accuracy: 0.7910 - val_loss: 0.2813 - val_accuracy: 0.9404\n",
      "Epoch 130/1000\n",
      "29/29 [==============================] - ETA: 0s - loss: 0.5686 - accuracy: 0.7880\n",
      "Epoch 130: saving model to model/keypoint_classifier\\keypoint_classifier.hdf5\n",
      "29/29 [==============================] - 0s 6ms/step - loss: 0.5686 - accuracy: 0.7880 - val_loss: 0.2844 - val_accuracy: 0.9387\n",
      "Epoch 131/1000\n",
      "15/29 [==============>...............] - ETA: 0s - loss: 0.5421 - accuracy: 0.8005\n",
      "Epoch 131: saving model to model/keypoint_classifier\\keypoint_classifier.hdf5\n",
      "29/29 [==============================] - 0s 5ms/step - loss: 0.5547 - accuracy: 0.7932 - val_loss: 0.2802 - val_accuracy: 0.9363\n",
      "Epoch 132/1000\n",
      "16/29 [===============>..............] - ETA: 0s - loss: 0.5481 - accuracy: 0.7939\n",
      "Epoch 132: saving model to model/keypoint_classifier\\keypoint_classifier.hdf5\n",
      "29/29 [==============================] - 0s 5ms/step - loss: 0.5420 - accuracy: 0.7997 - val_loss: 0.2649 - val_accuracy: 0.9395\n",
      "Epoch 133/1000\n",
      "17/29 [================>.............] - ETA: 0s - loss: 0.5766 - accuracy: 0.7849\n",
      "Epoch 133: saving model to model/keypoint_classifier\\keypoint_classifier.hdf5\n",
      "29/29 [==============================] - 0s 5ms/step - loss: 0.5607 - accuracy: 0.7924 - val_loss: 0.2735 - val_accuracy: 0.9404\n",
      "Epoch 134/1000\n",
      "15/29 [==============>...............] - ETA: 0s - loss: 0.5396 - accuracy: 0.7964\n",
      "Epoch 134: saving model to model/keypoint_classifier\\keypoint_classifier.hdf5\n",
      "29/29 [==============================] - 0s 5ms/step - loss: 0.5514 - accuracy: 0.7948 - val_loss: 0.2697 - val_accuracy: 0.9412\n",
      "Epoch 135/1000\n",
      "15/29 [==============>...............] - ETA: 0s - loss: 0.5735 - accuracy: 0.7901\n",
      "Epoch 135: saving model to model/keypoint_classifier\\keypoint_classifier.hdf5\n",
      "29/29 [==============================] - 0s 5ms/step - loss: 0.5614 - accuracy: 0.7986 - val_loss: 0.2771 - val_accuracy: 0.9420\n"
     ]
    },
    {
     "name": "stdout",
     "output_type": "stream",
     "text": [
      "Epoch 136/1000\n",
      "29/29 [==============================] - ETA: 0s - loss: 0.5735 - accuracy: 0.7777\n",
      "Epoch 136: saving model to model/keypoint_classifier\\keypoint_classifier.hdf5\n",
      "29/29 [==============================] - 0s 6ms/step - loss: 0.5735 - accuracy: 0.7777 - val_loss: 0.2760 - val_accuracy: 0.9428\n",
      "Epoch 137/1000\n",
      "16/29 [===============>..............] - ETA: 0s - loss: 0.5366 - accuracy: 0.7900\n",
      "Epoch 137: saving model to model/keypoint_classifier\\keypoint_classifier.hdf5\n",
      "29/29 [==============================] - 0s 5ms/step - loss: 0.5404 - accuracy: 0.7910 - val_loss: 0.2704 - val_accuracy: 0.9420\n",
      "Epoch 138/1000\n",
      "15/29 [==============>...............] - ETA: 0s - loss: 0.5441 - accuracy: 0.8042\n",
      "Epoch 138: saving model to model/keypoint_classifier\\keypoint_classifier.hdf5\n",
      "29/29 [==============================] - 0s 5ms/step - loss: 0.5525 - accuracy: 0.7935 - val_loss: 0.2704 - val_accuracy: 0.9428\n",
      "Epoch 139/1000\n",
      "16/29 [===============>..............] - ETA: 0s - loss: 0.5390 - accuracy: 0.7900\n",
      "Epoch 139: saving model to model/keypoint_classifier\\keypoint_classifier.hdf5\n",
      "29/29 [==============================] - 0s 5ms/step - loss: 0.5550 - accuracy: 0.7896 - val_loss: 0.2690 - val_accuracy: 0.9412\n",
      "Epoch 140/1000\n",
      "15/29 [==============>...............] - ETA: 0s - loss: 0.5765 - accuracy: 0.7797\n",
      "Epoch 140: saving model to model/keypoint_classifier\\keypoint_classifier.hdf5\n",
      "29/29 [==============================] - 0s 6ms/step - loss: 0.5712 - accuracy: 0.7842 - val_loss: 0.2766 - val_accuracy: 0.9395\n",
      "Epoch 141/1000\n",
      "16/29 [===============>..............] - ETA: 0s - loss: 0.5708 - accuracy: 0.7778\n",
      "Epoch 141: saving model to model/keypoint_classifier\\keypoint_classifier.hdf5\n",
      "29/29 [==============================] - 0s 5ms/step - loss: 0.5558 - accuracy: 0.7894 - val_loss: 0.2738 - val_accuracy: 0.9428\n",
      "Epoch 142/1000\n",
      "17/29 [================>.............] - ETA: 0s - loss: 0.5675 - accuracy: 0.7937\n",
      "Epoch 142: saving model to model/keypoint_classifier\\keypoint_classifier.hdf5\n",
      "29/29 [==============================] - 0s 5ms/step - loss: 0.5471 - accuracy: 0.8008 - val_loss: 0.2663 - val_accuracy: 0.9453\n",
      "Epoch 143/1000\n",
      "15/29 [==============>...............] - ETA: 0s - loss: 0.5624 - accuracy: 0.7844\n",
      "Epoch 143: saving model to model/keypoint_classifier\\keypoint_classifier.hdf5\n",
      "29/29 [==============================] - 0s 5ms/step - loss: 0.5585 - accuracy: 0.7899 - val_loss: 0.2764 - val_accuracy: 0.9444\n",
      "Epoch 144/1000\n",
      "16/29 [===============>..............] - ETA: 0s - loss: 0.5426 - accuracy: 0.7886\n",
      "Epoch 144: saving model to model/keypoint_classifier\\keypoint_classifier.hdf5\n",
      "29/29 [==============================] - 0s 5ms/step - loss: 0.5400 - accuracy: 0.7967 - val_loss: 0.2711 - val_accuracy: 0.9404\n",
      "Epoch 145/1000\n",
      "16/29 [===============>..............] - ETA: 0s - loss: 0.5985 - accuracy: 0.7754\n",
      "Epoch 145: saving model to model/keypoint_classifier\\keypoint_classifier.hdf5\n",
      "29/29 [==============================] - 0s 5ms/step - loss: 0.5844 - accuracy: 0.7842 - val_loss: 0.2828 - val_accuracy: 0.9453\n",
      "Epoch 146/1000\n",
      "16/29 [===============>..............] - ETA: 0s - loss: 0.5412 - accuracy: 0.7964\n",
      "Epoch 146: saving model to model/keypoint_classifier\\keypoint_classifier.hdf5\n",
      "29/29 [==============================] - 0s 5ms/step - loss: 0.5453 - accuracy: 0.7946 - val_loss: 0.2686 - val_accuracy: 0.9395\n",
      "Epoch 147/1000\n",
      "16/29 [===============>..............] - ETA: 0s - loss: 0.5266 - accuracy: 0.8076\n",
      "Epoch 147: saving model to model/keypoint_classifier\\keypoint_classifier.hdf5\n",
      "29/29 [==============================] - 0s 5ms/step - loss: 0.5567 - accuracy: 0.7910 - val_loss: 0.2710 - val_accuracy: 0.9436\n",
      "Epoch 148/1000\n",
      "16/29 [===============>..............] - ETA: 0s - loss: 0.5384 - accuracy: 0.8022\n",
      "Epoch 148: saving model to model/keypoint_classifier\\keypoint_classifier.hdf5\n",
      "29/29 [==============================] - 0s 5ms/step - loss: 0.5489 - accuracy: 0.7921 - val_loss: 0.2705 - val_accuracy: 0.9436\n",
      "Epoch 149/1000\n",
      "16/29 [===============>..............] - ETA: 0s - loss: 0.5432 - accuracy: 0.8066\n",
      "Epoch 149: saving model to model/keypoint_classifier\\keypoint_classifier.hdf5\n",
      "29/29 [==============================] - 0s 6ms/step - loss: 0.5450 - accuracy: 0.7997 - val_loss: 0.2639 - val_accuracy: 0.9436\n",
      "Epoch 150/1000\n",
      "15/29 [==============>...............] - ETA: 0s - loss: 0.5351 - accuracy: 0.8099\n",
      "Epoch 150: saving model to model/keypoint_classifier\\keypoint_classifier.hdf5\n",
      "29/29 [==============================] - 0s 5ms/step - loss: 0.5363 - accuracy: 0.8038 - val_loss: 0.2668 - val_accuracy: 0.9379\n",
      "Epoch 151/1000\n",
      "16/29 [===============>..............] - ETA: 0s - loss: 0.5387 - accuracy: 0.8062\n",
      "Epoch 151: saving model to model/keypoint_classifier\\keypoint_classifier.hdf5\n",
      "29/29 [==============================] - 0s 5ms/step - loss: 0.5662 - accuracy: 0.7954 - val_loss: 0.2648 - val_accuracy: 0.9444\n",
      "Epoch 152/1000\n",
      "16/29 [===============>..............] - ETA: 0s - loss: 0.5287 - accuracy: 0.7964\n",
      "Epoch 152: saving model to model/keypoint_classifier\\keypoint_classifier.hdf5\n",
      "29/29 [==============================] - 0s 6ms/step - loss: 0.5391 - accuracy: 0.7926 - val_loss: 0.2579 - val_accuracy: 0.9436\n",
      "Epoch 153/1000\n",
      "14/29 [=============>................] - ETA: 0s - loss: 0.5433 - accuracy: 0.7991\n",
      "Epoch 153: saving model to model/keypoint_classifier\\keypoint_classifier.hdf5\n",
      "29/29 [==============================] - 0s 5ms/step - loss: 0.5446 - accuracy: 0.7948 - val_loss: 0.2677 - val_accuracy: 0.9387\n",
      "Epoch 154/1000\n",
      "17/29 [================>.............] - ETA: 0s - loss: 0.5231 - accuracy: 0.8111\n",
      "Epoch 154: saving model to model/keypoint_classifier\\keypoint_classifier.hdf5\n",
      "29/29 [==============================] - 0s 5ms/step - loss: 0.5271 - accuracy: 0.8079 - val_loss: 0.2580 - val_accuracy: 0.9412\n",
      "Epoch 155/1000\n",
      "15/29 [==============>...............] - ETA: 0s - loss: 0.5497 - accuracy: 0.7974\n",
      "Epoch 155: saving model to model/keypoint_classifier\\keypoint_classifier.hdf5\n",
      "29/29 [==============================] - 0s 5ms/step - loss: 0.5513 - accuracy: 0.7943 - val_loss: 0.2618 - val_accuracy: 0.9412\n",
      "Epoch 156/1000\n",
      "15/29 [==============>...............] - ETA: 0s - loss: 0.5510 - accuracy: 0.7937\n",
      "Epoch 156: saving model to model/keypoint_classifier\\keypoint_classifier.hdf5\n",
      "29/29 [==============================] - 0s 6ms/step - loss: 0.5517 - accuracy: 0.7956 - val_loss: 0.2631 - val_accuracy: 0.9404\n",
      "Epoch 157/1000\n",
      "16/29 [===============>..............] - ETA: 0s - loss: 0.5144 - accuracy: 0.8076\n",
      "Epoch 157: saving model to model/keypoint_classifier\\keypoint_classifier.hdf5\n",
      "29/29 [==============================] - 0s 5ms/step - loss: 0.5426 - accuracy: 0.7932 - val_loss: 0.2627 - val_accuracy: 0.9420\n",
      "Epoch 158/1000\n",
      "29/29 [==============================] - ETA: 0s - loss: 0.5418 - accuracy: 0.7981\n",
      "Epoch 158: saving model to model/keypoint_classifier\\keypoint_classifier.hdf5\n",
      "29/29 [==============================] - 0s 6ms/step - loss: 0.5418 - accuracy: 0.7981 - val_loss: 0.2529 - val_accuracy: 0.9379\n",
      "Epoch 159/1000\n",
      "16/29 [===============>..............] - ETA: 0s - loss: 0.5063 - accuracy: 0.8208\n",
      "Epoch 159: saving model to model/keypoint_classifier\\keypoint_classifier.hdf5\n",
      "29/29 [==============================] - 0s 6ms/step - loss: 0.5341 - accuracy: 0.8046 - val_loss: 0.2687 - val_accuracy: 0.9404\n",
      "Epoch 160/1000\n",
      "16/29 [===============>..............] - ETA: 0s - loss: 0.5648 - accuracy: 0.7822\n",
      "Epoch 160: saving model to model/keypoint_classifier\\keypoint_classifier.hdf5\n",
      "29/29 [==============================] - 0s 5ms/step - loss: 0.5496 - accuracy: 0.7913 - val_loss: 0.2603 - val_accuracy: 0.9387\n",
      "Epoch 161/1000\n",
      "28/29 [===========================>..] - ETA: 0s - loss: 0.5171 - accuracy: 0.8075\n",
      "Epoch 161: saving model to model/keypoint_classifier\\keypoint_classifier.hdf5\n",
      "29/29 [==============================] - 0s 6ms/step - loss: 0.5180 - accuracy: 0.8074 - val_loss: 0.2497 - val_accuracy: 0.9436\n",
      "Epoch 162/1000\n",
      "16/29 [===============>..............] - ETA: 0s - loss: 0.5185 - accuracy: 0.8145\n",
      "Epoch 162: saving model to model/keypoint_classifier\\keypoint_classifier.hdf5\n",
      "29/29 [==============================] - 0s 5ms/step - loss: 0.5209 - accuracy: 0.8044 - val_loss: 0.2577 - val_accuracy: 0.9420\n"
     ]
    },
    {
     "name": "stdout",
     "output_type": "stream",
     "text": [
      "Epoch 163/1000\n",
      "28/29 [===========================>..] - ETA: 0s - loss: 0.5498 - accuracy: 0.7905\n",
      "Epoch 163: saving model to model/keypoint_classifier\\keypoint_classifier.hdf5\n",
      "29/29 [==============================] - 0s 6ms/step - loss: 0.5516 - accuracy: 0.7899 - val_loss: 0.2590 - val_accuracy: 0.9363\n",
      "Epoch 164/1000\n",
      "15/29 [==============>...............] - ETA: 0s - loss: 0.5298 - accuracy: 0.8130\n",
      "Epoch 164: saving model to model/keypoint_classifier\\keypoint_classifier.hdf5\n",
      "29/29 [==============================] - 0s 5ms/step - loss: 0.5298 - accuracy: 0.8057 - val_loss: 0.2546 - val_accuracy: 0.9428\n",
      "Epoch 165/1000\n",
      "17/29 [================>.............] - ETA: 0s - loss: 0.5239 - accuracy: 0.8107\n",
      "Epoch 165: saving model to model/keypoint_classifier\\keypoint_classifier.hdf5\n",
      "29/29 [==============================] - 0s 5ms/step - loss: 0.5364 - accuracy: 0.8035 - val_loss: 0.2563 - val_accuracy: 0.9371\n",
      "Epoch 166/1000\n",
      "16/29 [===============>..............] - ETA: 0s - loss: 0.5310 - accuracy: 0.8003\n",
      "Epoch 166: saving model to model/keypoint_classifier\\keypoint_classifier.hdf5\n",
      "29/29 [==============================] - 0s 5ms/step - loss: 0.5294 - accuracy: 0.8054 - val_loss: 0.2534 - val_accuracy: 0.9379\n",
      "Epoch 167/1000\n",
      "16/29 [===============>..............] - ETA: 0s - loss: 0.5280 - accuracy: 0.8003\n",
      "Epoch 167: saving model to model/keypoint_classifier\\keypoint_classifier.hdf5\n",
      "29/29 [==============================] - 0s 6ms/step - loss: 0.5413 - accuracy: 0.8014 - val_loss: 0.2532 - val_accuracy: 0.9412\n",
      "Epoch 168/1000\n",
      "16/29 [===============>..............] - ETA: 0s - loss: 0.5413 - accuracy: 0.8008\n",
      "Epoch 168: saving model to model/keypoint_classifier\\keypoint_classifier.hdf5\n",
      "29/29 [==============================] - 0s 5ms/step - loss: 0.5230 - accuracy: 0.8025 - val_loss: 0.2534 - val_accuracy: 0.9404\n",
      "Epoch 169/1000\n",
      "17/29 [================>.............] - ETA: 0s - loss: 0.5363 - accuracy: 0.7987\n",
      "Epoch 169: saving model to model/keypoint_classifier\\keypoint_classifier.hdf5\n",
      "29/29 [==============================] - 0s 5ms/step - loss: 0.5364 - accuracy: 0.7967 - val_loss: 0.2542 - val_accuracy: 0.9412\n",
      "Epoch 170/1000\n",
      "14/29 [=============>................] - ETA: 0s - loss: 0.5427 - accuracy: 0.8002\n",
      "Epoch 170: saving model to model/keypoint_classifier\\keypoint_classifier.hdf5\n",
      "29/29 [==============================] - 0s 5ms/step - loss: 0.5410 - accuracy: 0.7992 - val_loss: 0.2542 - val_accuracy: 0.9395\n",
      "Epoch 171/1000\n",
      "16/29 [===============>..............] - ETA: 0s - loss: 0.5365 - accuracy: 0.8062\n",
      "Epoch 171: saving model to model/keypoint_classifier\\keypoint_classifier.hdf5\n",
      "29/29 [==============================] - 0s 5ms/step - loss: 0.5339 - accuracy: 0.8035 - val_loss: 0.2534 - val_accuracy: 0.9444\n",
      "Epoch 172/1000\n",
      "16/29 [===============>..............] - ETA: 0s - loss: 0.5381 - accuracy: 0.7974\n",
      "Epoch 172: saving model to model/keypoint_classifier\\keypoint_classifier.hdf5\n",
      "29/29 [==============================] - 0s 5ms/step - loss: 0.5206 - accuracy: 0.8046 - val_loss: 0.2416 - val_accuracy: 0.9444\n",
      "Epoch 173/1000\n",
      "18/29 [=================>............] - ETA: 0s - loss: 0.5101 - accuracy: 0.8047\n",
      "Epoch 173: saving model to model/keypoint_classifier\\keypoint_classifier.hdf5\n",
      "29/29 [==============================] - 0s 5ms/step - loss: 0.5276 - accuracy: 0.7981 - val_loss: 0.2414 - val_accuracy: 0.9412\n",
      "Epoch 174/1000\n",
      "14/29 [=============>................] - ETA: 0s - loss: 0.5641 - accuracy: 0.7790\n",
      "Epoch 174: saving model to model/keypoint_classifier\\keypoint_classifier.hdf5\n",
      "29/29 [==============================] - 0s 6ms/step - loss: 0.5370 - accuracy: 0.7970 - val_loss: 0.2570 - val_accuracy: 0.9412\n",
      "Epoch 175/1000\n",
      "17/29 [================>.............] - ETA: 0s - loss: 0.5501 - accuracy: 0.7955\n",
      "Epoch 175: saving model to model/keypoint_classifier\\keypoint_classifier.hdf5\n",
      "29/29 [==============================] - 0s 6ms/step - loss: 0.5414 - accuracy: 0.7975 - val_loss: 0.2471 - val_accuracy: 0.9444\n",
      "Epoch 176/1000\n",
      "17/29 [================>.............] - ETA: 0s - loss: 0.5473 - accuracy: 0.7950\n",
      "Epoch 176: saving model to model/keypoint_classifier\\keypoint_classifier.hdf5\n",
      "29/29 [==============================] - 0s 5ms/step - loss: 0.5451 - accuracy: 0.7981 - val_loss: 0.2524 - val_accuracy: 0.9436\n",
      "Epoch 177/1000\n",
      "16/29 [===============>..............] - ETA: 0s - loss: 0.5526 - accuracy: 0.7900\n",
      "Epoch 177: saving model to model/keypoint_classifier\\keypoint_classifier.hdf5\n",
      "29/29 [==============================] - 0s 5ms/step - loss: 0.5473 - accuracy: 0.7913 - val_loss: 0.2502 - val_accuracy: 0.9453\n",
      "Epoch 178/1000\n",
      "16/29 [===============>..............] - ETA: 0s - loss: 0.5403 - accuracy: 0.8037\n",
      "Epoch 178: saving model to model/keypoint_classifier\\keypoint_classifier.hdf5\n",
      "29/29 [==============================] - 0s 5ms/step - loss: 0.5414 - accuracy: 0.7986 - val_loss: 0.2525 - val_accuracy: 0.9436\n",
      "Epoch 179/1000\n",
      "15/29 [==============>...............] - ETA: 0s - loss: 0.5323 - accuracy: 0.8062\n",
      "Epoch 179: saving model to model/keypoint_classifier\\keypoint_classifier.hdf5\n",
      "29/29 [==============================] - 0s 5ms/step - loss: 0.5170 - accuracy: 0.8123 - val_loss: 0.2537 - val_accuracy: 0.9387\n",
      "Epoch 180/1000\n",
      "16/29 [===============>..............] - ETA: 0s - loss: 0.5414 - accuracy: 0.7939\n",
      "Epoch 180: saving model to model/keypoint_classifier\\keypoint_classifier.hdf5\n",
      "29/29 [==============================] - 0s 6ms/step - loss: 0.5529 - accuracy: 0.7970 - val_loss: 0.2486 - val_accuracy: 0.9412\n",
      "Epoch 181/1000\n",
      "15/29 [==============>...............] - ETA: 0s - loss: 0.5301 - accuracy: 0.8042\n",
      "Epoch 181: saving model to model/keypoint_classifier\\keypoint_classifier.hdf5\n",
      "29/29 [==============================] - 0s 6ms/step - loss: 0.5383 - accuracy: 0.7959 - val_loss: 0.2517 - val_accuracy: 0.9428\n",
      "Epoch 182/1000\n",
      "16/29 [===============>..............] - ETA: 0s - loss: 0.5559 - accuracy: 0.7871\n",
      "Epoch 182: saving model to model/keypoint_classifier\\keypoint_classifier.hdf5\n",
      "29/29 [==============================] - 0s 6ms/step - loss: 0.5424 - accuracy: 0.7948 - val_loss: 0.2537 - val_accuracy: 0.9428\n",
      "Epoch 183/1000\n",
      "15/29 [==============>...............] - ETA: 0s - loss: 0.5205 - accuracy: 0.8047\n",
      "Epoch 183: saving model to model/keypoint_classifier\\keypoint_classifier.hdf5\n",
      "29/29 [==============================] - 0s 5ms/step - loss: 0.5240 - accuracy: 0.8046 - val_loss: 0.2552 - val_accuracy: 0.9412\n",
      "Epoch 184/1000\n",
      "27/29 [==========================>...] - ETA: 0s - loss: 0.5343 - accuracy: 0.7983\n",
      "Epoch 184: saving model to model/keypoint_classifier\\keypoint_classifier.hdf5\n",
      "29/29 [==============================] - 0s 6ms/step - loss: 0.5313 - accuracy: 0.8003 - val_loss: 0.2547 - val_accuracy: 0.9387\n",
      "Epoch 185/1000\n",
      "28/29 [===========================>..] - ETA: 0s - loss: 0.5049 - accuracy: 0.8114\n",
      "Epoch 185: saving model to model/keypoint_classifier\\keypoint_classifier.hdf5\n",
      "29/29 [==============================] - 0s 6ms/step - loss: 0.5089 - accuracy: 0.8112 - val_loss: 0.2482 - val_accuracy: 0.9404\n",
      "Epoch 186/1000\n",
      "16/29 [===============>..............] - ETA: 0s - loss: 0.5132 - accuracy: 0.8022\n",
      "Epoch 186: saving model to model/keypoint_classifier\\keypoint_classifier.hdf5\n",
      "29/29 [==============================] - 0s 5ms/step - loss: 0.5274 - accuracy: 0.8025 - val_loss: 0.2535 - val_accuracy: 0.9412\n",
      "Epoch 187/1000\n",
      "29/29 [==============================] - ETA: 0s - loss: 0.5331 - accuracy: 0.7984\n",
      "Epoch 187: saving model to model/keypoint_classifier\\keypoint_classifier.hdf5\n",
      "29/29 [==============================] - 0s 6ms/step - loss: 0.5331 - accuracy: 0.7984 - val_loss: 0.2560 - val_accuracy: 0.9387\n",
      "Epoch 188/1000\n",
      "15/29 [==============>...............] - ETA: 0s - loss: 0.5351 - accuracy: 0.8005\n",
      "Epoch 188: saving model to model/keypoint_classifier\\keypoint_classifier.hdf5\n",
      "29/29 [==============================] - 0s 5ms/step - loss: 0.5376 - accuracy: 0.7992 - val_loss: 0.2478 - val_accuracy: 0.9395\n",
      "Epoch 189/1000\n",
      "16/29 [===============>..............] - ETA: 0s - loss: 0.5421 - accuracy: 0.7983\n",
      "Epoch 189: saving model to model/keypoint_classifier\\keypoint_classifier.hdf5\n",
      "29/29 [==============================] - 0s 5ms/step - loss: 0.5365 - accuracy: 0.8038 - val_loss: 0.2547 - val_accuracy: 0.9379\n"
     ]
    },
    {
     "name": "stdout",
     "output_type": "stream",
     "text": [
      "Epoch 190/1000\n",
      "29/29 [==============================] - ETA: 0s - loss: 0.5297 - accuracy: 0.8060\n",
      "Epoch 190: saving model to model/keypoint_classifier\\keypoint_classifier.hdf5\n",
      "29/29 [==============================] - 0s 6ms/step - loss: 0.5297 - accuracy: 0.8060 - val_loss: 0.2529 - val_accuracy: 0.9453\n",
      "Epoch 191/1000\n",
      "28/29 [===========================>..] - ETA: 0s - loss: 0.5393 - accuracy: 0.8011\n",
      "Epoch 191: saving model to model/keypoint_classifier\\keypoint_classifier.hdf5\n",
      "29/29 [==============================] - 0s 6ms/step - loss: 0.5364 - accuracy: 0.8014 - val_loss: 0.2396 - val_accuracy: 0.9428\n",
      "Epoch 192/1000\n",
      "16/29 [===============>..............] - ETA: 0s - loss: 0.5416 - accuracy: 0.7930\n",
      "Epoch 192: saving model to model/keypoint_classifier\\keypoint_classifier.hdf5\n",
      "29/29 [==============================] - 0s 5ms/step - loss: 0.5314 - accuracy: 0.8019 - val_loss: 0.2493 - val_accuracy: 0.9444\n",
      "Epoch 193/1000\n",
      "16/29 [===============>..............] - ETA: 0s - loss: 0.5496 - accuracy: 0.7925\n",
      "Epoch 193: saving model to model/keypoint_classifier\\keypoint_classifier.hdf5\n",
      "29/29 [==============================] - 0s 5ms/step - loss: 0.5401 - accuracy: 0.7984 - val_loss: 0.2486 - val_accuracy: 0.9461\n",
      "Epoch 194/1000\n",
      "16/29 [===============>..............] - ETA: 0s - loss: 0.5216 - accuracy: 0.8145\n",
      "Epoch 194: saving model to model/keypoint_classifier\\keypoint_classifier.hdf5\n",
      "29/29 [==============================] - 0s 5ms/step - loss: 0.5370 - accuracy: 0.8011 - val_loss: 0.2545 - val_accuracy: 0.9428\n",
      "Epoch 195/1000\n",
      "29/29 [==============================] - ETA: 0s - loss: 0.5180 - accuracy: 0.8022\n",
      "Epoch 195: saving model to model/keypoint_classifier\\keypoint_classifier.hdf5\n",
      "29/29 [==============================] - 0s 6ms/step - loss: 0.5180 - accuracy: 0.8022 - val_loss: 0.2480 - val_accuracy: 0.9453\n",
      "Epoch 196/1000\n",
      "17/29 [================>.............] - ETA: 0s - loss: 0.5205 - accuracy: 0.8134\n",
      "Epoch 196: saving model to model/keypoint_classifier\\keypoint_classifier.hdf5\n",
      "29/29 [==============================] - 0s 6ms/step - loss: 0.5303 - accuracy: 0.8125 - val_loss: 0.2522 - val_accuracy: 0.9436\n",
      "Epoch 197/1000\n",
      "16/29 [===============>..............] - ETA: 0s - loss: 0.5365 - accuracy: 0.8052\n",
      "Epoch 197: saving model to model/keypoint_classifier\\keypoint_classifier.hdf5\n",
      "29/29 [==============================] - 0s 6ms/step - loss: 0.5365 - accuracy: 0.8082 - val_loss: 0.2544 - val_accuracy: 0.9412\n",
      "Epoch 198/1000\n",
      "15/29 [==============>...............] - ETA: 0s - loss: 0.5061 - accuracy: 0.8214\n",
      "Epoch 198: saving model to model/keypoint_classifier\\keypoint_classifier.hdf5\n",
      "29/29 [==============================] - 0s 6ms/step - loss: 0.5228 - accuracy: 0.8123 - val_loss: 0.2487 - val_accuracy: 0.9444\n",
      "Epoch 199/1000\n",
      "15/29 [==============>...............] - ETA: 0s - loss: 0.5473 - accuracy: 0.8047\n",
      "Epoch 199: saving model to model/keypoint_classifier\\keypoint_classifier.hdf5\n",
      "29/29 [==============================] - 0s 5ms/step - loss: 0.5503 - accuracy: 0.7997 - val_loss: 0.2527 - val_accuracy: 0.9420\n",
      "Epoch 200/1000\n",
      "16/29 [===============>..............] - ETA: 0s - loss: 0.5203 - accuracy: 0.7969\n",
      "Epoch 200: saving model to model/keypoint_classifier\\keypoint_classifier.hdf5\n",
      "29/29 [==============================] - 0s 6ms/step - loss: 0.5294 - accuracy: 0.8011 - val_loss: 0.2444 - val_accuracy: 0.9453\n",
      "Epoch 201/1000\n",
      "16/29 [===============>..............] - ETA: 0s - loss: 0.5114 - accuracy: 0.8096\n",
      "Epoch 201: saving model to model/keypoint_classifier\\keypoint_classifier.hdf5\n",
      "29/29 [==============================] - 0s 6ms/step - loss: 0.5117 - accuracy: 0.8128 - val_loss: 0.2497 - val_accuracy: 0.9404\n",
      "Epoch 202/1000\n",
      "14/29 [=============>................] - ETA: 0s - loss: 0.5252 - accuracy: 0.8142\n",
      "Epoch 202: saving model to model/keypoint_classifier\\keypoint_classifier.hdf5\n",
      "29/29 [==============================] - 0s 6ms/step - loss: 0.5432 - accuracy: 0.8008 - val_loss: 0.2442 - val_accuracy: 0.9412\n",
      "Epoch 203/1000\n",
      "16/29 [===============>..............] - ETA: 0s - loss: 0.5329 - accuracy: 0.7964\n",
      "Epoch 203: saving model to model/keypoint_classifier\\keypoint_classifier.hdf5\n",
      "29/29 [==============================] - 0s 6ms/step - loss: 0.5412 - accuracy: 0.7978 - val_loss: 0.2526 - val_accuracy: 0.9387\n",
      "Epoch 204/1000\n",
      "28/29 [===========================>..] - ETA: 0s - loss: 0.5274 - accuracy: 0.8044\n",
      "Epoch 204: saving model to model/keypoint_classifier\\keypoint_classifier.hdf5\n",
      "29/29 [==============================] - 0s 6ms/step - loss: 0.5244 - accuracy: 0.8063 - val_loss: 0.2537 - val_accuracy: 0.9412\n",
      "Epoch 205/1000\n",
      "29/29 [==============================] - ETA: 0s - loss: 0.5292 - accuracy: 0.8049\n",
      "Epoch 205: saving model to model/keypoint_classifier\\keypoint_classifier.hdf5\n",
      "29/29 [==============================] - 0s 6ms/step - loss: 0.5292 - accuracy: 0.8049 - val_loss: 0.2434 - val_accuracy: 0.9453\n",
      "Epoch 206/1000\n",
      "26/29 [=========================>....] - ETA: 0s - loss: 0.5253 - accuracy: 0.8107\n",
      "Epoch 206: saving model to model/keypoint_classifier\\keypoint_classifier.hdf5\n",
      "29/29 [==============================] - 0s 6ms/step - loss: 0.5320 - accuracy: 0.8068 - val_loss: 0.2549 - val_accuracy: 0.9412\n",
      "Epoch 207/1000\n",
      "16/29 [===============>..............] - ETA: 0s - loss: 0.5095 - accuracy: 0.8101\n",
      "Epoch 207: saving model to model/keypoint_classifier\\keypoint_classifier.hdf5\n",
      "29/29 [==============================] - 0s 6ms/step - loss: 0.5275 - accuracy: 0.8008 - val_loss: 0.2547 - val_accuracy: 0.9404\n",
      "Epoch 208/1000\n",
      "29/29 [==============================] - ETA: 0s - loss: 0.5122 - accuracy: 0.8065\n",
      "Epoch 208: saving model to model/keypoint_classifier\\keypoint_classifier.hdf5\n",
      "29/29 [==============================] - 0s 6ms/step - loss: 0.5122 - accuracy: 0.8065 - val_loss: 0.2477 - val_accuracy: 0.9395\n",
      "Epoch 209/1000\n",
      "29/29 [==============================] - ETA: 0s - loss: 0.5194 - accuracy: 0.8054\n",
      "Epoch 209: saving model to model/keypoint_classifier\\keypoint_classifier.hdf5\n",
      "29/29 [==============================] - 0s 6ms/step - loss: 0.5194 - accuracy: 0.8054 - val_loss: 0.2435 - val_accuracy: 0.9428\n",
      "Epoch 210/1000\n",
      "16/29 [===============>..............] - ETA: 0s - loss: 0.5376 - accuracy: 0.8027\n",
      "Epoch 210: saving model to model/keypoint_classifier\\keypoint_classifier.hdf5\n",
      "29/29 [==============================] - 0s 5ms/step - loss: 0.5403 - accuracy: 0.8030 - val_loss: 0.2489 - val_accuracy: 0.9453\n",
      "Epoch 211/1000\n",
      "15/29 [==============>...............] - ETA: 0s - loss: 0.5389 - accuracy: 0.8026\n",
      "Epoch 211: saving model to model/keypoint_classifier\\keypoint_classifier.hdf5\n",
      "29/29 [==============================] - 0s 5ms/step - loss: 0.5121 - accuracy: 0.8117 - val_loss: 0.2437 - val_accuracy: 0.9412\n",
      "Epoch 211: early stopping\n"
     ]
    },
    {
     "data": {
      "text/plain": [
       "<keras.callbacks.History at 0x1d7b5095840>"
      ]
     },
     "execution_count": 33,
     "metadata": {},
     "output_type": "execute_result"
    }
   ],
   "source": [
    "model.fit(\n",
    "    X_train,\n",
    "    y_train,\n",
    "    epochs=1000,\n",
    "    batch_size=128,\n",
    "    validation_data=(X_test, y_test),\n",
    "    callbacks=[cp_callback, es_callback]\n",
    ")"
   ]
  },
  {
   "cell_type": "code",
   "execution_count": 34,
   "metadata": {
    "colab": {
     "base_uri": "https://localhost:8080/"
    },
    "id": "pxvb2Y299hE3",
    "outputId": "59eb3185-2e37-4b9e-bc9d-ab1b8ac29b7f"
   },
   "outputs": [
    {
     "name": "stdout",
     "output_type": "stream",
     "text": [
      "10/10 [==============================] - 0s 3ms/step - loss: 0.2437 - accuracy: 0.9412\n"
     ]
    }
   ],
   "source": [
    "# Model evaluation\n",
    "val_loss, val_acc = model.evaluate(X_test, y_test, batch_size=128)"
   ]
  },
  {
   "cell_type": "code",
   "execution_count": 35,
   "metadata": {
    "id": "RBkmDeUW9hE4"
   },
   "outputs": [],
   "source": [
    "# Loading the saved model\n",
    "model = tf.keras.models.load_model(model_save_path)"
   ]
  },
  {
   "cell_type": "code",
   "execution_count": 36,
   "metadata": {
    "colab": {
     "base_uri": "https://localhost:8080/"
    },
    "id": "tFz9Tb0I9hE4",
    "outputId": "1c3b3528-54ae-4ee2-ab04-77429211cbef"
   },
   "outputs": [
    {
     "name": "stdout",
     "output_type": "stream",
     "text": [
      "[9.5962864e-01 3.4414757e-02 2.9952623e-04 1.7678739e-06 5.6552845e-03]\n",
      "0\n"
     ]
    }
   ],
   "source": [
    "# Inference test\n",
    "predict_result = model.predict(np.array([X_test[0]]))\n",
    "print(np.squeeze(predict_result))\n",
    "print(np.argmax(np.squeeze(predict_result)))"
   ]
  },
  {
   "cell_type": "markdown",
   "metadata": {
    "id": "S3U4yNWx9hE4"
   },
   "source": [
    "# Confusion matrix"
   ]
  },
  {
   "cell_type": "code",
   "execution_count": 37,
   "metadata": {
    "colab": {
     "base_uri": "https://localhost:8080/",
     "height": 582
    },
    "id": "AP1V6SCk9hE5",
    "outputId": "08e41a80-7a4a-4619-8125-ecc371368d19"
   },
   "outputs": [
    {
     "data": {
      "image/png": "[encoded data removed]",
      "text/plain": [
       "<Figure size 504x432 with 2 Axes>"
      ]
     },
     "metadata": {
      "needs_background": "light"
     },
     "output_type": "display_data"
    },
    {
     "name": "stdout",
     "output_type": "stream",
     "text": [
      "Classification Report\n",
      "              precision    recall  f1-score   support\n",
      "\n",
      "           0       0.94      0.99      0.96       396\n",
      "           1       0.98      0.92      0.95       370\n",
      "           2       0.90      0.98      0.94       343\n",
      "           3       1.00      0.99      0.99        85\n",
      "           4       0.00      0.00      0.00        30\n",
      "\n",
      "    accuracy                           0.94      1224\n",
      "   macro avg       0.76      0.78      0.77      1224\n",
      "weighted avg       0.92      0.94      0.93      1224\n",
      "\n"
     ]
    },
    {
     "name": "stderr",
     "output_type": "stream",
     "text": [
      "C:\\Users\\ryan6\\Documents\\Python Projects\\Animatronic Hand\\hand\\lib\\site-packages\\sklearn\\metrics\\_classification.py:1318: UndefinedMetricWarning: Precision and F-score are ill-defined and being set to 0.0 in labels with no predicted samples. Use `zero_division` parameter to control this behavior.\n",
      "  _warn_prf(average, modifier, msg_start, len(result))\n",
      "C:\\Users\\ryan6\\Documents\\Python Projects\\Animatronic Hand\\hand\\lib\\site-packages\\sklearn\\metrics\\_classification.py:1318: UndefinedMetricWarning: Precision and F-score are ill-defined and being set to 0.0 in labels with no predicted samples. Use `zero_division` parameter to control this behavior.\n",
      "  _warn_prf(average, modifier, msg_start, len(result))\n",
      "C:\\Users\\ryan6\\Documents\\Python Projects\\Animatronic Hand\\hand\\lib\\site-packages\\sklearn\\metrics\\_classification.py:1318: UndefinedMetricWarning: Precision and F-score are ill-defined and being set to 0.0 in labels with no predicted samples. Use `zero_division` parameter to control this behavior.\n",
      "  _warn_prf(average, modifier, msg_start, len(result))\n"
     ]
    }
   ],
   "source": [
    "import pandas as pd\n",
    "import seaborn as sns\n",
    "import matplotlib.pyplot as plt\n",
    "from sklearn.metrics import confusion_matrix, classification_report\n",
    "\n",
    "def print_confusion_matrix(y_true, y_pred, report=True):\n",
    "    labels = sorted(list(set(y_true)))\n",
    "    cmx_data = confusion_matrix(y_true, y_pred, labels=labels)\n",
    "    \n",
    "    df_cmx = pd.DataFrame(cmx_data, index=labels, columns=labels)\n",
    " \n",
    "    fig, ax = plt.subplots(figsize=(7, 6))\n",
    "    sns.heatmap(df_cmx, annot=True, fmt='g' ,square=False)\n",
    "    ax.set_ylim(len(set(y_true)), 0)\n",
    "    plt.show()\n",
    "    \n",
    "    if report:\n",
    "        print('Classification Report')\n",
    "        print(classification_report(y_test, y_pred))\n",
    "\n",
    "Y_pred = model.predict(X_test)\n",
    "y_pred = np.argmax(Y_pred, axis=1)\n",
    "\n",
    "print_confusion_matrix(y_test, y_pred)"
   ]
  },
  {
   "cell_type": "markdown",
   "metadata": {
    "id": "FNP6aqzc9hE5"
   },
   "source": [
    "# Convert to model for Tensorflow-Lite"
   ]
  },
  {
   "cell_type": "code",
   "execution_count": 38,
   "metadata": {
    "id": "ODjnYyld9hE6"
   },
   "outputs": [],
   "source": [
    "# Save as a model dedicated to inference\n",
    "model.save(model_save_path, include_optimizer=False)"
   ]
  },
  {
   "cell_type": "code",
   "execution_count": 39,
   "metadata": {
    "colab": {
     "base_uri": "https://localhost:8080/"
    },
    "id": "zRfuK8Y59hE6",
    "outputId": "a4ca585c-b5d5-4244-8291-8674063209bb"
   },
   "outputs": [
    {
     "name": "stdout",
     "output_type": "stream",
     "text": [
      "INFO:tensorflow:Assets written to: C:\\Users\\ryan6\\AppData\\Local\\Temp\\tmpaqw0sh5m\\assets\n"
     ]
    },
    {
     "name": "stderr",
     "output_type": "stream",
     "text": [
      "INFO:tensorflow:Assets written to: C:\\Users\\ryan6\\AppData\\Local\\Temp\\tmpaqw0sh5m\\assets\n",
      "WARNING:absl:Buffer deduplication procedure will be skipped when flatbuffer library is not properly loaded\n"
     ]
    },
    {
     "data": {
      "text/plain": [
       "6480"
      ]
     },
     "execution_count": 39,
     "metadata": {},
     "output_type": "execute_result"
    }
   ],
   "source": [
    "# Transform model (quantization)\n",
    "\n",
    "converter = tf.lite.TFLiteConverter.from_keras_model(model)\n",
    "converter.optimizations = [tf.lite.Optimize.DEFAULT]\n",
    "tflite_quantized_model = converter.convert()\n",
    "\n",
    "open(tflite_save_path, 'wb').write(tflite_quantized_model)"
   ]
  },
  {
   "cell_type": "markdown",
   "metadata": {
    "id": "CHBPBXdx9hE6"
   },
   "source": [
    "# Inference test"
   ]
  },
  {
   "cell_type": "code",
   "execution_count": 40,
   "metadata": {
    "id": "mGAzLocO9hE7"
   },
   "outputs": [],
   "source": [
    "interpreter = tf.lite.Interpreter(model_path=tflite_save_path)\n",
    "interpreter.allocate_tensors()"
   ]
  },
  {
   "cell_type": "code",
   "execution_count": 41,
   "metadata": {
    "id": "oQuDK8YS9hE7"
   },
   "outputs": [],
   "source": [
    "# Get I / O tensor\n",
    "input_details = interpreter.get_input_details()\n",
    "output_details = interpreter.get_output_details()"
   ]
  },
  {
   "cell_type": "code",
   "execution_count": 42,
   "metadata": {
    "id": "2_ixAf_l9hE7"
   },
   "outputs": [],
   "source": [
    "interpreter.set_tensor(input_details[0]['index'], np.array([X_test[0]]))"
   ]
  },
  {
   "cell_type": "code",
   "execution_count": 43,
   "metadata": {
    "colab": {
     "base_uri": "https://localhost:8080/"
    },
    "id": "s4FoAnuc9hE7",
    "outputId": "91f18257-8d8b-4ef3-c558-e9b5f94fabbf",
    "scrolled": true
   },
   "outputs": [
    {
     "name": "stdout",
     "output_type": "stream",
     "text": [
      "Wall time: 0 ns\n"
     ]
    }
   ],
   "source": [
    "%%time\n",
    "# Inference implementation\n",
    "interpreter.invoke()\n",
    "tflite_results = interpreter.get_tensor(output_details[0]['index'])"
   ]
  },
  {
   "cell_type": "code",
   "execution_count": 44,
   "metadata": {
    "colab": {
     "base_uri": "https://localhost:8080/"
    },
    "id": "vONjp19J9hE8",
    "outputId": "77205e24-fd00-42c4-f7b6-e06e527c2cba"
   },
   "outputs": [
    {
     "name": "stdout",
     "output_type": "stream",
     "text": [
      "[9.5962864e-01 3.4414764e-02 2.9952652e-04 1.7678789e-06 5.6552850e-03]\n",
      "0\n"
     ]
    }
   ],
   "source": [
    "print(np.squeeze(tflite_results))\n",
    "print(np.argmax(np.squeeze(tflite_results)))"
   ]
  }
 ],
 "metadata": {
  "accelerator": "GPU",
  "colab": {
   "collapsed_sections": [],
   "name": "keypoint_classification_EN.ipynb",
   "provenance": [],
   "toc_visible": true
  },
  "kernelspec": {
   "display_name": "hand",
   "language": "python",
   "name": "hand"
  },
  "language_info": {
   "codemirror_mode": {
    "name": "ipython",
    "version": 3
   },
   "file_extension": ".py",
   "mimetype": "text/x-python",
   "name": "python",
   "nbconvert_exporter": "python",
   "pygments_lexer": "ipython3",
   "version": "3.10.4"
  }
 },
 "nbformat": 4,
 "nbformat_minor": 1
}
